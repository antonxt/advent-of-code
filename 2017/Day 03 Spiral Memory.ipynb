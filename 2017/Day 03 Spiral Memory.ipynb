{
 "cells": [
  {
   "cell_type": "code",
   "execution_count": 1,
   "metadata": {},
   "outputs": [],
   "source": [
    "import itertools\n",
    "# Part 1: Each next block = previous + 1\n",
    "def numSteps(blockNum):\n",
    "    matrix = {}\n",
    "    directions = itertools.cycle([(1, 0), (0, 1), (-1, 0), (0, -1)])\n",
    "    currD = next(directions)\n",
    "    nextD = next(directions)\n",
    "\n",
    "    x = y = 0\n",
    "    for i in range(1, blockNum):\n",
    "        matrix[x, y] = i\n",
    "        nextX = x + nextD[0]\n",
    "        nextY = y + nextD[1]\n",
    "        if not (nextX, nextY) in matrix: # Making a turn\n",
    "            currD = nextD\n",
    "            nextD = next(directions)\n",
    "        else: # Continue moving in the same direction\n",
    "            nextX = x + currD[0]\n",
    "            nextY = y + currD[1]\n",
    "        x, y = nextX, nextY\n",
    "    return abs(x) + abs(y)"
   ]
  },
  {
   "cell_type": "code",
   "execution_count": null,
   "metadata": {},
   "outputs": [],
   "source": [
    "print(1, numSteps(1))\n",
    "print(12, numSteps(12))\n",
    "print(23, numSteps(23))\n",
    "print(1024, numSteps(1024))\n",
    "print(265149, numSteps(265149))"
   ]
  },
  {
   "cell_type": "code",
   "execution_count": 5,
   "metadata": {},
   "outputs": [
    {
     "name": "stdout",
     "output_type": "stream",
     "text": [
      "23\n",
      "266330\n"
     ]
    }
   ],
   "source": [
    "# Part 2: Next block = sum of adjacent\n",
    "\n",
    "def firstLarger(val):\n",
    "    matrix = {(0,0):1}\n",
    "    directions = itertools.cycle([(1, 0), (0, 1), (-1, 0), (0, -1)])\n",
    "    currD = next(directions)\n",
    "    nextD = next(directions)\n",
    "\n",
    "    x = 1\n",
    "    y = 0\n",
    "    i = 1\n",
    "    while i < val:\n",
    "        adjacent = [(x-1, y-1), (x, y-1), (x+1, y-1), (x-1, y), (x+1, y), (x-1, y+1), (x, y+1), (x+1, y+1)]\n",
    "        i = sum(matrix[i] for i in adjacent if i in matrix)\n",
    "        matrix[x, y] = i\n",
    "        nextX = x + nextD[0]\n",
    "        nextY = y + nextD[1]\n",
    "        if not (nextX, nextY) in matrix: # Making a turn\n",
    "            currD = nextD\n",
    "            nextD = next(directions)\n",
    "        else: # Continue moving in the same direction\n",
    "            nextX = x + currD[0]\n",
    "            nextY = y + currD[1]\n",
    "        x, y = nextX, nextY\n",
    "    return i\n",
    "\n",
    "print(firstLarger(18)) # 304\n",
    "print(firstLarger(265149))"
   ]
  },
  {
   "cell_type": "code",
   "execution_count": null,
   "metadata": {
    "collapsed": true
   },
   "outputs": [],
   "source": []
  }
 ],
 "metadata": {
  "kernelspec": {
   "display_name": "Python 3",
   "language": "python",
   "name": "python3"
  },
  "language_info": {
   "codemirror_mode": {
    "name": "ipython",
    "version": 3
   },
   "file_extension": ".py",
   "mimetype": "text/x-python",
   "name": "python",
   "nbconvert_exporter": "python",
   "pygments_lexer": "ipython3",
   "version": "3.6.3"
  }
 },
 "nbformat": 4,
 "nbformat_minor": 2
}
