{
 "cells": [
  {
   "cell_type": "code",
   "execution_count": 9,
   "metadata": {},
   "outputs": [
    {
     "name": "stdout",
     "output_type": "stream",
     "text": [
      "451\n",
      "223\n"
     ]
    }
   ],
   "source": [
    "file = open(\"day4.txt\", \"r\")\n",
    "valid1 = valid2 = 0\n",
    "for line in file:\n",
    "    words = line.replace('\\n', '').split(' ')\n",
    "    orderedWords = [''.join(sorted(word)) for word in words]\n",
    "    if len(words) == len(set(words)):\n",
    "        valid1 += 1\n",
    "    if len(words) == len(set(orderedWords)):\n",
    "        valid2 += 1\n",
    "\n",
    "print(valid1)\n",
    "print(valid2)"
   ]
  },
  {
   "cell_type": "code",
   "execution_count": null,
   "metadata": {
    "collapsed": true
   },
   "outputs": [],
   "source": []
  }
 ],
 "metadata": {
  "kernelspec": {
   "display_name": "Python 3",
   "language": "python",
   "name": "python3"
  },
  "language_info": {
   "codemirror_mode": {
    "name": "ipython",
    "version": 3
   },
   "file_extension": ".py",
   "mimetype": "text/x-python",
   "name": "python",
   "nbconvert_exporter": "python",
   "pygments_lexer": "ipython3",
   "version": "3.6.3"
  }
 },
 "nbformat": 4,
 "nbformat_minor": 2
}
