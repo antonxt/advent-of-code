{
 "cells": [
  {
   "cell_type": "code",
   "execution_count": 15,
   "metadata": {},
   "outputs": [
    {
     "name": "stdout",
     "output_type": "stream",
     "text": [
      "Zero delay severity: 1476, caught: True\n"
     ]
    },
    {
     "data": {
      "text/plain": [
       "3937334"
      ]
     },
     "execution_count": 15,
     "metadata": {},
     "output_type": "execute_result"
    }
   ],
   "source": [
    "def tripSeverity(config, delay=0):\n",
    "    total_severity = 0\n",
    "    caught = False\n",
    "    for t in range(max(config.keys()) + 1):\n",
    "        if not t in config:\n",
    "            continue\n",
    "        severity = config[t]\n",
    "        if (t + delay) % (2*severity - 2) == 0:\n",
    "            caught = True\n",
    "            total_severity += t * severity\n",
    "    return total_severity, caught\n",
    "\n",
    "def load(fileName):\n",
    "    return {int(s.split(':')[0]): int(s.split(':')[1]) for s in open(fileName, 'r')}\n",
    "\n",
    "# Part 1 - severity with zero delay\n",
    "\n",
    "print('No delay severity: {}, caught: {}'.format(*tripSeverity(load('day13.txt'))))\n",
    "\n",
    "# Part 2 - which delay will lead to zero total severity\n",
    "def delayZeroSeverity(fileName):\n",
    "    config = load(fileName)\n",
    "    for delay in range(10000000):\n",
    "        severity, caught = tripSeverity(config, delay)\n",
    "        if not caught:\n",
    "            return delay\n",
    "        delay += 1\n",
    "\n",
    "delayZeroSeverity('day13.txt')"
   ]
  }
 ],
 "metadata": {
  "kernelspec": {
   "display_name": "Python 3",
   "language": "python",
   "name": "python3"
  },
  "language_info": {
   "codemirror_mode": {
    "name": "ipython",
    "version": 3
   },
   "file_extension": ".py",
   "mimetype": "text/x-python",
   "name": "python",
   "nbconvert_exporter": "python",
   "pygments_lexer": "ipython3",
   "version": "3.6.3"
  }
 },
 "nbformat": 4,
 "nbformat_minor": 2
}
