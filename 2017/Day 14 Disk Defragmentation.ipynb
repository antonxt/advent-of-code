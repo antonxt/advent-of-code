{
 "cells": [
  {
   "cell_type": "code",
   "execution_count": 1,
   "metadata": {},
   "outputs": [
    {
     "name": "stdout",
     "output_type": "stream",
     "text": [
      "Part 1 result: 38415\n",
      "In: \"\", expected: a2582a3a0e66e6e86e3812dcb672a272, factual: a2582a3a0e66e6e86e3812dcb672a272, check: True\n",
      "In: \"AoC 2017\", expected: 33efeb34ea91902bb2f59c9920caa6cd, factual: 33efeb34ea91902bb2f59c9920caa6cd, check: True\n",
      "In: \"1,2,3\", expected: 3efbe78a8d82f29979031a4aa0b16a9d, factual: 3efbe78a8d82f29979031a4aa0b16a9d, check: True\n",
      "In: \"1,2,4\", expected: 63960835bcdc130f0b66d7ff4f6a5a8e, factual: 63960835bcdc130f0b66d7ff4f6a5a8e, check: True\n"
     ]
    }
   ],
   "source": [
    "# Import the knot hash function done earlier at Day 10\n",
    "%run 'Day 10 Knot Hash.ipynb'"
   ]
  },
  {
   "cell_type": "code",
   "execution_count": 2,
   "metadata": {
    "collapsed": true
   },
   "outputs": [],
   "source": [
    "def countUsed(input_s):\n",
    "    return sum(sum(row) for row in loadField(input_s))\n",
    "\n",
    "def loadField(input_s):\n",
    "    field = []\n",
    "    for i in range(128):\n",
    "        row = []\n",
    "        rhash = knotHash('{}-{}'.format(input_s, i))\n",
    "        hexes = [rhash[i:i+2] for i in range(0, len(rhash), 2)]\n",
    "        for s in hexes:\n",
    "            row += [int(c) for c in '{:08b}'.format(int(s, 16))]\n",
    "        field.append(row)\n",
    "    return field"
   ]
  },
  {
   "cell_type": "code",
   "execution_count": 3,
   "metadata": {},
   "outputs": [],
   "source": [
    "test_input = 'flqrgnkx'\n",
    "puzzle_input = 'vbqugkhl'\n",
    "\n",
    "# Test for part 1\n",
    "tests = {test_input: 8108, puzzle_input: 8148}\n",
    "for inpt, expected in tests.items():\n",
    "    actual = countUsed(inpt)\n",
    "    if actual != expected:\n",
    "        print('countUsed({}) failed: expected {}, got {}'.format(inpt, expected, actual))"
   ]
  },
  {
   "cell_type": "code",
   "execution_count": 4,
   "metadata": {},
   "outputs": [],
   "source": [
    "# Part 2 - Count regions\n",
    "diffs = [(1,0), (0,1), (-1,0), (0,-1)]\n",
    "\n",
    "def count_regions(input_s):\n",
    "    f = loadField(input_s)\n",
    "    reg_num = 2 # Because 0 and 1 mean empty and occupied regions, region numbers would start with 2 and go up\n",
    "    mi, mj = len(f), len(f[0])\n",
    "\n",
    "    def set_region(i, j, region):\n",
    "        f[i][j] = region\n",
    "        for diff in diffs:\n",
    "            ni, nj = i + diff[0], j + diff[1]\n",
    "            if 0 <= ni < mi and 0 <= nj < mj and f[ni][nj] == 1:\n",
    "                set_region(ni, nj, region)\n",
    "\n",
    "    for i in range(mi):\n",
    "        for j in range(mj):\n",
    "            if f[i][j] == 1:\n",
    "                set_region(i, j, reg_num)\n",
    "                reg_num +=1\n",
    "\n",
    "    return reg_num - 2\n",
    "\n",
    "def print_field(field): # For debug\n",
    "    for j in range(32):\n",
    "        print('{:02}: {}'.format(j, ''.join('.' if i == 0 else str(i) for i in field[j])[:-32]))"
   ]
  },
  {
   "cell_type": "code",
   "execution_count": 7,
   "metadata": {},
   "outputs": [
    {
     "name": "stdout",
     "output_type": "stream",
     "text": [
      "Regions in puzzle input \"vbqugkhl\" = 1180\n"
     ]
    }
   ],
   "source": [
    "test_count = count_regions(test_input)\n",
    "if test_count != 1242:\n",
    "    print('count_regions({}) failed: expected 1242, got {}'.format(inpt, test_count))\n",
    "\n",
    "print('Regions in puzzle input \"{}\" = {}'.format(puzzle_input, count_regions(puzzle_input)))"
   ]
  }
 ],
 "metadata": {
  "kernelspec": {
   "display_name": "Python 3",
   "language": "python",
   "name": "python3"
  },
  "language_info": {
   "codemirror_mode": {
    "name": "ipython",
    "version": 3
   },
   "file_extension": ".py",
   "mimetype": "text/x-python",
   "name": "python",
   "nbconvert_exporter": "python",
   "pygments_lexer": "ipython3",
   "version": "3.6.3"
  }
 },
 "nbformat": 4,
 "nbformat_minor": 2
}
