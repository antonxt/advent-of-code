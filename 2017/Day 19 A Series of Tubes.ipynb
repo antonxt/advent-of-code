{
 "cells": [
  {
   "cell_type": "markdown",
   "metadata": {
    "cell_style": "center"
   },
   "source": [
    "## Part 1"
   ]
  },
  {
   "cell_type": "code",
   "execution_count": 1,
   "metadata": {
    "ExecuteTime": {
     "end_time": "2017-12-19T14:54:51.184514Z",
     "start_time": "2017-12-19T14:54:51.170836Z"
    },
    "cell_style": "center"
   },
   "outputs": [
    {
     "name": "stdout",
     "output_type": "stream",
     "text": [
      "   0000000000111111\n",
      "   0123456789012345\n",
      "00      |          \n",
      "01      |  +--+    \n",
      "02      A  |  C    \n",
      "03  F---|----E|--+ \n",
      "04      |  |  |  D \n",
      "05      +B-+  +--+ \n"
     ]
    }
   ],
   "source": [
    "test_in = '     |          ,\\\n",
    "     |  +--+    ,\\\n",
    "     A  |  C    ,\\\n",
    " F---|----E|--+ ,\\\n",
    "     |  |  |  D ,\\\n",
    "     +B-+  +--+ '.split(',')\n",
    "\n",
    "def prnt(inp):  # Prints the map to the console\n",
    "    st = 0\n",
    "    en = len(inp[0])\n",
    "    print('   {}'.format(''.join(str(i//10) for i in range(st, en))))\n",
    "    print('   {}'.format(''.join(str(i%10) for i in range(st, en))))\n",
    "    for i in range(len(inp)):\n",
    "        print('{:02} {}'.format(i, inp[i]))\n",
    "\n",
    "prnt(test_in)"
   ]
  },
  {
   "cell_type": "code",
   "execution_count": 2,
   "metadata": {
    "ExecuteTime": {
     "end_time": "2017-12-19T14:54:51.267625Z",
     "start_time": "2017-12-19T14:54:51.186408Z"
    },
    "collapsed": true
   },
   "outputs": [],
   "source": [
    "next_drs = {  # Current direction --> Next possible directions in order of priority (straight, turn, turn)\n",
    "    (0,1): [(0,1), (1,0), (-1,0)],\n",
    "    (0,-1): [(0,-1), (1,0), (-1,0)],\n",
    "    (1,0): [(1,0), (0,1), (0,-1)],\n",
    "    (-1,0): [(-1,0), (0,1), (0,-1)],\n",
    "}\n",
    "A, Z = ord('A'), ord('Z')\n",
    "\n",
    "def prn_dr(dr):  # Direction tuple to print-friendly arrow\n",
    "    return {(0,1):'→', (0,-1):'←', (1,0):'↓', (-1,0):'↑'}[dr]\n",
    "\n",
    "def follow_path(map_):\n",
    "    i, j= 0, map_[0].index('|')\n",
    "\n",
    "    def within(x, y): # Is (x, y) within the map area?\n",
    "        return 0 <= x < len(map_) and 0 <= y < len(map_[0])\n",
    "\n",
    "    dr , letters, path = (1,0), [], []\n",
    "    while True:\n",
    "        state = (prn_dr(dr), i, j, map_[i][j])\n",
    "        if state in path:\n",
    "            raise Exception('Cycled: {}'.format(path))\n",
    "        path.append(state)\n",
    "        if A <= ord(state[3]) <= Z:\n",
    "            letters.append(state[3])\n",
    "        \n",
    "        route_ended = True\n",
    "        for next_dr in next_drs[dr]:\n",
    "            ni, nj = i + next_dr[0], j + next_dr[1]\n",
    "            if within(ni, nj) and ' ' != map_[ni][nj]:\n",
    "                i, j, dr, route_ended = ni, nj, next_dr, False\n",
    "                break\n",
    "\n",
    "        if route_ended:\n",
    "            return ''.join(letters), path"
   ]
  },
  {
   "cell_type": "code",
   "execution_count": 3,
   "metadata": {
    "ExecuteTime": {
     "end_time": "2017-12-19T14:54:51.274846Z",
     "start_time": "2017-12-19T14:54:51.269936Z"
    },
    "cell_style": "center",
    "code_folding": []
   },
   "outputs": [],
   "source": [
    "expected = 'ABCDEF'\n",
    "actual = follow_path(test_in)[0]\n",
    "assert expected == actual, 'Expected {}, got {}'.format(expected, actual)"
   ]
  },
  {
   "cell_type": "code",
   "execution_count": 4,
   "metadata": {
    "ExecuteTime": {
     "end_time": "2017-12-19T14:54:55.047414Z",
     "start_time": "2017-12-19T14:54:51.277392Z"
    }
   },
   "outputs": [
    {
     "name": "stdout",
     "output_type": "stream",
     "text": [
      "Answer to part 1: SXPZDFJNRL\n"
     ]
    }
   ],
   "source": [
    "puzzle_in = [l[:-1] if l.endswith('\\n') else l for l in open('day19.txt', 'r')]\n",
    "print('Answer to part 1: {}'.format(follow_path(puzzle_in)[0]))"
   ]
  },
  {
   "cell_type": "markdown",
   "metadata": {},
   "source": [
    "## Part 2 - How many steps?"
   ]
  },
  {
   "cell_type": "code",
   "execution_count": 5,
   "metadata": {
    "ExecuteTime": {
     "end_time": "2017-12-19T14:54:55.053419Z",
     "start_time": "2017-12-19T14:54:55.049623Z"
    },
    "collapsed": true
   },
   "outputs": [],
   "source": [
    "expected = 38\n",
    "actual = len(follow_path(test_in)[1])\n",
    "assert expected == actual, 'Expected {} steps, got {}'.format(expected, actual)"
   ]
  },
  {
   "cell_type": "code",
   "execution_count": 6,
   "metadata": {
    "ExecuteTime": {
     "end_time": "2017-12-19T14:54:58.897532Z",
     "start_time": "2017-12-19T14:54:55.055333Z"
    }
   },
   "outputs": [
    {
     "name": "stdout",
     "output_type": "stream",
     "text": [
      "Answer to part 2: 18126\n"
     ]
    }
   ],
   "source": [
    "print('Answer to part 2: {}'.format(len(follow_path(puzzle_in)[1])))"
   ]
  }
 ],
 "metadata": {
  "kernelspec": {
   "display_name": "Python 3",
   "language": "python",
   "name": "python3"
  },
  "language_info": {
   "codemirror_mode": {
    "name": "ipython",
    "version": 3
   },
   "file_extension": ".py",
   "mimetype": "text/x-python",
   "name": "python",
   "nbconvert_exporter": "python",
   "pygments_lexer": "ipython3",
   "version": "3.6.3"
  },
  "toc": {
   "nav_menu": {},
   "number_sections": true,
   "sideBar": true,
   "skip_h1_title": false,
   "toc_cell": false,
   "toc_position": {
    "height": "877px",
    "left": "0px",
    "right": "1708px",
    "top": "107px",
    "width": "212px"
   },
   "toc_section_display": "block",
   "toc_window_display": false
  },
  "varInspector": {
   "cols": {
    "lenName": 16,
    "lenType": 16,
    "lenVar": 40
   },
   "kernels_config": {
    "python": {
     "delete_cmd_postfix": "",
     "delete_cmd_prefix": "del ",
     "library": "var_list.py",
     "varRefreshCmd": "print(var_dic_list())"
    },
    "r": {
     "delete_cmd_postfix": ") ",
     "delete_cmd_prefix": "rm(",
     "library": "var_list.r",
     "varRefreshCmd": "cat(var_dic_list()) "
    }
   },
   "types_to_exclude": [
    "module",
    "function",
    "builtin_function_or_method",
    "instance",
    "_Feature"
   ],
   "window_display": false
  }
 },
 "nbformat": 4,
 "nbformat_minor": 2
}
