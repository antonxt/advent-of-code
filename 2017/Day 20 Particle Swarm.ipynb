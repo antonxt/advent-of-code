{
 "cells": [
  {
   "cell_type": "markdown",
   "metadata": {
    "run_control": {
     "marked": false
    }
   },
   "source": [
    "## Part 1 - Closest to (0, 0, 0) in the long run\n",
    "The particle with the lowest absolute acceleration will be the closest to the center in the long run.\n",
    "\n",
    "Manhattan Distance should be used: `acceleration = abs(ax) + abs(ay) + abs(az)`"
   ]
  },
  {
   "cell_type": "code",
   "execution_count": 1,
   "metadata": {
    "ExecuteTime": {
     "end_time": "2017-12-31T10:50:57.541317Z",
     "start_time": "2017-12-31T10:50:57.445578Z"
    },
    "run_control": {
     "marked": false
    }
   },
   "outputs": [
    {
     "name": "stdout",
     "output_type": "stream",
     "text": [
      "Answer to part 1: Particle index whose acceleration is the lowest is 150.\n"
     ]
    }
   ],
   "source": [
    "import numpy as np\n",
    "\n",
    "file = open('in/day20.txt', 'r')\n",
    "poss, vels, accs = [], [], []\n",
    "\n",
    "for s in file:\n",
    "    poss.append(tuple(int(n) for n in s[s.find('p=<')+3:s.find('>, v=<')].split(',')))\n",
    "    vels.append(tuple(int(n) for n in s[s.find('v=<')+3:s.find('>, a=<')].split(',')))\n",
    "    accs.append(tuple(int(n) for n in s[s.find('a=<')+3:s.rfind('>')].split(',')))\n",
    "\n",
    "p, v, a = np.array(poss), np.array(vels), np.array(accs)\n",
    "\n",
    "acc_abs = np.abs(accs).sum(axis=-1)  # Absolute values of accelerations of each particle\n",
    "min_abs_acc = np.where(acc_abs == acc_abs.min())[0]  # Array of indexes with absolute acceleration = min\n",
    "assert len(min_abs_acc) == 1\n",
    "# If there were more than 1 such particles - initial velocity should have been considered.\n",
    "\n",
    "print(f'Answer to part 1: Particle index whose acceleration is the lowest is {min_abs_acc[0]}.')  # 150"
   ]
  },
  {
   "cell_type": "markdown",
   "metadata": {
    "run_control": {
     "marked": false
    }
   },
   "source": [
    "## Part 2 - How many particles collided?"
   ]
  },
  {
   "cell_type": "code",
   "execution_count": 2,
   "metadata": {
    "ExecuteTime": {
     "end_time": "2017-12-31T10:50:58.927655Z",
     "start_time": "2017-12-31T10:50:57.542818Z"
    },
    "run_control": {
     "marked": false
    }
   },
   "outputs": [
    {
     "name": "stdout",
     "output_type": "stream",
     "text": [
      "Starting simulation with 1000 particles\n",
      "\n",
      "t=09, collided 21, after collisions remain 979 particles\n",
      "t=10, collided 7, after collisions remain 972 particles\n",
      "t=11, collided 16, after collisions remain 956 particles\n",
      "t=12, collided 8, after collisions remain 948 particles\n",
      "t=13, collided 12, after collisions remain 936 particles\n",
      "t=15, collided 12, after collisions remain 924 particles\n",
      "t=16, collided 24, after collisions remain 900 particles\n",
      "t=17, collided 14, after collisions remain 886 particles\n",
      "t=19, collided 15, after collisions remain 871 particles\n",
      "t=20, collided 26, after collisions remain 845 particles\n",
      "t=22, collided 9, after collisions remain 836 particles\n",
      "t=23, collided 10, after collisions remain 826 particles\n",
      "t=24, collided 23, after collisions remain 803 particles\n",
      "t=25, collided 16, after collisions remain 787 particles\n",
      "t=26, collided 10, after collisions remain 777 particles\n",
      "t=27, collided 12, after collisions remain 765 particles\n",
      "t=28, collided 10, after collisions remain 755 particles\n",
      "t=29, collided 12, after collisions remain 743 particles\n",
      "t=30, collided 4, after collisions remain 739 particles\n",
      "t=31, collided 2, after collisions remain 737 particles\n",
      "t=32, collided 13, after collisions remain 724 particles\n",
      "t=33, collided 7, after collisions remain 717 particles\n",
      "t=35, collided 16, after collisions remain 701 particles\n",
      "t=36, collided 13, after collisions remain 688 particles\n",
      "t=37, collided 3, after collisions remain 685 particles\n",
      "t=38, collided 28, after collisions remain 657 particles\n",
      "\n",
      "Part 2 answer: after 9999 steps remain 657 particles\n"
     ]
    }
   ],
   "source": [
    "print(f'Starting simulation with {len(p)} particles\\n')\n",
    "for t in range(10000):\n",
    "    v += a\n",
    "    p += v\n",
    "    unique, idx, counts = np.unique(p, axis=0, return_index=True, return_counts=True)\n",
    "    collision_mask = counts > 1\n",
    "    if True in collision_mask:  # Collisions (non-unique positions) found\n",
    "        collision_idx = idx[collision_mask]\n",
    "        collision_poss = {tuple(pos) for pos in unique[collision_mask].tolist()}  # Duplicated positions (collisions) to be removed\n",
    "        collision_idx = [i for i in range(p.shape[0]) if tuple(p[i].tolist()) in collision_poss]\n",
    "        p = np.delete(p, collision_idx, axis=0)\n",
    "        v = np.delete(v, collision_idx, axis=0)\n",
    "        a = np.delete(a, collision_idx, axis=0)\n",
    "        print(f't={t:02}, collided {len(collision_idx)}, after collisions remain {p.shape[0]} particles')\n",
    "\n",
    "print(f'\\nPart 2 answer: after {t} steps remain {p.shape[0]} particles')  # 657"
   ]
  }
 ],
 "metadata": {
  "kernelspec": {
   "display_name": "Python 3",
   "language": "python",
   "name": "python3"
  },
  "language_info": {
   "codemirror_mode": {
    "name": "ipython",
    "version": 3
   },
   "file_extension": ".py",
   "mimetype": "text/x-python",
   "name": "python",
   "nbconvert_exporter": "python",
   "pygments_lexer": "ipython3",
   "version": "3.6.3"
  },
  "toc": {
   "nav_menu": {},
   "number_sections": false,
   "sideBar": true,
   "skip_h1_title": false,
   "toc_cell": false,
   "toc_position": {},
   "toc_section_display": "none",
   "toc_window_display": false
  },
  "varInspector": {
   "cols": {
    "lenName": 16,
    "lenType": 16,
    "lenVar": 40
   },
   "kernels_config": {
    "python": {
     "delete_cmd_postfix": "",
     "delete_cmd_prefix": "del ",
     "library": "var_list.py",
     "varRefreshCmd": "print(var_dic_list())"
    },
    "r": {
     "delete_cmd_postfix": ") ",
     "delete_cmd_prefix": "rm(",
     "library": "var_list.r",
     "varRefreshCmd": "cat(var_dic_list()) "
    }
   },
   "types_to_exclude": [
    "module",
    "function",
    "builtin_function_or_method",
    "instance",
    "_Feature"
   ],
   "window_display": false
  }
 },
 "nbformat": 4,
 "nbformat_minor": 2
}
