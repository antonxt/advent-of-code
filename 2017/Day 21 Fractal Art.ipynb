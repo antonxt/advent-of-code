{
 "cells": [
  {
   "cell_type": "markdown",
   "metadata": {},
   "source": [
    "## Part 1\n",
    "How many pixels stay on after `5` iterations?"
   ]
  },
  {
   "cell_type": "markdown",
   "metadata": {
    "heading_collapsed": true
   },
   "source": [
    "### Pretty printing"
   ]
  },
  {
   "cell_type": "code",
   "execution_count": 1,
   "metadata": {
    "ExecuteTime": {
     "end_time": "2017-12-23T00:32:16.081173Z",
     "start_time": "2017-12-23T00:32:16.075843Z"
    },
    "hidden": true
   },
   "outputs": [],
   "source": [
    "import pprint\n",
    "\n",
    "\n",
    "def p_print(data):\n",
    "    pp = pprint.PrettyPrinter(indent=2, compact=True)\n",
    "    pp.pprint(data)\n",
    "\n",
    "\n",
    "def print_img(img):\n",
    "    print()\n",
    "    print('\\n'.join(img))"
   ]
  },
  {
   "cell_type": "markdown",
   "metadata": {
    "heading_collapsed": true
   },
   "source": [
    "### Image transformation methods"
   ]
  },
  {
   "cell_type": "code",
   "execution_count": 2,
   "metadata": {
    "ExecuteTime": {
     "end_time": "2017-12-23T00:32:16.124578Z",
     "start_time": "2017-12-23T00:32:16.082895Z"
    },
    "hidden": true
   },
   "outputs": [],
   "source": [
    "def row_to_img(one_row_img):\n",
    "    return tuple(one_row_img.split('/'))\n",
    "\n",
    "\n",
    "def rotate(img):\n",
    "    '''Rotates img clockwise'''\n",
    "    si, sj, rot = len(img), len(img[0]), []\n",
    "    for j in range(sj):\n",
    "        row = []\n",
    "        for i in range(si):\n",
    "            row.append(img[si - 1 - i][j])\n",
    "        rot.append(''.join(row))\n",
    "    return tuple(rot)\n",
    "\n",
    "\n",
    "def flip_h(img):\n",
    "    si, sj, flp = len(img), len(img[0]), []\n",
    "    for i in range(si):\n",
    "        row = []\n",
    "        for j in range(sj):\n",
    "            row.append(img[i][sj - 1 - j])\n",
    "        flp.append(''.join(row))\n",
    "    return tuple(flp)\n",
    "\n",
    "\n",
    "test, rotated = row_to_img('##./#.#/#../#..'), row_to_img('####/...#/..#.')\n",
    "flipped_h = row_to_img('.##/#.#/..#/..#')\n",
    "assert rotated == rotate(test), flipped_h == flip_h(test)\n",
    "\n",
    "\n",
    "def permutations(img):\n",
    "    return {\n",
    "        img,\n",
    "        flip_h(img),\n",
    "        rotate(img),\n",
    "        flip_h(rotate(img)),\n",
    "        rotate(rotate(img)),\n",
    "        flip_h(rotate(rotate(img))),\n",
    "        rotate(rotate(rotate(img))),\n",
    "        flip_h(rotate(rotate(rotate(img))))\n",
    "    }\n",
    "\n",
    "\n",
    "assert len(permutations(test)) == 8  # Must be 8 unique permitations"
   ]
  },
  {
   "cell_type": "markdown",
   "metadata": {
    "heading_collapsed": true
   },
   "source": [
    "### Rules parsing"
   ]
  },
  {
   "cell_type": "code",
   "execution_count": 3,
   "metadata": {
    "ExecuteTime": {
     "end_time": "2017-12-23T00:32:16.139733Z",
     "start_time": "2017-12-23T00:32:16.126317Z"
    },
    "hidden": true
   },
   "outputs": [],
   "source": [
    "def parse_rules(lines):\n",
    "    rules = {}\n",
    "    for line in lines:\n",
    "        if line.endswith('\\n'):\n",
    "            line = line[:-1]\n",
    "        in_, out = line.split(' => ')\n",
    "        in_img = row_to_img(in_)\n",
    "        out_img = row_to_img(out)\n",
    "        for in_permutation in permutations(in_img):\n",
    "            rules[in_permutation] = out_img\n",
    "    return rules\n",
    "\n",
    "\n",
    "test_rules = parse_rules(\n",
    "    '../.# => ##./#../...,.#./..#/### => #..#/..../..../#..#'.split(','))"
   ]
  },
  {
   "cell_type": "markdown",
   "metadata": {},
   "source": [
    "### Image generation"
   ]
  },
  {
   "cell_type": "code",
   "execution_count": 4,
   "metadata": {
    "ExecuteTime": {
     "end_time": "2017-12-23T00:32:16.236663Z",
     "start_time": "2017-12-23T00:32:16.141770Z"
    }
   },
   "outputs": [],
   "source": [
    "def split_img(img):\n",
    "    splits_count = len(img) // 2 if len(img) % 2 == 0 else len(img) // 3\n",
    "    split_size = len(img) // splits_count\n",
    "    #print(f'Image size: {len(img)}, splits: {splits_count}, split size: {split_size}')\n",
    "    splits = []\n",
    "    for si in range(splits_count):\n",
    "        splits_row = []\n",
    "        splits.append(splits_row)\n",
    "        for sj in range(splits_count):\n",
    "            split = []\n",
    "            for i in range(split_size):\n",
    "                split_row = []\n",
    "                for j in range(split_size):\n",
    "                    split_row.append(\n",
    "                        img[i + split_size * si][j + split_size * sj])\n",
    "                split.append(''.join(split_row))\n",
    "            splits_row.append(tuple(split))\n",
    "    return splits\n",
    "\n",
    "\n",
    "def join_splits(splits):\n",
    "    generated = []\n",
    "    size = len(splits[0][0])\n",
    "    for splits_row in splits:\n",
    "        for i in range(size):\n",
    "            generated.append(''.join([split[i] for split in splits_row]))\n",
    "    return tuple(generated)\n",
    "\n",
    "\n",
    "def generate(img, rules):\n",
    "    processed_splits = []\n",
    "    for splits_row in split_img(img):\n",
    "        processed_row = []\n",
    "        processed_splits.append(processed_row)\n",
    "        for split in splits_row:\n",
    "            processed_row.append(rules[split])\n",
    "    return join_splits(processed_splits)\n",
    "\n",
    "\n",
    "def generate_n(n, rules):\n",
    "    img = row_to_img('.#./..#/###')\n",
    "    for i in range(n):\n",
    "        #print(f'\\nIteration {i+1}:')\n",
    "        img = generate(img, rules)\n",
    "        #print(f'\\nImage after {i+1} iteration(-s):')\n",
    "        #print_img(img)\n",
    "    return img\n",
    "\n",
    "test_expected = row_to_img('##.##./#..#../....../##.##./#..#../......')\n",
    "test_actual = generate_n(2, test_rules)\n",
    "assert test_actual == test_expected\n",
    "\n",
    "def count_pixels(img):\n",
    "    return ''.join(img).count('#')\n",
    "\n",
    "assert count_pixels(test_actual) == 12"
   ]
  },
  {
   "cell_type": "markdown",
   "metadata": {},
   "source": [
    "### Part 1 image generation"
   ]
  },
  {
   "cell_type": "code",
   "execution_count": 5,
   "metadata": {
    "ExecuteTime": {
     "end_time": "2017-12-23T00:32:16.249989Z",
     "start_time": "2017-12-23T00:32:16.238554Z"
    }
   },
   "outputs": [
    {
     "name": "stdout",
     "output_type": "stream",
     "text": [
      "----------\n",
      "Part 1 answer: 123\n"
     ]
    }
   ],
   "source": [
    "puzzle_rules = parse_rules(list(open('in/day21.txt', 'r')))\n",
    "puzzle_img = generate_n(5, puzzle_rules)\n",
    "print('----------\\nPart 1 answer: {}'.format(count_pixels(puzzle_img)))"
   ]
  },
  {
   "cell_type": "markdown",
   "metadata": {},
   "source": [
    "### Answers to part 1\n",
    "`125` is too high.\n",
    "\n",
    "`123` is the right answer."
   ]
  },
  {
   "cell_type": "markdown",
   "metadata": {},
   "source": [
    "## Part 2 - 18 iterations\n",
    "How many pixels stay on after `18` iterations?"
   ]
  },
  {
   "cell_type": "code",
   "execution_count": 6,
   "metadata": {
    "ExecuteTime": {
     "end_time": "2017-12-23T00:32:19.124538Z",
     "start_time": "2017-12-23T00:32:16.252230Z"
    }
   },
   "outputs": [
    {
     "name": "stdout",
     "output_type": "stream",
     "text": [
      "Part 2 answer: 1984683\n"
     ]
    }
   ],
   "source": [
    "puzzle_img = generate_n(18, puzzle_rules)\n",
    "print('Part 2 answer: {}'.format(count_pixels(puzzle_img)))"
   ]
  },
  {
   "cell_type": "markdown",
   "metadata": {},
   "source": [
    "`1984683` is the correct answer."
   ]
  }
 ],
 "metadata": {
  "kernelspec": {
   "display_name": "Python 3",
   "language": "python",
   "name": "python3"
  },
  "language_info": {
   "codemirror_mode": {
    "name": "ipython",
    "version": 3
   },
   "file_extension": ".py",
   "mimetype": "text/x-python",
   "name": "python",
   "nbconvert_exporter": "python",
   "pygments_lexer": "ipython3",
   "version": "3.6.3"
  },
  "toc": {
   "nav_menu": {},
   "number_sections": false,
   "sideBar": true,
   "skip_h1_title": false,
   "toc_cell": false,
   "toc_position": {},
   "toc_section_display": "block",
   "toc_window_display": false
  },
  "varInspector": {
   "cols": {
    "lenName": 16,
    "lenType": 16,
    "lenVar": 40
   },
   "kernels_config": {
    "python": {
     "delete_cmd_postfix": "",
     "delete_cmd_prefix": "del ",
     "library": "var_list.py",
     "varRefreshCmd": "print(var_dic_list())"
    },
    "r": {
     "delete_cmd_postfix": ") ",
     "delete_cmd_prefix": "rm(",
     "library": "var_list.r",
     "varRefreshCmd": "cat(var_dic_list()) "
    }
   },
   "types_to_exclude": [
    "module",
    "function",
    "builtin_function_or_method",
    "instance",
    "_Feature"
   ],
   "window_display": false
  }
 },
 "nbformat": 4,
 "nbformat_minor": 2
}
