{
 "cells": [
  {
   "cell_type": "markdown",
   "metadata": {
    "run_control": {
     "marked": false
    }
   },
   "source": [
    "## Part 1\n",
    "How many times is the `mul` instruction invoked?\n",
    "\n",
    "- `set X Y` sets register `X` to the value of `Y`.\n",
    "- `sub X Y` decreases register `X` by the value of `Y`.\n",
    "- `mul X Y` sets register `X` to the result of multiplying the value contained in register `X` by the value of `Y`.\n",
    "- `jnz X Y` jumps with an offset of the value of `Y`, but only if the value of `X` is not zero. (An offset of `2` skips the next instruction, an offset of `-1` jumps to the previous instruction.)"
   ]
  },
  {
   "cell_type": "code",
   "execution_count": 1,
   "metadata": {
    "ExecuteTime": {
     "end_time": "2017-12-29T21:29:34.516817Z",
     "start_time": "2017-12-29T21:29:34.369648Z"
    },
    "cell_style": "center",
    "code_folding": [],
    "hide_input": false,
    "run_control": {
     "marked": false
    }
   },
   "outputs": [],
   "source": [
    "def parse(s):\n",
    "    try:\n",
    "        return int(s)\n",
    "    except ValueError:\n",
    "        return s\n",
    "\n",
    "class Processor():\n",
    "    def __init__(self, instructions):\n",
    "        self.registers = {chr(ord('a') + i): 0 for i in range(8)}\n",
    "        self.instructions, self.current_instruction, self.steps, self.mul_count = [], 0, 0, 0\n",
    "        for ins_s in instructions:\n",
    "            split = ins_s.split(' ')\n",
    "            self.instructions.append((split[0], parse(split[1]), parse(split[2])))\n",
    "\n",
    "    def __str__(self):\n",
    "        r_print = '\\n'.join([f'{register} = {value}' for register, value in self.registers.items()])\n",
    "        i_print_l = []\n",
    "        for i in range(len(self.instructions)):\n",
    "            ins = self.instructions[i]\n",
    "            instr_p = f'{ins[0]} {ins[1]} {ins[2]}'\n",
    "            i_print_l.append(f'{i:02}{\"*\" if i == self.current_instruction else \" \"}{instr_p}')\n",
    "        i_print = f'\\nInstructions (current = {self.current_instruction:02}):\\n' + '\\n'.join(i_print_l)\n",
    "        return f'Current step is {self.steps}, mul was called {self.mul_count} times\\n\\nRegisters:\\n{r_print}\\n{i_print}\\n'\n",
    "\n",
    "    def step(self, debug_=False):\n",
    "        cmd, x, y = self.instructions[self.current_instruction]\n",
    "        if cmd == 'set':\n",
    "            self.registers[x] = self.value_of(y)\n",
    "        elif cmd == 'sub':\n",
    "            self.registers[x] -= self.value_of(y)\n",
    "        elif cmd == 'mul':\n",
    "            self.registers[x] *= self.value_of(y)\n",
    "            self.mul_count += 1\n",
    "        elif cmd == 'jnz':\n",
    "            if self.value_of(x) != 0:\n",
    "                if debug_:\n",
    "                    self.debug()\n",
    "                self.current_instruction += self.value_of(y)\n",
    "                self.steps += 1\n",
    "                return\n",
    "        else:\n",
    "            raise ValueException(f'No such command: {cmd}')\n",
    "        if debug_:\n",
    "            self.debug()\n",
    "        self.current_instruction += 1\n",
    "        self.steps += 1\n",
    "\n",
    "    def value_of(self, y):\n",
    "        return y if isinstance(y, int) else self.registers[y]\n",
    "\n",
    "    def run(self, max_steps=10000, debug=False):\n",
    "        for i in range(max_steps):\n",
    "            if self.current_instruction > len(self.instructions) - 1:\n",
    "                return\n",
    "            self.step(debug)\n",
    "        raise Exception(f'Execution have not ended after {self.steps} steps. Processor dump:\\n{self}')\n",
    "\n",
    "    def debug(self):\n",
    "        i = self.instructions[self.current_instruction]\n",
    "        instr_p = f'{i[0]} {i[1]} {i[2]}'.ljust(14)\n",
    "        regs = ''.join([f'{reg}={val}'.ljust(13) for reg, val in self.registers.items()])\n",
    "        print(f'{self.steps + 1:03} {self.current_instruction:02} {instr_p} {regs}')"
   ]
  },
  {
   "cell_type": "code",
   "execution_count": 2,
   "metadata": {
    "ExecuteTime": {
     "end_time": "2017-12-29T21:29:34.585554Z",
     "start_time": "2017-12-29T21:29:34.518572Z"
    },
    "run_control": {
     "marked": false
    }
   },
   "outputs": [
    {
     "name": "stdout",
     "output_type": "stream",
     "text": [
      "Part 1 answer is: `mul` was called 6724 times\n"
     ]
    }
   ],
   "source": [
    "puzzle_in = [line[:-1] for line in open('in/day23.txt', 'r')]\n",
    "proc = Processor(puzzle_in)\n",
    "proc.run(100000)\n",
    "print(f'Part 1 answer is: `mul` was called {proc.mul_count} times')\n",
    "assert proc.mul_count == 6724"
   ]
  },
  {
   "cell_type": "markdown",
   "metadata": {},
   "source": [
    "## Part 2\n",
    "After setting register `a` to `1`, if the program were to run to completion, what value would be left in register `h`?"
   ]
  },
  {
   "cell_type": "markdown",
   "metadata": {},
   "source": [
    "### Simply replacing some instructions to avoid loops didn't help\n",
    "Because it was missing the point - count the non-prime numbers between `108400` and `125400` with step `17`."
   ]
  },
  {
   "cell_type": "code",
   "execution_count": 3,
   "metadata": {
    "ExecuteTime": {
     "end_time": "2017-12-29T21:29:34.618080Z",
     "start_time": "2017-12-29T21:29:34.587302Z"
    }
   },
   "outputs": [
    {
     "name": "stdout",
     "output_type": "stream",
     "text": [
      "Current step is 21028, mul was called 1002 times\n",
      "\n",
      "Registers:\n",
      "a = 1\n",
      "b = 125400\n",
      "c = 125400\n",
      "d = 125400\n",
      "e = 125400\n",
      "f = 1\n",
      "g = 0\n",
      "h = 0\n",
      "\n",
      "Instructions (current = 33):\n",
      "00 set a 1\n",
      "01 set b 84\n",
      "02 set c b\n",
      "03 jnz a 2\n",
      "04 jnz 1 5\n",
      "05 mul b 100\n",
      "06 sub b -100000\n",
      "07 set c b\n",
      "08 sub c -17000\n",
      "09 set f 1\n",
      "10 set d 2\n",
      "11 set e 2\n",
      "12 set g d\n",
      "13 mul g e\n",
      "14 sub g b\n",
      "15 jnz g 2\n",
      "16 set f 0\n",
      "17 sub e -1\n",
      "18 set g e\n",
      "19 sub g b\n",
      "20 set e b\n",
      "21 sub d -1\n",
      "22 set g d\n",
      "23 sub g b\n",
      "24 set d b\n",
      "25 jnz f 2\n",
      "26 sub h -1\n",
      "27 set g b\n",
      "28 sub g c\n",
      "29 jnz g 2\n",
      "30 jnz 1 3\n",
      "31 sub b -17\n",
      "32 jnz 1 -23\n",
      "\n"
     ]
    }
   ],
   "source": [
    "ins = ['set a 1'] + puzzle_in\n",
    "ins[20] = 'set e b'\n",
    "ins[24] = 'set d b'\n",
    "proc = Processor(ins)\n",
    "proc.run(2000000, False)\n",
    "print(proc)"
   ]
  },
  {
   "cell_type": "markdown",
   "metadata": {},
   "source": [
    "### Attempted answers to part 2\n",
    "`902` is too low - because `range()` does not include the second argument.\n",
    "`903` is the right answer."
   ]
  },
  {
   "cell_type": "code",
   "execution_count": 4,
   "metadata": {
    "ExecuteTime": {
     "end_time": "2017-12-29T21:29:36.047404Z",
     "start_time": "2017-12-29T21:29:34.619827Z"
    }
   },
   "outputs": [
    {
     "name": "stdout",
     "output_type": "stream",
     "text": [
      "Answer to part 2 is: 903\n"
     ]
    }
   ],
   "source": [
    "h = 0\n",
    "for b in range(108400, 125400+1, 17):\n",
    "    for c in range(2, b):\n",
    "        if b % c == 0:\n",
    "            h += 1\n",
    "            break\n",
    "print(f'Answer to part 2 is: {h}')  # 903"
   ]
  }
 ],
 "metadata": {
  "kernelspec": {
   "display_name": "Python 3",
   "language": "python",
   "name": "python3"
  },
  "language_info": {
   "codemirror_mode": {
    "name": "ipython",
    "version": 3
   },
   "file_extension": ".py",
   "mimetype": "text/x-python",
   "name": "python",
   "nbconvert_exporter": "python",
   "pygments_lexer": "ipython3",
   "version": "3.6.3"
  },
  "toc": {
   "nav_menu": {
    "height": "104px",
    "width": "160px"
   },
   "number_sections": false,
   "sideBar": true,
   "skip_h1_title": false,
   "toc_cell": false,
   "toc_position": {},
   "toc_section_display": "block",
   "toc_window_display": false
  },
  "varInspector": {
   "cols": {
    "lenName": 16,
    "lenType": 16,
    "lenVar": 40
   },
   "kernels_config": {
    "python": {
     "delete_cmd_postfix": "",
     "delete_cmd_prefix": "del ",
     "library": "var_list.py",
     "varRefreshCmd": "print(var_dic_list())"
    },
    "r": {
     "delete_cmd_postfix": ") ",
     "delete_cmd_prefix": "rm(",
     "library": "var_list.r",
     "varRefreshCmd": "cat(var_dic_list()) "
    }
   },
   "types_to_exclude": [
    "module",
    "function",
    "builtin_function_or_method",
    "instance",
    "_Feature"
   ],
   "window_display": false
  }
 },
 "nbformat": 4,
 "nbformat_minor": 2
}
