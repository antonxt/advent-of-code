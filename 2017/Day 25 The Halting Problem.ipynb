{
 "cells": [
  {
   "cell_type": "markdown",
   "metadata": {},
   "source": [
    "# Day 25: The Halting Problem\n",
    "[Link](http://adventofcode.com/2017/day/25)"
   ]
  },
  {
   "cell_type": "markdown",
   "metadata": {
    "heading_collapsed": true
   },
   "source": [
    "## Puzzle input"
   ]
  },
  {
   "cell_type": "markdown",
   "metadata": {
    "hidden": true
   },
   "source": [
    "Begin in state `A`.\n",
    "Perform a diagnostic checksum after `12317297`steps.\n",
    "\n",
    "### In state `A`:\n",
    "If the current value is `0`:\n",
    "- Write the value `1`.\n",
    "- Move one slot to the `right`.\n",
    "- Continue with state `B`.\n",
    "\n",
    "If the current value is `1`:\n",
    "- Write the value `0`.\n",
    "- Move one slot to the `left`.\n",
    "- Continue with state `D`.\n",
    "\n",
    "### In state `B`:\n",
    "If the current value is `0`:\n",
    "- Write the value `1`.\n",
    "- Move one slot to the `right`.\n",
    "- Continue with state `C`.\n",
    "\n",
    "If the current value is `1`:\n",
    "- Write the value `0`.\n",
    "- Move one slot to the `right`.\n",
    "- Continue with state `F`.\n",
    "\n",
    "### In state C:\n",
    "If the current value is `0`:\n",
    "- Write the value `1`.\n",
    "- Move one slot to the `left`.\n",
    "- Continue with state `C`.\n",
    "\n",
    "If the current value is `1`:\n",
    "- Write the value `1`.\n",
    "- Move one slot to the `left`.\n",
    "- Continue with state `A`.\n",
    "\n",
    "### In state `D`:\n",
    "If the current value is `0`:\n",
    "- Write the value `0`.\n",
    "- Move one slot to the `left`.\n",
    "- Continue with state `E`.\n",
    "\n",
    "If the current value is `1`:\n",
    "- Write the value `1`.\n",
    "- Move one slot to the `right`.\n",
    "- Continue with state `A`.\n",
    "\n",
    "### In state E:\n",
    "If the current value is `0`:\n",
    "- Write the value `1`.\n",
    "- Move one slot to the `left`.\n",
    "- Continue with state `A`.\n",
    "\n",
    "If the current value is `1`:\n",
    "- Write the value `0`.\n",
    "- Move one slot to the `right`.\n",
    "- Continue with state `B`.\n",
    "\n",
    "### In state F:\n",
    "If the current value is `0`:\n",
    "- Write the value `0`.\n",
    "- Move one slot to the `right`.\n",
    "- Continue with state `C`.\n",
    "\n",
    "If the current value is `1`:\n",
    "- Write the value `0`.\n",
    "- Move one slot to the `right`.\n",
    "- Continue with state `E`."
   ]
  },
  {
   "cell_type": "markdown",
   "metadata": {},
   "source": [
    "## Turing Machine class"
   ]
  },
  {
   "cell_type": "code",
   "execution_count": 1,
   "metadata": {
    "ExecuteTime": {
     "end_time": "2017-12-31T11:03:43.222807Z",
     "start_time": "2017-12-31T11:03:42.870107Z"
    }
   },
   "outputs": [],
   "source": [
    "class TuringMachine:\n",
    "    def __init__(self):\n",
    "        self.pos_tape, self.neg_tape, self.position, self.state = [False], [], 0, self.state_a\n",
    "\n",
    "    def tape(self):\n",
    "        return self.pos_tape if self.position >= 0 else self.neg_tape\n",
    "\n",
    "    def index(self):\n",
    "        return self.position if self.position >= 0  else -1 - self.position\n",
    "\n",
    "    def read(self):\n",
    "        return self.tape()[self.index()]\n",
    "\n",
    "    def write(self, value):\n",
    "        self.tape()[self.index()] = value\n",
    "\n",
    "    def move_r(self):\n",
    "        self.position += 1\n",
    "        self.init_slot()\n",
    "\n",
    "    def move_l(self):\n",
    "        self.position -= 1\n",
    "        self.init_slot()\n",
    "\n",
    "    def init_slot(self):\n",
    "        if len(self.tape()) <= self.index():\n",
    "            tape_ = self.tape()\n",
    "            tape_ += [False] * (self.index() + 1 - len(self.tape()))\n",
    "\n",
    "    def checksum(self):\n",
    "        return sum(self.pos_tape) + sum(self.neg_tape)\n",
    "\n",
    "    def run(self, steps=1, debug=False):\n",
    "        for i in range(steps):\n",
    "            self.state()\n",
    "            if debug:\n",
    "                print(str(self))\n",
    "\n",
    "    def __str__(self):\n",
    "        tape = []\n",
    "        pos_tape = self.position >= 0\n",
    "        idx = self.index()\n",
    "        for i in range(len(self.neg_tape)-1, -1, -1):\n",
    "            border_l = '[' if not pos_tape and i == idx else ' '\n",
    "            border_r = ']' if not pos_tape and i == idx else ' '\n",
    "            tape.append(f'{border_l}{int(self.neg_tape[i])}{border_r}')\n",
    "        for i in range(len(self.pos_tape)):\n",
    "            border_l = '[' if pos_tape and i == idx else ' '\n",
    "            border_r = ']' if pos_tape and i == idx else ' '\n",
    "            tape.append(f'{border_l}{int(self.pos_tape[i])}{border_r}')\n",
    "\n",
    "        return f'Checksum: {self.checksum()} {self.state.__name__} {\"\".join(tape)}'\n",
    "\n",
    "    def state_a(self):\n",
    "        if self.read():\n",
    "            self.write(False)\n",
    "            self.move_l()\n",
    "            self.state = self.state_d\n",
    "        else:\n",
    "            self.write(True)\n",
    "            self.move_r()\n",
    "            self.state = self.state_b\n",
    "\n",
    "    def state_b(self):\n",
    "        if self.read():\n",
    "            self.write(False)\n",
    "            self.move_r()\n",
    "            self.state = self.state_f\n",
    "        else:\n",
    "            self.write(True)\n",
    "            self.move_r()\n",
    "            self.state = self.state_c\n",
    "\n",
    "    def state_c(self):\n",
    "        if self.read():\n",
    "            self.write(True)\n",
    "            self.move_l()\n",
    "            self.state = self.state_a\n",
    "        else:\n",
    "            self.write(True)\n",
    "            self.move_l()\n",
    "            self.state = self.state_c\n",
    "\n",
    "    def state_d(self):\n",
    "        if self.read():\n",
    "            self.write(True)\n",
    "            self.move_r()\n",
    "            self.state = self.state_a\n",
    "        else:\n",
    "            self.write(False)\n",
    "            self.move_l()\n",
    "            self.state = self.state_e\n",
    "\n",
    "    def state_e(self):\n",
    "        if self.read():\n",
    "            self.write(False)\n",
    "            self.move_r()\n",
    "            self.state = self.state_b\n",
    "        else:\n",
    "            self.write(True)\n",
    "            self.move_l()\n",
    "            self.state = self.state_a\n",
    "\n",
    "    def state_f(self):\n",
    "        if self.read():\n",
    "            self.write(False)\n",
    "            self.move_r()\n",
    "            self.state = self.state_e\n",
    "        else:\n",
    "            self.write(False)\n",
    "            self.move_r()\n",
    "            self.state = self.state_c"
   ]
  },
  {
   "cell_type": "code",
   "execution_count": 2,
   "metadata": {
    "ExecuteTime": {
     "end_time": "2017-12-31T11:03:43.229656Z",
     "start_time": "2017-12-31T11:03:43.224647Z"
    }
   },
   "outputs": [
    {
     "name": "stdout",
     "output_type": "stream",
     "text": [
      "Checksum: 1 state_b  1 [0]\n",
      "Checksum: 2 state_c  1  1 [0]\n",
      "Checksum: 3 state_c  1 [1] 1 \n",
      "Checksum: 3 state_a [1] 1  1 \n",
      "Checksum: 2 state_d [0] 0  1  1 \n",
      "Checksum: 2 state_e [0] 0  0  1  1 \n",
      "Checksum: 3 state_a [0] 1  0  0  1  1 \n",
      "Checksum: 4 state_b  1 [1] 0  0  1  1 \n",
      "Checksum: 3 state_f  1  0 [0] 0  1  1 \n",
      "Checksum: 3 state_c  1  0  0 [0] 1  1 \n",
      "Checksum: 3 state_c  1  0  0 [0] 1  1 \n"
     ]
    }
   ],
   "source": [
    "test_machine = TuringMachine()\n",
    "test_steps = 10\n",
    "test_machine.run(test_steps, True)\n",
    "print(str(test_machine))"
   ]
  },
  {
   "cell_type": "code",
   "execution_count": 3,
   "metadata": {
    "ExecuteTime": {
     "end_time": "2017-12-31T11:04:07.754014Z",
     "start_time": "2017-12-31T11:03:43.231865Z"
    }
   },
   "outputs": [
    {
     "name": "stdout",
     "output_type": "stream",
     "text": [
      "Answer to part 1: the checksum after 12317297 steps is 4230\n"
     ]
    }
   ],
   "source": [
    "machine = TuringMachine()\n",
    "steps = 12317297\n",
    "machine.run(steps)\n",
    "print(f'Answer to part 1: the checksum after {steps} steps is {machine.checksum()}')  # 4230"
   ]
  }
 ],
 "metadata": {
  "kernelspec": {
   "display_name": "Python 3",
   "language": "python",
   "name": "python3"
  },
  "language_info": {
   "codemirror_mode": {
    "name": "ipython",
    "version": 3
   },
   "file_extension": ".py",
   "mimetype": "text/x-python",
   "name": "python",
   "nbconvert_exporter": "python",
   "pygments_lexer": "ipython3",
   "version": "3.6.3"
  },
  "toc": {
   "nav_menu": {},
   "number_sections": false,
   "sideBar": true,
   "skip_h1_title": false,
   "toc_cell": false,
   "toc_position": {},
   "toc_section_display": "block",
   "toc_window_display": false
  },
  "varInspector": {
   "cols": {
    "lenName": 16,
    "lenType": 16,
    "lenVar": 40
   },
   "kernels_config": {
    "python": {
     "delete_cmd_postfix": "",
     "delete_cmd_prefix": "del ",
     "library": "var_list.py",
     "varRefreshCmd": "print(var_dic_list())"
    },
    "r": {
     "delete_cmd_postfix": ") ",
     "delete_cmd_prefix": "rm(",
     "library": "var_list.r",
     "varRefreshCmd": "cat(var_dic_list()) "
    }
   },
   "types_to_exclude": [
    "module",
    "function",
    "builtin_function_or_method",
    "instance",
    "_Feature"
   ],
   "window_display": false
  }
 },
 "nbformat": 4,
 "nbformat_minor": 2
}
