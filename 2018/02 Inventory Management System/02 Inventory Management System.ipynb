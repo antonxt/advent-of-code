{
 "cells": [
  {
   "cell_type": "markdown",
   "metadata": {},
   "source": [
    "# Day 2: Inventory Management System\n",
    "[link](https://adventofcode.com/2018/day/2)"
   ]
  },
  {
   "cell_type": "markdown",
   "metadata": {},
   "source": [
    "## Part 1: Count matching symbols in each line"
   ]
  },
  {
   "cell_type": "code",
   "execution_count": 1,
   "metadata": {
    "ExecuteTime": {
     "end_time": "2018-12-03T14:55:15.115500Z",
     "start_time": "2018-12-03T14:55:15.103108Z"
    },
    "scrolled": true
   },
   "outputs": [],
   "source": [
    "def count(lines):\n",
    "  counts = {}\n",
    "  for line in lines:\n",
    "    symbol_counts = {}  # symbol vs. how many times it is encountered in the current line\n",
    "    for symbol in line:\n",
    "      if symbol in symbol_counts:\n",
    "        symbol_counts[symbol] += 1\n",
    "      else:\n",
    "        symbol_counts[symbol] = 1\n",
    "    \n",
    "    for count in set(symbol_counts.values()):\n",
    "      if count > 1:\n",
    "        if count in counts:\n",
    "          counts[count] += 1\n",
    "        else:\n",
    "          counts[count] = 1\n",
    "\n",
    "  return counts"
   ]
  },
  {
   "cell_type": "code",
   "execution_count": 2,
   "metadata": {
    "ExecuteTime": {
     "end_time": "2018-12-03T14:55:15.120761Z",
     "start_time": "2018-12-03T14:55:15.117442Z"
    }
   },
   "outputs": [
    {
     "name": "stdout",
     "output_type": "stream",
     "text": [
      "{2: 4, 3: 3}\n"
     ]
    }
   ],
   "source": [
    "test_inp = ['abcdef', 'bababc', 'abbcde', 'abcccd', 'aabcdd', 'abcdee', 'ababab']\n",
    "test_counts = count(test_inp)\n",
    "print(test_counts)\n",
    "assert test_counts[2] == 4 and test_counts[3] == 3 and len(test_counts) == 2"
   ]
  },
  {
   "cell_type": "code",
   "execution_count": 3,
   "metadata": {
    "ExecuteTime": {
     "end_time": "2018-12-03T14:55:15.128738Z",
     "start_time": "2018-12-03T14:55:15.122513Z"
    }
   },
   "outputs": [
    {
     "data": {
      "text/plain": [
       "8820"
      ]
     },
     "execution_count": 3,
     "metadata": {},
     "output_type": "execute_result"
    }
   ],
   "source": [
    "inp = [l[:-1] for l in open('02 input.txt', 'r')]  # Puzzle input\n",
    "counts = count(inp)\n",
    "import functools\n",
    "functools.reduce(lambda x, y: x * y, counts.values())"
   ]
  },
  {
   "cell_type": "markdown",
   "metadata": {},
   "source": [
    "## Part 2: Count common symbols within lines which differ in only one symbol"
   ]
  },
  {
   "cell_type": "code",
   "execution_count": 4,
   "metadata": {
    "ExecuteTime": {
     "end_time": "2018-12-03T14:55:15.134075Z",
     "start_time": "2018-12-03T14:55:15.130590Z"
    }
   },
   "outputs": [],
   "source": [
    "import itertools\n",
    "\n",
    "def common_symbols(lines):\n",
    "  for line_a, line_b in itertools.combinations(lines, 2):\n",
    "    if len(line_a) != len(line_b):\n",
    "      continue\n",
    "    diff = [i for i in range(len(line_a)) if line_a[i] != line_b[i]]\n",
    "    if len(diff) == 1:\n",
    "      diff_index = diff[0]\n",
    "      matching_symbols = list(line_a)\n",
    "      del matching_symbols[diff_index]\n",
    "      print(f'Lines with only one symbol difference found:\\n{pprint_diff(line_a, diff_index)}\\n{pprint_diff(line_b, diff_index)}')\n",
    "      return ''.join(matching_symbols)\n",
    "\n",
    "def pprint_diff(line, index):\n",
    "  return ''.join([f'({symbol})' if i==index else symbol for i,symbol in enumerate(line)])"
   ]
  },
  {
   "cell_type": "code",
   "execution_count": 5,
   "metadata": {
    "ExecuteTime": {
     "end_time": "2018-12-03T14:55:15.138399Z",
     "start_time": "2018-12-03T14:55:15.135699Z"
    }
   },
   "outputs": [
    {
     "name": "stdout",
     "output_type": "stream",
     "text": [
      "Lines with only one symbol difference found:\n",
      "fg(h)ij\n",
      "fg(u)ij\n"
     ]
    }
   ],
   "source": [
    "test_inp = ['abcde', 'fghij', 'klmno', 'pqrst', 'fguij', 'axcye', 'wvxyz']\n",
    "test_result = common_symbols(test_inp)\n",
    "expected_result = 'fgij'\n",
    "assert test_result == expected_result, f'Expected: \"{expected_result}\", got: \"{test_result}\"'"
   ]
  },
  {
   "cell_type": "code",
   "execution_count": 6,
   "metadata": {
    "ExecuteTime": {
     "end_time": "2018-12-03T14:55:15.151272Z",
     "start_time": "2018-12-03T14:55:15.140116Z"
    },
    "scrolled": true
   },
   "outputs": [
    {
     "name": "stdout",
     "output_type": "stream",
     "text": [
      "Lines with only one symbol difference found:\n",
      "bpacnmglhizqygfsjixt(l)kwudr\n",
      "bpacnmglhizqygfsjixt(u)kwudr\n"
     ]
    },
    {
     "data": {
      "text/plain": [
       "'bpacnmglhizqygfsjixtkwudr'"
      ]
     },
     "execution_count": 6,
     "metadata": {},
     "output_type": "execute_result"
    }
   ],
   "source": [
    "common_symbols(inp)  # Correct answer"
   ]
  },
  {
   "cell_type": "markdown",
   "metadata": {},
   "source": [
    "### Wrong answers\n",
    "* `abcdfghijklmnpqrstuwxyz`"
   ]
  }
 ],
 "metadata": {
  "kernelspec": {
   "display_name": "Python 3",
   "language": "python",
   "name": "python3"
  },
  "language_info": {
   "codemirror_mode": {
    "name": "ipython",
    "version": 3
   },
   "file_extension": ".py",
   "mimetype": "text/x-python",
   "name": "python",
   "nbconvert_exporter": "python",
   "pygments_lexer": "ipython3",
   "version": "3.6.6"
  },
  "toc": {
   "base_numbering": 1,
   "nav_menu": {},
   "number_sections": false,
   "sideBar": false,
   "skip_h1_title": true,
   "title_cell": "Table of Contents",
   "title_sidebar": "Contents",
   "toc_cell": false,
   "toc_position": {},
   "toc_section_display": true,
   "toc_window_display": false
  }
 },
 "nbformat": 4,
 "nbformat_minor": 2
}
