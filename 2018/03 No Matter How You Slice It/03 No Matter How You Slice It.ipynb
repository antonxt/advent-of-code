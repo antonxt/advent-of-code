{
 "cells": [
  {
   "cell_type": "markdown",
   "metadata": {},
   "source": [
    "# Day 3: No Matter How You Slice It\n",
    "[link](https://adventofcode.com/2018/day/3)"
   ]
  },
  {
   "cell_type": "markdown",
   "metadata": {},
   "source": [
    "## Part 1: Area of intersection"
   ]
  },
  {
   "cell_type": "code",
   "execution_count": 1,
   "metadata": {
    "ExecuteTime": {
     "end_time": "2018-12-03T20:19:17.813176Z",
     "start_time": "2018-12-03T20:19:17.803984Z"
    }
   },
   "outputs": [],
   "source": [
    "import numpy as np\n",
    "\n",
    "def intersect_area(claims):\n",
    "  area = np.zeros((1000, 1000), dtype=np.int16)\n",
    "  for _, x, y, w, h in claims:\n",
    "    area[x:x+w, y:y+h] += 1\n",
    "  return np.sum(area > 1)"
   ]
  },
  {
   "cell_type": "code",
   "execution_count": 2,
   "metadata": {
    "ExecuteTime": {
     "end_time": "2018-12-03T20:19:17.820587Z",
     "start_time": "2018-12-03T20:19:17.815219Z"
    }
   },
   "outputs": [],
   "source": [
    "test_inp = [[1,1,3,4,4], [2,3,1,4,4], [3,5,5,2,2]]\n",
    "test_expected = 4\n",
    "test_actual = intersect_area(test_inp)\n",
    "assert test_actual == 4, f'Expected {test_expected}, got {test_actual}'"
   ]
  },
  {
   "cell_type": "code",
   "execution_count": 3,
   "metadata": {
    "ExecuteTime": {
     "end_time": "2018-12-03T20:19:17.850517Z",
     "start_time": "2018-12-03T20:19:17.822303Z"
    }
   },
   "outputs": [],
   "source": [
    "import re\n",
    "\n",
    "with open('03 input.txt', 'r') as file:\n",
    "  inp = [list(map(int, re.findall(r'[\\+-]?\\d+', line))) for line in file]"
   ]
  },
  {
   "cell_type": "code",
   "execution_count": 4,
   "metadata": {
    "ExecuteTime": {
     "end_time": "2018-12-03T20:19:17.865561Z",
     "start_time": "2018-12-03T20:19:17.852351Z"
    }
   },
   "outputs": [],
   "source": [
    "part_1_answer = intersect_area(inp)\n",
    "assert part_1_answer == 111266"
   ]
  },
  {
   "cell_type": "markdown",
   "metadata": {},
   "source": [
    "Right answer: `111266`"
   ]
  },
  {
   "cell_type": "markdown",
   "metadata": {},
   "source": [
    "## Part 2: ID of a claim that does not overlap with others"
   ]
  },
  {
   "cell_type": "code",
   "execution_count": 5,
   "metadata": {
    "ExecuteTime": {
     "end_time": "2018-12-03T20:19:17.870746Z",
     "start_time": "2018-12-03T20:19:17.867269Z"
    }
   },
   "outputs": [],
   "source": [
    "def non_overlapping_ids(claims):\n",
    "  area = np.zeros((1000, 1000), dtype=np.int16)\n",
    "  for id,x,y,w,h in claims:\n",
    "    claim_area = area[x:x+w, y:y+h]\n",
    "    if np.all(claim_area == 0):\n",
    "      claim_area[:] = id\n",
    "    else:\n",
    "      overlapped_ids = np.unique(claim_area[claim_area > 0])\n",
    "      for overlapped_id in overlapped_ids:\n",
    "        area[area == overlapped_id] = -1\n",
    "      claim_area[:] = -1\n",
    "#   print(area[:10,:10])\n",
    "  return np.unique(area[area > 0])"
   ]
  },
  {
   "cell_type": "code",
   "execution_count": 6,
   "metadata": {
    "ExecuteTime": {
     "end_time": "2018-12-03T20:19:17.877259Z",
     "start_time": "2018-12-03T20:19:17.872568Z"
    }
   },
   "outputs": [
    {
     "name": "stdout",
     "output_type": "stream",
     "text": [
      "2, 7\n"
     ]
    }
   ],
   "source": [
    "# test_inp_2 = [[1,1,3,4,4], [2,3,1,4,4], [3,5,5,2,2], [4,6,7,2,2]]\n",
    "test_inp_2 = [[7,4,4,2,2], [2,5,6,4,4]]\n",
    "\n",
    "test_result_2 = non_overlapping_ids(test_inp_2)\n",
    "\n",
    "print(', '.join(map(str, test_result_2)))\n",
    "# assert sorted(test_result_2.tolist()) == [3, 4]"
   ]
  },
  {
   "cell_type": "code",
   "execution_count": 7,
   "metadata": {
    "ExecuteTime": {
     "end_time": "2018-12-03T20:19:18.034567Z",
     "start_time": "2018-12-03T20:19:17.879450Z"
    }
   },
   "outputs": [
    {
     "data": {
      "text/plain": [
       "array([266], dtype=int16)"
      ]
     },
     "execution_count": 7,
     "metadata": {},
     "output_type": "execute_result"
    }
   ],
   "source": [
    "non_overlapping_ids(inp)"
   ]
  },
  {
   "cell_type": "markdown",
   "metadata": {},
   "source": [
    "**Wrong answers**\n",
    "- `117` - too low. Reason: used NumPy int8 data type (max value 127) for IDs, which reached 1000 and higher.\n",
    "\n",
    "**Correct answer:** `266`"
   ]
  },
  {
   "cell_type": "code",
   "execution_count": null,
   "metadata": {},
   "outputs": [],
   "source": []
  }
 ],
 "metadata": {
  "kernelspec": {
   "display_name": "Python 3",
   "language": "python",
   "name": "python3"
  },
  "language_info": {
   "codemirror_mode": {
    "name": "ipython",
    "version": 3
   },
   "file_extension": ".py",
   "mimetype": "text/x-python",
   "name": "python",
   "nbconvert_exporter": "python",
   "pygments_lexer": "ipython3",
   "version": "3.6.6"
  },
  "toc": {
   "base_numbering": 1,
   "nav_menu": {},
   "number_sections": false,
   "sideBar": false,
   "skip_h1_title": true,
   "title_cell": "Table of Contents",
   "title_sidebar": "Contents",
   "toc_cell": false,
   "toc_position": {},
   "toc_section_display": true,
   "toc_window_display": false
  }
 },
 "nbformat": 4,
 "nbformat_minor": 2
}
