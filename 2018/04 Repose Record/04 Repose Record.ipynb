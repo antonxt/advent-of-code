{
 "cells": [
  {
   "cell_type": "markdown",
   "metadata": {},
   "source": [
    "# Day 04: Repose Record\n",
    "[link](https://adventofcode.com/2018/day/4)"
   ]
  },
  {
   "cell_type": "code",
   "execution_count": 1,
   "metadata": {
    "ExecuteTime": {
     "end_time": "2018-12-04T21:46:03.616825Z",
     "start_time": "2018-12-04T21:46:03.438164Z"
    }
   },
   "outputs": [],
   "source": [
    "from datetime import datetime\n",
    "import re\n",
    "import pandas as pd\n",
    "import numpy as np\n",
    "\n",
    "columns = ['guard_id', 'timestamp', 'minute']\n",
    "\n",
    "def parse_timestamp(text):\n",
    "  y,mo,d,h,mi = map(int, re.findall(r'\\d+', text))\n",
    "  return mi + d*100 + mo*10000 + y*1000000\n",
    "\n",
    "column_data_types = {\n",
    "  'guard_id': np.uint16,\n",
    "  'timestamp': np.uint32,\n",
    "  'minute': np.uint8\n",
    "} \n",
    "\n",
    "def range_from_timestamp(guard_id, start, end):\n",
    "  return pd.DataFrame([(guard_id, i, i%100) for i in range(start, end)], columns=columns).astype(dtype=column_data_types)\n",
    "\n",
    "def parse_guard_ranges(log):\n",
    "  guard_id, asleep_since = None, None\n",
    "  guard_ranges = pd.DataFrame(columns=columns)\n",
    "  for line in sorted(log):\n",
    "    timestamp_raw, event = line.split('] ')\n",
    "    if event.startswith('Guard'):\n",
    "      m = re.match(r'Guard #(\\d+) begins shift', event)\n",
    "      guard_id, asleep_since = int(m.group(1)), None\n",
    "    else:\n",
    "      timestamp = parse_timestamp(timestamp_raw[1:])\n",
    "      if event.startswith('falls asleep'):\n",
    "        asleep_since = timestamp\n",
    "      elif event.startswith('wakes up'):\n",
    "        assert (guard_id is not None) and (asleep_since is not None), f'{line}'\n",
    "        sleep_range = range_from_timestamp(guard_id, asleep_since, timestamp)\n",
    "        guard_ranges = pd.concat([guard_ranges, sleep_range], ignore_index=True)\n",
    "        asleep_since = None\n",
    "  return guard_ranges\n",
    "\n",
    "def guard_minute(log):\n",
    "  guard_ranges = parse_guard_ranges(log)\n",
    "  minutes_per_guard = guard_ranges.guard_id.value_counts().head(3)\n",
    "  selected_guard_id = minutes_per_guard.index[0]\n",
    "  display(minutes_per_guard)\n",
    "  \n",
    "  guard_minutes = guard_ranges[guard_ranges.guard_id == selected_guard_id].minute.value_counts().head(3)\n",
    "  selected_minute = guard_minutes.index[0]\n",
    "  display(guard_minutes)\n",
    "  assert guard_minutes.values[0] > guard_minutes.values[1]\n",
    "  print(f'Selected guard id: {selected_guard_id}, selected minute: {selected_minute}')\n",
    "  return selected_guard_id * selected_minute"
   ]
  },
  {
   "cell_type": "code",
   "execution_count": 2,
   "metadata": {
    "ExecuteTime": {
     "end_time": "2018-12-04T21:46:03.652704Z",
     "start_time": "2018-12-04T21:46:03.618562Z"
    },
    "scrolled": false
   },
   "outputs": [
    {
     "data": {
      "text/plain": [
       "10    50\n",
       "99    30\n",
       "Name: guard_id, dtype: int64"
      ]
     },
     "metadata": {},
     "output_type": "display_data"
    },
    {
     "data": {
      "text/plain": [
       "24    2\n",
       "54    1\n",
       "28    1\n",
       "Name: minute, dtype: int64"
      ]
     },
     "metadata": {},
     "output_type": "display_data"
    },
    {
     "name": "stdout",
     "output_type": "stream",
     "text": [
      "Selected guard id: 10, selected minute: 24\n"
     ]
    }
   ],
   "source": [
    "test_in = [\n",
    "  '[1518-11-05 00:45] falls asleep',\n",
    "  '[1518-11-01 00:00] Guard #10 begins shift',\n",
    "  '[1518-11-01 00:05] falls asleep',\n",
    "  '[1518-11-01 00:25] wakes up',\n",
    "  '[1518-11-03 00:29] wakes up',\n",
    "  '[1518-11-01 00:30] falls asleep',\n",
    "  '[1518-11-01 00:55] wakes up',\n",
    "  '[1518-11-01 23:58] Guard #99 begins shift',\n",
    "  '[1518-11-02 00:40] falls asleep',\n",
    "  '[1518-11-02 00:50] wakes up',\n",
    "  '[1518-11-03 00:05] Guard #10 begins shift',\n",
    "  '[1518-11-03 00:24] falls asleep',\n",
    "  '[1518-11-04 00:02] Guard #99 begins shift',\n",
    "  '[1518-11-04 00:36] falls asleep',\n",
    "  '[1518-11-04 00:46] wakes up',\n",
    "  '[1518-11-05 00:03] Guard #99 begins shift',\n",
    "  '[1518-11-05 00:55] wakes up'\n",
    "]\n",
    "\n",
    "expected_result = 240\n",
    "actual_result = guard_minute(test_in)\n",
    "assert expected_result == actual_result, f'Expected {expected_result}, got {actual_result}'"
   ]
  },
  {
   "cell_type": "code",
   "execution_count": 3,
   "metadata": {
    "ExecuteTime": {
     "end_time": "2018-12-04T21:46:04.659504Z",
     "start_time": "2018-12-04T21:46:03.653977Z"
    }
   },
   "outputs": [
    {
     "data": {
      "text/plain": [
       "1523    483\n",
       "1607    480\n",
       "2707    457\n",
       "Name: guard_id, dtype: int64"
      ]
     },
     "metadata": {},
     "output_type": "display_data"
    },
    {
     "data": {
      "text/plain": [
       "43    14\n",
       "42    13\n",
       "41    13\n",
       "Name: minute, dtype: int64"
      ]
     },
     "metadata": {},
     "output_type": "display_data"
    },
    {
     "name": "stdout",
     "output_type": "stream",
     "text": [
      "Selected guard id: 1523, selected minute: 43\n"
     ]
    },
    {
     "data": {
      "text/plain": [
       "65489"
      ]
     },
     "execution_count": 3,
     "metadata": {},
     "output_type": "execute_result"
    }
   ],
   "source": [
    "with open('04 input.txt', 'r') as file:\n",
    "  puzzle_input = [line for line in file]\n",
    "\n",
    "guard_minute(puzzle_input)"
   ]
  },
  {
   "cell_type": "markdown",
   "metadata": {},
   "source": [
    "**Part 1 right answer:** `65489`"
   ]
  },
  {
   "cell_type": "markdown",
   "metadata": {},
   "source": [
    "## Part 2: Which guard is most frequently asleep on the same minute?"
   ]
  },
  {
   "cell_type": "code",
   "execution_count": 4,
   "metadata": {
    "ExecuteTime": {
     "end_time": "2018-12-04T21:46:04.664001Z",
     "start_time": "2018-12-04T21:46:04.661014Z"
    }
   },
   "outputs": [],
   "source": [
    "def frequently_asleep(log):\n",
    "  guard_ranges = parse_guard_ranges(log)\n",
    "  groups = guard_ranges.groupby(['guard_id', 'minute'])\\\n",
    "    .size()\\\n",
    "    .sort_values(ascending=False)\\\n",
    "    .head(3)\n",
    "  assert groups.values[0] > groups.values[1]\n",
    "  display(groups)\n",
    "  selected_id, selected_minute = groups.index[0]\n",
    "  print(f'Guard with id {selected_id} was most frequently asleep on the minute {selected_minute}')\n",
    "  return selected_id * selected_minute"
   ]
  },
  {
   "cell_type": "code",
   "execution_count": 5,
   "metadata": {
    "ExecuteTime": {
     "end_time": "2018-12-04T21:46:04.692603Z",
     "start_time": "2018-12-04T21:46:04.665901Z"
    }
   },
   "outputs": [
    {
     "data": {
      "text/plain": [
       "guard_id  minute\n",
       "99        45        3\n",
       "          42        2\n",
       "          49        2\n",
       "dtype: int64"
      ]
     },
     "metadata": {},
     "output_type": "display_data"
    },
    {
     "name": "stdout",
     "output_type": "stream",
     "text": [
      "Guard with id 99 was most frequently asleep on the minute 45\n"
     ]
    }
   ],
   "source": [
    "expected_result_2 = 4455\n",
    "actual_result_2 = frequently_asleep(test_in)\n",
    "assert expected_result_2 == actual_result_2, f'Expected {expected_result_2}, got {actual_result_2}'"
   ]
  },
  {
   "cell_type": "code",
   "execution_count": 6,
   "metadata": {
    "ExecuteTime": {
     "end_time": "2018-12-04T21:46:05.723025Z",
     "start_time": "2018-12-04T21:46:04.694899Z"
    }
   },
   "outputs": [
    {
     "data": {
      "text/plain": [
       "guard_id  minute\n",
       "107       36        16\n",
       "1607      34        15\n",
       "          33        15\n",
       "dtype: int64"
      ]
     },
     "metadata": {},
     "output_type": "display_data"
    },
    {
     "name": "stdout",
     "output_type": "stream",
     "text": [
      "Guard with id 107 was most frequently asleep on the minute 36\n"
     ]
    },
    {
     "data": {
      "text/plain": [
       "3852"
      ]
     },
     "execution_count": 6,
     "metadata": {},
     "output_type": "execute_result"
    }
   ],
   "source": [
    "frequently_asleep(puzzle_input)"
   ]
  },
  {
   "cell_type": "markdown",
   "metadata": {},
   "source": [
    "**Part 2 right answer:** `3852`"
   ]
  }
 ],
 "metadata": {
  "kernelspec": {
   "display_name": "Python 3",
   "language": "python",
   "name": "python3"
  },
  "language_info": {
   "codemirror_mode": {
    "name": "ipython",
    "version": 3
   },
   "file_extension": ".py",
   "mimetype": "text/x-python",
   "name": "python",
   "nbconvert_exporter": "python",
   "pygments_lexer": "ipython3",
   "version": "3.6.6"
  },
  "toc": {
   "base_numbering": 1,
   "nav_menu": {},
   "number_sections": false,
   "sideBar": false,
   "skip_h1_title": true,
   "title_cell": "Table of Contents",
   "title_sidebar": "Contents",
   "toc_cell": false,
   "toc_position": {},
   "toc_section_display": true,
   "toc_window_display": false
  }
 },
 "nbformat": 4,
 "nbformat_minor": 2
}
