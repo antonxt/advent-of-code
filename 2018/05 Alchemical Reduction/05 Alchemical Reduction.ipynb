{
 "cells": [
  {
   "cell_type": "markdown",
   "metadata": {},
   "source": [
    "# Day 5: Alchemical Reduction\n",
    "[link](https://adventofcode.com/2018/day/5)"
   ]
  },
  {
   "cell_type": "markdown",
   "metadata": {},
   "source": [
    "## Part 1: Reduce polymer"
   ]
  },
  {
   "cell_type": "code",
   "execution_count": 1,
   "metadata": {
    "ExecuteTime": {
     "end_time": "2018-12-05T09:47:21.143960Z",
     "start_time": "2018-12-05T09:47:21.135050Z"
    }
   },
   "outputs": [],
   "source": [
    "def reduce_poly(polymer, debug=False):\n",
    "  p,i = list(polymer), 0\n",
    "  while i < len(p)-1:\n",
    "    if p[i] == p[i+1].swapcase():\n",
    "      if debug:\n",
    "        print(f'{to_s(p[:i])}({to_s(p[i:i+2])}){to_s(p[i+2:])}')\n",
    "      del p[i]\n",
    "      del p[i]\n",
    "      i -= 1\n",
    "    else:\n",
    "      i += 1\n",
    "  return to_s(p)\n",
    "\n",
    "def to_s(array):\n",
    "  return ''.join(array)"
   ]
  },
  {
   "cell_type": "code",
   "execution_count": 2,
   "metadata": {
    "ExecuteTime": {
     "end_time": "2018-12-05T09:47:21.148944Z",
     "start_time": "2018-12-05T09:47:21.145737Z"
    }
   },
   "outputs": [
    {
     "name": "stdout",
     "output_type": "stream",
     "text": [
      "(aA)\n",
      "a(bB)A\n",
      "(aA)\n",
      "dabA(cC)aCBAcCcaDA\n",
      "dab(Aa)CBAcCcaDA\n",
      "dabCBA(cC)caDA\n"
     ]
    }
   ],
   "source": [
    "def assert_equal(actual, expected):\n",
    "  assert actual == expected, f'Expected: \"{expected}\", got: \"{actual}\"'\n",
    "\n",
    "assert_equal(reduce_poly('aA', True), '')\n",
    "assert_equal(reduce_poly('abBA', True), '')\n",
    "assert_equal(reduce_poly('abAB', True), 'abAB')\n",
    "\n",
    "test_poly = 'dabAcCaCBAcCcaDA'\n",
    "assert_equal(reduce_poly(test_poly, True), 'dabCBAcaDA')"
   ]
  },
  {
   "cell_type": "code",
   "execution_count": 3,
   "metadata": {
    "ExecuteTime": {
     "end_time": "2018-12-05T09:47:21.452218Z",
     "start_time": "2018-12-05T09:47:21.151205Z"
    }
   },
   "outputs": [
    {
     "data": {
      "text/plain": [
       "50000"
      ]
     },
     "metadata": {},
     "output_type": "display_data"
    },
    {
     "data": {
      "text/plain": [
       "9390"
      ]
     },
     "execution_count": 3,
     "metadata": {},
     "output_type": "execute_result"
    }
   ],
   "source": [
    "with open('05 input.txt', 'r') as file:\n",
    "  puzzle_input = file.readline().strip()\n",
    "\n",
    "display(len(puzzle_input))\n",
    "\n",
    "part_1_reduced = reduce_poly(puzzle_input)\n",
    "len(part_1_reduced)"
   ]
  },
  {
   "cell_type": "markdown",
   "metadata": {},
   "source": [
    "**Part 1 correct answer:** `9390`"
   ]
  },
  {
   "cell_type": "markdown",
   "metadata": {},
   "source": [
    "## Part 2: Remove a unit type to maximize polymer reduction"
   ]
  },
  {
   "cell_type": "code",
   "execution_count": 4,
   "metadata": {
    "ExecuteTime": {
     "end_time": "2018-12-05T09:47:21.458066Z",
     "start_time": "2018-12-05T09:47:21.454068Z"
    }
   },
   "outputs": [],
   "source": [
    "import re\n",
    "\n",
    "def remove_unit(polymer, unit):\n",
    "  assert len(unit) == 1\n",
    "  return re.sub(r'[' + unit + unit.swapcase() + ']', '', polymer)\n",
    "\n",
    "assert_equal(remove_unit(test_poly, 'a'), 'dbcCCBcCcD')\n",
    "assert_equal(remove_unit(test_poly, 'A'), 'dbcCCBcCcD')\n",
    "assert_equal(remove_unit(test_poly, 'b'), 'daAcCaCAcCcaDA')"
   ]
  },
  {
   "cell_type": "code",
   "execution_count": 5,
   "metadata": {
    "ExecuteTime": {
     "end_time": "2018-12-05T09:47:21.465607Z",
     "start_time": "2018-12-05T09:47:21.460273Z"
    }
   },
   "outputs": [
    {
     "name": "stdout",
     "output_type": "stream",
     "text": [
      "Polymer:\tdabAcCaCBAcCcaDA\n",
      "Units:\t\tabcd\n",
      "\n",
      "Removed unit a/A\n",
      "Polymer: {poly_unit_removed}\n",
      "db(cC)CBcCcD\n",
      "dbCB(cC)cD\n",
      "Reduced polymer: dbCBcD\n",
      "Reduced length: 6\n",
      "\n",
      "Removed unit b/B\n",
      "Polymer: {poly_unit_removed}\n",
      "d(aA)cCaCAcCcaDA\n",
      "d(cC)aCAcCcaDA\n",
      "daCA(cC)caDA\n",
      "Reduced polymer: daCAcaDA\n",
      "Reduced length: 8\n",
      "\n",
      "Removed unit c/C\n",
      "Polymer: {poly_unit_removed}\n",
      "dab(Aa)BAaDA\n",
      "da(bB)AaDA\n",
      "d(aA)aDA\n",
      "Reduced polymer: daDA\n",
      "Reduced length: 4\n",
      "\n",
      "Removed unit d/D\n",
      "Polymer: {poly_unit_removed}\n",
      "abA(cC)aCBAcCcaA\n",
      "ab(Aa)CBAcCcaA\n",
      "abCBA(cC)caA\n",
      "abCBAc(aA)\n",
      "Reduced polymer: abCBAc\n",
      "Reduced length: 6\n"
     ]
    }
   ],
   "source": [
    "def remove_unit_reduce(polymer, debug=False):\n",
    "  units = sorted(set(polymer.lower()))\n",
    "  if(debug):\n",
    "    print(f'Polymer:\\t{polymer}')\n",
    "  print(f'Units ({len()}):\\t\\t{\"\".join(units)}')\n",
    "\n",
    "  lengths = []\n",
    "  for unit in units:\n",
    "    poly_unit_removed = remove_unit(polymer, unit)\n",
    "    print(f'\\nRemoved unit {unit}/{unit.swapcase()}')\n",
    "    if(debug):\n",
    "      print('Polymer: {poly_unit_removed}')\n",
    "    \n",
    "    poly_reduced = reduce_poly(poly_unit_removed, debug)\n",
    "    if(debug):\n",
    "      print(f'Reduced polymer: {poly_reduced}')\n",
    "    print(f'Reduced length: {len(poly_reduced)}')\n",
    "    \n",
    "    lengths.append(len(poly_reduced))\n",
    "\n",
    "  return min(lengths)\n",
    "\n",
    "assert_equal(remove_unit_reduce(test_poly, True), 4)"
   ]
  },
  {
   "cell_type": "code",
   "execution_count": 6,
   "metadata": {
    "ExecuteTime": {
     "end_time": "2018-12-05T09:47:28.112281Z",
     "start_time": "2018-12-05T09:47:21.466859Z"
    }
   },
   "outputs": [
    {
     "name": "stdout",
     "output_type": "stream",
     "text": [
      "Units:\t\tabcdefghijklmnopqrstuvwxyz\n",
      "\n",
      "Removed unit a/A\n",
      "Reduced length: 9036\n",
      "\n",
      "Removed unit b/B\n",
      "Reduced length: 9026\n",
      "\n",
      "Removed unit c/C\n",
      "Reduced length: 9022\n",
      "\n",
      "Removed unit d/D\n",
      "Reduced length: 8998\n",
      "\n",
      "Removed unit e/E\n",
      "Reduced length: 9036\n",
      "\n",
      "Removed unit f/F\n",
      "Reduced length: 8988\n",
      "\n",
      "Removed unit g/G\n",
      "Reduced length: 9018\n",
      "\n",
      "Removed unit h/H\n",
      "Reduced length: 9014\n",
      "\n",
      "Removed unit i/I\n",
      "Reduced length: 8998\n",
      "\n",
      "Removed unit j/J\n",
      "Reduced length: 9000\n",
      "\n",
      "Removed unit k/K\n",
      "Reduced length: 8980\n",
      "\n",
      "Removed unit l/L\n",
      "Reduced length: 8964\n",
      "\n",
      "Removed unit m/M\n",
      "Reduced length: 9044\n",
      "\n",
      "Removed unit n/N\n",
      "Reduced length: 9052\n",
      "\n",
      "Removed unit o/O\n",
      "Reduced length: 9064\n",
      "\n",
      "Removed unit p/P\n",
      "Reduced length: 9010\n",
      "\n",
      "Removed unit q/Q\n",
      "Reduced length: 9034\n",
      "\n",
      "Removed unit r/R\n",
      "Reduced length: 9026\n",
      "\n",
      "Removed unit s/S\n",
      "Reduced length: 9016\n",
      "\n",
      "Removed unit t/T\n",
      "Reduced length: 9002\n",
      "\n",
      "Removed unit u/U\n",
      "Reduced length: 5898\n",
      "\n",
      "Removed unit v/V\n",
      "Reduced length: 8992\n",
      "\n",
      "Removed unit w/W\n",
      "Reduced length: 8950\n",
      "\n",
      "Removed unit x/X\n",
      "Reduced length: 9028\n",
      "\n",
      "Removed unit y/Y\n",
      "Reduced length: 9034\n",
      "\n",
      "Removed unit z/Z\n",
      "Reduced length: 9066\n"
     ]
    },
    {
     "data": {
      "text/plain": [
       "5898"
      ]
     },
     "execution_count": 6,
     "metadata": {},
     "output_type": "execute_result"
    }
   ],
   "source": [
    "remove_unit_reduce(puzzle_input)"
   ]
  },
  {
   "cell_type": "markdown",
   "metadata": {},
   "source": [
    "**Part 2 correct answer:** `5898`"
   ]
  }
 ],
 "metadata": {
  "kernelspec": {
   "display_name": "Python 3",
   "language": "python",
   "name": "python3"
  },
  "language_info": {
   "codemirror_mode": {
    "name": "ipython",
    "version": 3
   },
   "file_extension": ".py",
   "mimetype": "text/x-python",
   "name": "python",
   "nbconvert_exporter": "python",
   "pygments_lexer": "ipython3",
   "version": "3.6.6"
  },
  "toc": {
   "base_numbering": 1,
   "nav_menu": {},
   "number_sections": false,
   "sideBar": false,
   "skip_h1_title": true,
   "title_cell": "Table of Contents",
   "title_sidebar": "Contents",
   "toc_cell": false,
   "toc_position": {},
   "toc_section_display": true,
   "toc_window_display": false
  }
 },
 "nbformat": 4,
 "nbformat_minor": 2
}
