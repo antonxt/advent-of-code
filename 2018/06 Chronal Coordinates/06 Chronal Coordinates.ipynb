{
 "cells": [
  {
   "cell_type": "markdown",
   "metadata": {},
   "source": [
    "# Day 06: Chronal Coordinates\n",
    "[link](https://adventofcode.com/2018/day/6)"
   ]
  },
  {
   "cell_type": "markdown",
   "metadata": {},
   "source": [
    "## Part 1: Biggest finite area of the points closest to one of the given coordinates"
   ]
  },
  {
   "cell_type": "code",
   "execution_count": 1,
   "metadata": {
    "ExecuteTime": {
     "end_time": "2018-12-07T20:52:34.019118Z",
     "start_time": "2018-12-07T20:52:34.006616Z"
    }
   },
   "outputs": [],
   "source": [
    "import numpy as np\n",
    "\n",
    "DTYPE = np.int16\n",
    "\n",
    "# Load the grid which allows to place all the points.\n",
    "# Then fill the grid with the areas of the points closest to some of the given coordinates\n",
    "def load_grid(coords):\n",
    "  mx, my = np.max(coords[:,0])+1, np.max(coords[:,1])+1\n",
    "  grid = np.full(shape=(mx,my), fill_value=-1, dtype=DTYPE)\n",
    "  for x in range(mx):\n",
    "    for y in range(my):\n",
    "      # Mahnattan distances from the (x,y) to all the points\n",
    "      distances = [abs(x-px) + abs(y-py) for (px,py) in coords]\n",
    "      closest_distance = min(distances)\n",
    "      if distances.count(closest_distance) == 1:  # There is only one closest point\n",
    "        closest_point_idx = distances.index(closest_distance)\n",
    "        grid[x,y] = closest_point_idx  # Point ID on the grid is \n",
    "  return grid\n",
    "\n",
    "def largest_area(grid):\n",
    "  mx,my = grid.shape\n",
    "\n",
    "  # IDs of all points on the grid.\n",
    "  # Negative values are excluded because they represent points equally distant to two or more incoming coordinates\n",
    "  point_ids = np.unique(grid[grid>=0])\n",
    "\n",
    "  # IDs of all areas which touch grid edges.\n",
    "  # Those areas will expand to infinity, so they will be later excluded from area calucuiation\n",
    "  edge_ids = np.unique(np.concatenate([grid[0,:], grid[mx-1,:], grid[:,0], grid[:,my-1]]))\n",
    "\n",
    "  # IDs of areas that are finite, i.e. don't expand to infinity\n",
    "  finite_area_ids = [id for id in point_ids if id not in edge_ids]\n",
    "#   print(''.join(char_map[i] for i in non_edge_area_ids))\n",
    "  non_edge_areas = [np.count_nonzero(grid==id) for id in finite_area_ids]\n",
    "#   print(non_edge_areas)\n",
    "  return max(non_edge_areas)"
   ]
  },
  {
   "cell_type": "code",
   "execution_count": 2,
   "metadata": {
    "ExecuteTime": {
     "end_time": "2018-12-07T20:52:34.030580Z",
     "start_time": "2018-12-07T20:52:34.021405Z"
    }
   },
   "outputs": [
    {
     "name": "stdout",
     "output_type": "stream",
     "text": [
      "aaaa.bbbbb\n",
      "aaaa.bbbbb\n",
      "aaadd.bbbb\n",
      "aadddd....\n",
      "aadddeeeef\n",
      "..eeeeeeef\n",
      "cccceeeeff\n",
      "ccccceefff\n",
      "cccccc.fff\n"
     ]
    }
   ],
   "source": [
    "\n",
    "test_in = np.array([(1, 1), (1, 6), (8, 3), (3, 4), (5, 5), (8, 9)], DTYPE)\n",
    "test_grid = load_grid(test_in)\n",
    "\n",
    "CHR_MAP = [chr(ord('a') + i) for i in range(26)]\n",
    "for row in test_grid:\n",
    "  print(''.join(CHR_MAP[id] if id>=0 else '.' for id in row))\n",
    "\n",
    "assert largest_area(test_grid) == 17"
   ]
  },
  {
   "cell_type": "code",
   "execution_count": 3,
   "metadata": {
    "ExecuteTime": {
     "end_time": "2018-12-07T20:52:34.038895Z",
     "start_time": "2018-12-07T20:52:34.032986Z"
    }
   },
   "outputs": [
    {
     "data": {
      "text/plain": [
       "(50, 2)"
      ]
     },
     "execution_count": 3,
     "metadata": {},
     "output_type": "execute_result"
    }
   ],
   "source": [
    "import re\n",
    "\n",
    "with open('06 input.txt', 'r') as file:\n",
    "  puzzle_input = np.array([tuple(map(int, re.findall('-?\\d+', line))) for line in file], DTYPE)\n",
    "\n",
    "puzzle_input.shape"
   ]
  },
  {
   "cell_type": "code",
   "execution_count": 4,
   "metadata": {
    "ExecuteTime": {
     "end_time": "2018-12-07T20:53:01.233018Z",
     "start_time": "2018-12-07T20:52:34.041034Z"
    }
   },
   "outputs": [
    {
     "data": {
      "text/plain": [
       "5035"
      ]
     },
     "execution_count": 4,
     "metadata": {},
     "output_type": "execute_result"
    }
   ],
   "source": [
    "largest_area(load_grid(puzzle_input))"
   ]
  },
  {
   "cell_type": "markdown",
   "metadata": {},
   "source": [
    "**Part 1 correct answer**: `5035`"
   ]
  },
  {
   "cell_type": "markdown",
   "metadata": {},
   "source": [
    "## Part 2: Area with points whose distance is less than given"
   ]
  },
  {
   "cell_type": "code",
   "execution_count": 5,
   "metadata": {
    "ExecuteTime": {
     "end_time": "2018-12-07T20:53:27.761254Z",
     "start_time": "2018-12-07T20:53:01.234847Z"
    }
   },
   "outputs": [
    {
     "data": {
      "text/plain": [
       "35294"
      ]
     },
     "execution_count": 5,
     "metadata": {},
     "output_type": "execute_result"
    }
   ],
   "source": [
    "def close_area(coords, max_total_dist):\n",
    "  mx, my = np.max(coords[:,0])+1, np.max(coords[:,1])+1\n",
    "  grid = np.zeros(shape=(mx,my), dtype=DTYPE)\n",
    "  for x in range(mx):\n",
    "    for y in range(my):\n",
    "      # Mahnattan distances from the (x,y) to all the points\n",
    "      distances = [abs(x-px) + abs(y-py) for (px,py) in coords]\n",
    "      if sum(distances) < max_total_dist:\n",
    "        grid[x,y] = 1\n",
    "  return np.count_nonzero(grid==1)\n",
    "\n",
    "assert close_area(test_in, 32) == 16\n",
    "\n",
    "close_area(puzzle_input, 10000)"
   ]
  },
  {
   "cell_type": "markdown",
   "metadata": {},
   "source": [
    "**Part 2 correct answer:** `35294`"
   ]
  }
 ],
 "metadata": {
  "kernelspec": {
   "display_name": "Python 3",
   "language": "python",
   "name": "python3"
  },
  "language_info": {
   "codemirror_mode": {
    "name": "ipython",
    "version": 3
   },
   "file_extension": ".py",
   "mimetype": "text/x-python",
   "name": "python",
   "nbconvert_exporter": "python",
   "pygments_lexer": "ipython3",
   "version": "3.6.6"
  },
  "toc": {
   "base_numbering": 1,
   "nav_menu": {},
   "number_sections": false,
   "sideBar": false,
   "skip_h1_title": true,
   "title_cell": "Table of Contents",
   "title_sidebar": "Contents",
   "toc_cell": false,
   "toc_position": {},
   "toc_section_display": true,
   "toc_window_display": false
  }
 },
 "nbformat": 4,
 "nbformat_minor": 2
}
