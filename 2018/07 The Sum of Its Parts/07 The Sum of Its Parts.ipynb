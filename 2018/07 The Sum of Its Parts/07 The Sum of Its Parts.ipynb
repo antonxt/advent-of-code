{
 "cells": [
  {
   "cell_type": "markdown",
   "metadata": {},
   "source": [
    "# Day 7:  The Sum of Its Parts\n",
    "[link](https://adventofcode.com/2018/day/7)"
   ]
  },
  {
   "cell_type": "markdown",
   "metadata": {},
   "source": [
    "## Part 1: Order of steps"
   ]
  },
  {
   "cell_type": "code",
   "execution_count": 1,
   "metadata": {
    "ExecuteTime": {
     "end_time": "2018-12-10T14:52:19.738520Z",
     "start_time": "2018-12-10T14:52:19.730072Z"
    }
   },
   "outputs": [],
   "source": [
    "import re\n",
    "\n",
    "def parse(lines):\n",
    "  instructions = []\n",
    "  for line in lines:\n",
    "    match = re.search(r'Step ([A-Z]) must be finished before step ([A-Z]) can begin', line.strip())\n",
    "    assert match, f'Wrong format in line \"{line}\"'\n",
    "    before, after = match.group(1), match.group(2)\n",
    "    instructions.append((before, after))\n",
    "  return instructions"
   ]
  },
  {
   "cell_type": "code",
   "execution_count": 2,
   "metadata": {
    "ExecuteTime": {
     "end_time": "2018-12-10T14:52:19.742985Z",
     "start_time": "2018-12-10T14:52:19.739935Z"
    }
   },
   "outputs": [],
   "source": [
    "def get_all_steps(instructions):\n",
    "  steps = set()\n",
    "  for before, after in instructions:\n",
    "    steps.add(before)\n",
    "    steps.add(after)\n",
    "  return sorted(list(steps))\n",
    "\n",
    "def get_requirements(instructions):\n",
    "  requirements = {s:set() for s in get_all_steps(instructions)}\n",
    "  for required,step in instructions:\n",
    "    requirements[step].add(required)\n",
    "  return requirements"
   ]
  },
  {
   "cell_type": "code",
   "execution_count": 3,
   "metadata": {
    "ExecuteTime": {
     "end_time": "2018-12-10T14:52:19.748054Z",
     "start_time": "2018-12-10T14:52:19.744661Z"
    }
   },
   "outputs": [],
   "source": [
    "def get_available_steps(done, remaining, requirements):\n",
    "  available = [s for s in remaining if not (s in requirements and requirements[s] - set(done))]\n",
    "  assert available, f'Cannot find any suitable next steps'\n",
    "  return available\n",
    "\n",
    "def get_steps_order(instructions):\n",
    "  requirements,remaining,done = get_requirements(instructions),get_all_steps(instructions),[]\n",
    "\n",
    "  while remaining:\n",
    "    all_available = get_available_steps(done, remaining, requirements)\n",
    "    next_step = all_available[0]\n",
    "    done.append(next_step)\n",
    "    remaining.remove(next_step)\n",
    "\n",
    "  return ''.join(done)"
   ]
  },
  {
   "cell_type": "code",
   "execution_count": 4,
   "metadata": {
    "ExecuteTime": {
     "end_time": "2018-12-10T14:52:19.752491Z",
     "start_time": "2018-12-10T14:52:19.749664Z"
    }
   },
   "outputs": [],
   "source": [
    "test_lines = [\n",
    "  'Step C must be finished before step A can begin.',\n",
    "  'Step C must be finished before step F can begin.',\n",
    "  'Step A must be finished before step B can begin.',\n",
    "  'Step A must be finished before step D can begin.',\n",
    "  'Step B must be finished before step E can begin.',\n",
    "  'Step D must be finished before step E can begin.',\n",
    "  'Step F must be finished before step E can begin.'\n",
    "]\n",
    "\n",
    "test_instructions = parse(test_lines)\n",
    "assert get_steps_order(test_instructions) == 'CABDFE'"
   ]
  },
  {
   "cell_type": "code",
   "execution_count": 5,
   "metadata": {
    "ExecuteTime": {
     "end_time": "2018-12-10T14:52:19.758463Z",
     "start_time": "2018-12-10T14:52:19.753874Z"
    }
   },
   "outputs": [
    {
     "data": {
      "text/plain": [
       "101"
      ]
     },
     "execution_count": 5,
     "metadata": {},
     "output_type": "execute_result"
    }
   ],
   "source": [
    "with open('07 input.txt', 'r') as file:\n",
    "  puzzle_input = parse(file)\n",
    "len(puzzle_input)"
   ]
  },
  {
   "cell_type": "code",
   "execution_count": 6,
   "metadata": {
    "ExecuteTime": {
     "end_time": "2018-12-10T14:52:19.763063Z",
     "start_time": "2018-12-10T14:52:19.759918Z"
    }
   },
   "outputs": [
    {
     "data": {
      "text/plain": [
       "'EPWCFXKISTZVJHDGNABLQYMORU'"
      ]
     },
     "execution_count": 6,
     "metadata": {},
     "output_type": "execute_result"
    }
   ],
   "source": [
    "solution_1 = get_steps_order(puzzle_input)\n",
    "assert solution_1 == 'EPWCFXKISTZVJHDGNABLQYMORU'\n",
    "solution_1"
   ]
  },
  {
   "cell_type": "markdown",
   "metadata": {},
   "source": [
    "**Part 1 correct answer:** `EPWCFXKISTZVJHDGNABLQYMORU`"
   ]
  },
  {
   "cell_type": "markdown",
   "metadata": {},
   "source": [
    "## Part 2: How long will it take to complete the steps?\n",
    "With `5` workers and the `60`+ second step durations (step `A` takes `61` seconds, etc.)"
   ]
  },
  {
   "cell_type": "code",
   "execution_count": 20,
   "metadata": {
    "ExecuteTime": {
     "end_time": "2018-12-10T15:13:17.657373Z",
     "start_time": "2018-12-10T15:13:17.651279Z"
    }
   },
   "outputs": [
    {
     "name": "stdout",
     "output_type": "stream",
     "text": [
      "[('f', 'e'), ('c', 'f')]\n",
      "\n",
      "f > e\n",
      "f: e\n",
      "\n",
      "c > f\n",
      "c f e {'c': {'f'}, 'e': set(), 'f': {'e'}}\n",
      "\n",
      "c > e\n",
      "c: f,e; f: e\n"
     ]
    },
    {
     "data": {
      "text/plain": [
       "{'c': {'e', 'f'}, 'e': set(), 'f': {'e'}}"
      ]
     },
     "execution_count": 20,
     "metadata": {},
     "output_type": "execute_result"
    }
   ],
   "source": [
    "def get_blocked_steps(instructions):\n",
    "  print(instructions)\n",
    "  blocked_steps = {s:set() for s in get_all_steps(instructions)}\n",
    "\n",
    "  def block_recursively(blocker, blocked):\n",
    "    print(f'\\n{blocker} > {blocked}')\n",
    "    blocked_steps[blocker].add(blocked)\n",
    "    for \n",
    "    for parent_blocked in blocked_steps[blocked]:\n",
    "      block_recursively(blocker, parent_blocked)\n",
    "    \n",
    "  for blocker,blocked in instructions:\n",
    "    block_recursively(blocker, blocked)\n",
    "    print('; '.join(blocker + ': ' + ','.join(blocked) for blocker,blocked in blocked_steps.items() if blocked))\n",
    "\n",
    "  return blocked_steps\n",
    "\n",
    "get_blocked_steps([('f', 'e'), ('c','f')])"
   ]
  },
  {
   "cell_type": "code",
   "execution_count": 8,
   "metadata": {
    "ExecuteTime": {
     "end_time": "2018-12-10T14:52:19.884426Z",
     "start_time": "2018-12-10T14:52:19.770573Z"
    }
   },
   "outputs": [
    {
     "name": "stdout",
     "output_type": "stream",
     "text": [
      "[['A', 1], ['B', 2], ['C', 3], ['D', 4], ['E', 5], ['F', 6]]\n",
      "\n",
      " S | Cur | Done      | Remaining\n",
      "---|-----|-----------|--------------------------------------------------\n",
      "['C'] {'C': 2}\n"
     ]
    },
    {
     "ename": "NameError",
     "evalue": "name 'done_steps' is not defined",
     "output_type": "error",
     "traceback": [
      "\u001b[0;31m---------------------------------------------------------------------------\u001b[0m",
      "\u001b[0;31mNameError\u001b[0m                                 Traceback (most recent call last)",
      "\u001b[0;32m<ipython-input-8-4d6258a31273>\u001b[0m in \u001b[0;36m<module>\u001b[0;34m()\u001b[0m\n\u001b[1;32m     23\u001b[0m   \u001b[0;32mreturn\u001b[0m \u001b[0mtime\u001b[0m\u001b[0;34m\u001b[0m\u001b[0m\n\u001b[1;32m     24\u001b[0m \u001b[0;34m\u001b[0m\u001b[0m\n\u001b[0;32m---> 25\u001b[0;31m \u001b[0mcomplete_time\u001b[0m\u001b[0;34m(\u001b[0m\u001b[0mtest_instructions\u001b[0m\u001b[0;34m,\u001b[0m \u001b[0;36m1\u001b[0m\u001b[0;34m,\u001b[0m \u001b[0;36m2\u001b[0m\u001b[0;34m)\u001b[0m\u001b[0;34m\u001b[0m\u001b[0m\n\u001b[0m",
      "\u001b[0;32m<ipython-input-8-4d6258a31273>\u001b[0m in \u001b[0;36mcomplete_time\u001b[0;34m(instructions, duration, workers, debug)\u001b[0m\n\u001b[1;32m     13\u001b[0m \u001b[0;34m\u001b[0m\u001b[0m\n\u001b[1;32m     14\u001b[0m     \u001b[0mbeing_done\u001b[0m \u001b[0;34m=\u001b[0m \u001b[0mavailable\u001b[0m\u001b[0;34m[\u001b[0m\u001b[0;34m:\u001b[0m\u001b[0mworkers\u001b[0m\u001b[0;34m]\u001b[0m\u001b[0;34m\u001b[0m\u001b[0m\n\u001b[0;32m---> 15\u001b[0;31m     \u001b[0mprint\u001b[0m\u001b[0;34m(\u001b[0m\u001b[0;34mf'{str(time).rjust(2)} | {\",\".join(being_done).rjust(3)} | {\",\".join(done_steps).rjust(9)} | {remaining_steps_time}'\u001b[0m\u001b[0;34m)\u001b[0m\u001b[0;34m\u001b[0m\u001b[0m\n\u001b[0m\u001b[1;32m     16\u001b[0m     \u001b[0;32mfor\u001b[0m \u001b[0mremaining_step\u001b[0m\u001b[0;34m,\u001b[0m\u001b[0mremaining_time\u001b[0m \u001b[0;32min\u001b[0m \u001b[0mremaining\u001b[0m\u001b[0;34m:\u001b[0m\u001b[0;34m\u001b[0m\u001b[0m\n\u001b[1;32m     17\u001b[0m       \u001b[0mremaining_steps_time\u001b[0m\u001b[0;34m[\u001b[0m\u001b[0mstep\u001b[0m\u001b[0;34m]\u001b[0m \u001b[0;34m-=\u001b[0m \u001b[0;36m1\u001b[0m\u001b[0;34m\u001b[0m\u001b[0m\n",
      "\u001b[0;31mNameError\u001b[0m: name 'done_steps' is not defined"
     ]
    }
   ],
   "source": [
    "def complete_time(instructions, duration, workers, debug=False):\n",
    "  remaining = [[s, ord(s)-ord('A')+duration] for s in get_all_steps(instructions)]\n",
    "  print(remaining)\n",
    "  time, done, requirements = 0, [], get_requirements(instructions)\n",
    "\n",
    "  print('\\n S | Cur | Done      | Remaining')\n",
    "  print(f'---|-----|-----------|{\"\".rjust(50, \"-\")}')\n",
    "  while remaining:\n",
    "    remaining_steps = [r[0] for r in remaining]\n",
    "    available = get_available_steps(done, remaining_steps, requirements)\n",
    "    print(available, {s:len([r for r in requirements if s in requirements[r] and r in remaining_steps]) for s in available})\n",
    "    available.sort(key=lambda s: len([r for r in requirements if s in requirements[r] and r in remaining_steps]), reverse=True)\n",
    "\n",
    "    being_done = available[:workers]\n",
    "    print(f'{str(time).rjust(2)} | {\",\".join(being_done).rjust(3)} | {\",\".join(done_steps).rjust(9)} | {remaining_steps_time}')\n",
    "    for remaining_step,remaining_time in remaining:\n",
    "      remaining_steps_time[step] -= 1\n",
    "      if remaining_steps_time[step] == 0:\n",
    "        remaining_steps.remove(step)\n",
    "        done_steps.append(step)\n",
    "    time += 1\n",
    "\n",
    "  return time\n",
    "\n",
    "complete_time(test_instructions, 1, 2)"
   ]
  },
  {
   "cell_type": "code",
   "execution_count": null,
   "metadata": {},
   "outputs": [],
   "source": []
  }
 ],
 "metadata": {
  "kernelspec": {
   "display_name": "Python 3",
   "language": "python",
   "name": "python3"
  },
  "language_info": {
   "codemirror_mode": {
    "name": "ipython",
    "version": 3
   },
   "file_extension": ".py",
   "mimetype": "text/x-python",
   "name": "python",
   "nbconvert_exporter": "python",
   "pygments_lexer": "ipython3",
   "version": "3.6.6"
  },
  "toc": {
   "base_numbering": 1,
   "nav_menu": {},
   "number_sections": false,
   "sideBar": false,
   "skip_h1_title": true,
   "title_cell": "Table of Contents",
   "title_sidebar": "Contents",
   "toc_cell": false,
   "toc_position": {},
   "toc_section_display": true,
   "toc_window_display": false
  }
 },
 "nbformat": 4,
 "nbformat_minor": 2
}
