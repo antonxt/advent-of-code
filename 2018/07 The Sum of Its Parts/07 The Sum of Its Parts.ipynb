{
 "cells": [
  {
   "cell_type": "markdown",
   "metadata": {},
   "source": [
    "# Day 7:  The Sum of Its Parts\n",
    "[link](https://adventofcode.com/2018/day/7)"
   ]
  },
  {
   "cell_type": "markdown",
   "metadata": {},
   "source": [
    "## Part 1: Order of steps"
   ]
  },
  {
   "cell_type": "code",
   "execution_count": 24,
   "metadata": {
    "ExecuteTime": {
     "end_time": "2018-12-07T22:04:10.254663Z",
     "start_time": "2018-12-07T22:04:10.249308Z"
    }
   },
   "outputs": [],
   "source": [
    "import re\n",
    "\n",
    "def parse(lines):\n",
    "  instructions = []\n",
    "  for line in lines:\n",
    "    match = re.search(r'Step ([A-Z]) must be finished before step ([A-Z]) can begin', line.strip())\n",
    "    assert match, f'Wrong format in line \"{line}\"'\n",
    "    before, after = match.group(1), match.group(2)\n",
    "    instructions.append((before, after))\n",
    "  return instructions\n",
    "\n",
    "def get_steps(instructions):\n",
    "  requirements, all_steps = {}, set()\n",
    "  for before, after in instructions:\n",
    "    all_steps.add(before)\n",
    "    all_steps.add(after)\n",
    "    if after in requirements:\n",
    "      requirements[after].add(before)\n",
    "    else:\n",
    "      requirements[after] = set([before])\n",
    "\n",
    "  done_steps, remaining_steps = [], sorted(list(all_steps))\n",
    "\n",
    "  def get_next_step():      \n",
    "    for step in remaining_steps:\n",
    "      required_steps = requirements[step] if step in requirements else set()\n",
    "      if required_steps - set(done_steps):  # Some required steps were not done yet\n",
    "        continue\n",
    "      else:\n",
    "        return step\n",
    "    raise ValueError(f'Cannot find any suitable next step. Done {done_steps}, remaining {remaining_steps}, rules {graph}') \n",
    "\n",
    "  while remaining_steps:\n",
    "    next_step = get_next_step()\n",
    "    done_steps.append(next_step)\n",
    "    remaining_steps.remove(next_step)\n",
    "\n",
    "  return ''.join(done_steps)"
   ]
  },
  {
   "cell_type": "code",
   "execution_count": 25,
   "metadata": {
    "ExecuteTime": {
     "end_time": "2018-12-07T22:04:10.584298Z",
     "start_time": "2018-12-07T22:04:10.581207Z"
    }
   },
   "outputs": [],
   "source": [
    "test_lines = [\n",
    "  'Step C must be finished before step A can begin.',\n",
    "  'Step C must be finished before step F can begin.',\n",
    "  'Step A must be finished before step B can begin.',\n",
    "  'Step A must be finished before step D can begin.',\n",
    "  'Step B must be finished before step E can begin.',\n",
    "  'Step D must be finished before step E can begin.',\n",
    "  'Step F must be finished before step E can begin.'\n",
    "]\n",
    "\n",
    "test_instructions = parse(test_lines)\n",
    "assert get_steps(test_instructions) == 'CABDFE'"
   ]
  },
  {
   "cell_type": "code",
   "execution_count": 26,
   "metadata": {
    "ExecuteTime": {
     "end_time": "2018-12-07T22:04:13.571493Z",
     "start_time": "2018-12-07T22:04:13.566918Z"
    }
   },
   "outputs": [
    {
     "data": {
      "text/plain": [
       "101"
      ]
     },
     "execution_count": 26,
     "metadata": {},
     "output_type": "execute_result"
    }
   ],
   "source": [
    "with open('07 input.txt', 'r') as file:\n",
    "  puzzle_input = parse(file)\n",
    "len(puzzle_input)"
   ]
  },
  {
   "cell_type": "code",
   "execution_count": 27,
   "metadata": {
    "ExecuteTime": {
     "end_time": "2018-12-07T22:04:15.946764Z",
     "start_time": "2018-12-07T22:04:15.943260Z"
    }
   },
   "outputs": [
    {
     "data": {
      "text/plain": [
       "'EPWCFXKISTZVJHDGNABLQYMORU'"
      ]
     },
     "execution_count": 27,
     "metadata": {},
     "output_type": "execute_result"
    }
   ],
   "source": [
    "get_steps(puzzle_input)"
   ]
  },
  {
   "cell_type": "markdown",
   "metadata": {},
   "source": [
    "**Part 1 correct answer:** `EPWCFXKISTZVJHDGNABLQYMORU`"
   ]
  },
  {
   "cell_type": "markdown",
   "metadata": {},
   "source": [
    "## Part 2: How long will it take to complete the steps?\n",
    "With `5` workers and the `60`+ second step durations."
   ]
  },
  {
   "cell_type": "code",
   "execution_count": null,
   "metadata": {},
   "outputs": [],
   "source": []
  }
 ],
 "metadata": {
  "kernelspec": {
   "display_name": "Python 3",
   "language": "python",
   "name": "python3"
  },
  "language_info": {
   "codemirror_mode": {
    "name": "ipython",
    "version": 3
   },
   "file_extension": ".py",
   "mimetype": "text/x-python",
   "name": "python",
   "nbconvert_exporter": "python",
   "pygments_lexer": "ipython3",
   "version": "3.6.6"
  },
  "toc": {
   "base_numbering": 1,
   "nav_menu": {},
   "number_sections": false,
   "sideBar": false,
   "skip_h1_title": true,
   "title_cell": "Table of Contents",
   "title_sidebar": "Contents",
   "toc_cell": false,
   "toc_position": {},
   "toc_section_display": true,
   "toc_window_display": false
  }
 },
 "nbformat": 4,
 "nbformat_minor": 2
}
