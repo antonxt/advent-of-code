{
 "cells": [
  {
   "cell_type": "markdown",
   "metadata": {},
   "source": [
    "# Day 7:  The Sum of Its Parts\n",
    "[link](https://adventofcode.com/2018/day/7)"
   ]
  },
  {
   "cell_type": "markdown",
   "metadata": {},
   "source": [
    "## Part 1: Order of steps"
   ]
  },
  {
   "cell_type": "code",
   "execution_count": 1,
   "metadata": {
    "ExecuteTime": {
     "end_time": "2018-12-11T16:54:19.667999Z",
     "start_time": "2018-12-11T16:54:19.658873Z"
    }
   },
   "outputs": [],
   "source": [
    "import re\n",
    "\n",
    "def parse(lines):\n",
    "  instructions = []\n",
    "  for line in lines:\n",
    "    match = re.search(r'Step ([A-Z]) must be finished before step ([A-Z]) can begin', line.strip())\n",
    "    assert match, f'Wrong format in line \"{line}\"'\n",
    "    before, after = match.group(1), match.group(2)\n",
    "    instructions.append((before, after))\n",
    "  return instructions"
   ]
  },
  {
   "cell_type": "code",
   "execution_count": 2,
   "metadata": {
    "ExecuteTime": {
     "end_time": "2018-12-11T16:54:19.673254Z",
     "start_time": "2018-12-11T16:54:19.669952Z"
    }
   },
   "outputs": [],
   "source": [
    "def get_all_steps(instructions):\n",
    "  steps = set()\n",
    "  for before, after in instructions:\n",
    "    steps.add(before)\n",
    "    steps.add(after)\n",
    "  return sorted(list(steps))\n",
    "\n",
    "def get_requirements(instructions):\n",
    "  requirements = {s:set() for s in get_all_steps(instructions)}\n",
    "  for required,step in instructions:\n",
    "    requirements[step].add(required)\n",
    "  return requirements"
   ]
  },
  {
   "cell_type": "code",
   "execution_count": 3,
   "metadata": {
    "ExecuteTime": {
     "end_time": "2018-12-11T16:54:19.678635Z",
     "start_time": "2018-12-11T16:54:19.674920Z"
    }
   },
   "outputs": [],
   "source": [
    "def get_available_steps(done, remaining, requirements):\n",
    "  available = [s for s in remaining if not (s in requirements and requirements[s] - set(done))]\n",
    "  assert available, f'Cannot find any suitable next steps'\n",
    "  return available\n",
    "\n",
    "def get_steps_order(instructions):\n",
    "  requirements,remaining,done = get_requirements(instructions),get_all_steps(instructions),[]\n",
    "\n",
    "  while remaining:\n",
    "    all_available = get_available_steps(done, remaining, requirements)\n",
    "    next_step = all_available[0]\n",
    "    done.append(next_step)\n",
    "    remaining.remove(next_step)\n",
    "\n",
    "  return ''.join(done)"
   ]
  },
  {
   "cell_type": "code",
   "execution_count": 4,
   "metadata": {
    "ExecuteTime": {
     "end_time": "2018-12-11T16:54:19.683144Z",
     "start_time": "2018-12-11T16:54:19.680409Z"
    }
   },
   "outputs": [],
   "source": [
    "test_lines = [\n",
    "  'Step C must be finished before step A can begin.',\n",
    "  'Step C must be finished before step F can begin.',\n",
    "  'Step A must be finished before step B can begin.',\n",
    "  'Step A must be finished before step D can begin.',\n",
    "  'Step B must be finished before step E can begin.',\n",
    "  'Step D must be finished before step E can begin.',\n",
    "  'Step F must be finished before step E can begin.'\n",
    "]\n",
    "\n",
    "test_instructions = parse(test_lines)\n",
    "assert get_steps_order(test_instructions) == 'CABDFE'"
   ]
  },
  {
   "cell_type": "code",
   "execution_count": 5,
   "metadata": {
    "ExecuteTime": {
     "end_time": "2018-12-11T16:54:19.690912Z",
     "start_time": "2018-12-11T16:54:19.685180Z"
    }
   },
   "outputs": [
    {
     "data": {
      "text/plain": [
       "101"
      ]
     },
     "execution_count": 5,
     "metadata": {},
     "output_type": "execute_result"
    }
   ],
   "source": [
    "with open('07 input.txt', 'r') as file:\n",
    "  puzzle_input = parse(file)\n",
    "len(puzzle_input)"
   ]
  },
  {
   "cell_type": "code",
   "execution_count": 6,
   "metadata": {
    "ExecuteTime": {
     "end_time": "2018-12-11T16:54:19.696104Z",
     "start_time": "2018-12-11T16:54:19.692829Z"
    }
   },
   "outputs": [
    {
     "data": {
      "text/plain": [
       "'EPWCFXKISTZVJHDGNABLQYMORU'"
      ]
     },
     "execution_count": 6,
     "metadata": {},
     "output_type": "execute_result"
    }
   ],
   "source": [
    "solution_1 = get_steps_order(puzzle_input)\n",
    "assert solution_1 == 'EPWCFXKISTZVJHDGNABLQYMORU'\n",
    "solution_1"
   ]
  },
  {
   "cell_type": "markdown",
   "metadata": {},
   "source": [
    "**Part 1 correct answer:** `EPWCFXKISTZVJHDGNABLQYMORU`"
   ]
  },
  {
   "cell_type": "markdown",
   "metadata": {},
   "source": [
    "## Part 2: How long will it take to complete the steps?\n",
    "With `5` workers and the `60`+ second step durations (step `A` takes `61` seconds, etc.)\n",
    "\n",
    "[Critical Path Method](https://en.wikipedia.org/wiki/Critical_path_method) is used for choosing the steps that have the longest \"critical path\" duration.\n",
    "\n",
    "**Update**: this was not needed as the task says: *If multiple steps are available, workers should still begin them in **alphabetical order**.*\n",
    "\n",
    "Critical Path implementation:\n",
    "\n",
    "```python\n",
    "def get_paths(step, path=None, paths=None):\n",
    "  if path is None:\n",
    "    path = [r for r in remaining if r[0]==step]\n",
    "  if paths is None:\n",
    "    paths = []\n",
    "  next_steps = [r for r in remaining if step in requirements[r[0]]]\n",
    "  if len(next_steps)>0:\n",
    "    for f in next_steps:\n",
    "      new_path = path + [f]\n",
    "      get_paths(f[0], new_path, paths)\n",
    "  else:\n",
    "    paths.append(path)\n",
    "  return paths\n",
    "\n",
    "# Critical path time = minimal time to get from the step to finish\n",
    "def crit_time(step):\n",
    "  return min(sum(s[1] for s in p) for p in get_paths(step))\n",
    "\n",
    "print(' | '.join(f'{s}({crit_time(s)})' for s in get_all_steps(instructions)))\n",
    "```"
   ]
  },
  {
   "cell_type": "code",
   "execution_count": 7,
   "metadata": {
    "ExecuteTime": {
     "end_time": "2018-12-11T16:54:19.724904Z",
     "start_time": "2018-12-11T16:54:19.697503Z"
    },
    "scrolled": true
   },
   "outputs": [
    {
     "name": "stdout",
     "output_type": "stream",
     "text": [
      "\n",
      " S | 1 | 2 | Done      | Remaining\n",
      "---|---|---|-----------|------------------------------\n",
      " 0 | C | . |           | A(1) B(2) C(3) D(4) E(5) F(6)\n",
      " 1 | C | . |           | A(1) B(2) C(2) D(4) E(5) F(6)\n",
      " 2 | C | . |           | A(1) B(2) C(1) D(4) E(5) F(6)\n",
      " 3 | A | F |         C | A(1) B(2) D(4) E(5) F(6)\n",
      " 4 | B | F |       C,A | B(2) D(4) E(5) F(5)\n",
      " 5 | B | F |       C,A | B(1) D(4) E(5) F(4)\n",
      " 6 | D | F |     C,A,B | D(4) E(5) F(3)\n",
      " 7 | D | F |     C,A,B | D(3) E(5) F(2)\n",
      " 8 | D | F |     C,A,B | D(2) E(5) F(1)\n",
      " 9 | D | . |   C,A,B,F | D(1) E(5)\n",
      "10 | E | . | C,A,B,F,D | E(5)\n",
      "11 | E | . | C,A,B,F,D | E(4)\n",
      "12 | E | . | C,A,B,F,D | E(3)\n",
      "13 | E | . | C,A,B,F,D | E(2)\n",
      "14 | E | . | C,A,B,F,D | E(1)\n"
     ]
    }
   ],
   "source": [
    "def complete_time(instructions, duration, workers_number, debug=False):\n",
    "  remaining_steps = get_all_steps(instructions)\n",
    "  remaining_step_time = {s:ord(s)-ord('A')+duration for s in remaining_steps}\n",
    "  requirements = get_requirements(instructions)\n",
    "  workers = ['.'] * workers_number\n",
    "  time, done = 0, []\n",
    "\n",
    "  if debug:\n",
    "    print('\\n S | 1 | 2 | Done      | Remaining')\n",
    "    print(f'---|---|---|-----------|{\"\".rjust(30, \"-\")}')\n",
    "\n",
    "  while remaining_steps:\n",
    "    if '.' in workers: # There are workers doing nothing. Give them some steps to work on if there are any available.\n",
    "      available_steps = [s for s in get_available_steps(done, remaining_steps, requirements) if s not in workers]\n",
    "      free_woker_indexes = [i for i,s in enumerate(workers) if s is '.']\n",
    "      available_steps = available_steps[:len(free_woker_indexes)]\n",
    "      for i,available_step in enumerate(available_steps):\n",
    "        workers[free_woker_indexes[i]] = available_step\n",
    "\n",
    "    if debug:\n",
    "      wks = \" | \".join(workers)\n",
    "      rmng = \" \".join(f'{s}({remaining_step_time[s]})' for s in remaining_steps)\n",
    "      print(f'{str(time).rjust(2)} | {wks} | {\",\".join(done).rjust(9)} | {rmng}')\n",
    "\n",
    "    for worker_index,step in enumerate(workers):\n",
    "      if step!='.':\n",
    "        remaining_step_time[step] -= 1\n",
    "        if remaining_step_time[step]==0:\n",
    "          del remaining_step_time[step]\n",
    "          workers[worker_index] = '.'\n",
    "          done.append(step)\n",
    "          remaining_steps.remove(step)\n",
    "\n",
    "    time += 1\n",
    "\n",
    "  return time\n",
    "\n",
    "assert complete_time(test_instructions, 1, 2, True) == 15"
   ]
  },
  {
   "cell_type": "code",
   "execution_count": 8,
   "metadata": {
    "ExecuteTime": {
     "end_time": "2018-12-11T16:54:19.739007Z",
     "start_time": "2018-12-11T16:54:19.726908Z"
    }
   },
   "outputs": [
    {
     "data": {
      "text/plain": [
       "952"
      ]
     },
     "execution_count": 8,
     "metadata": {},
     "output_type": "execute_result"
    }
   ],
   "source": [
    "complete_time(puzzle_input, 61, 5)"
   ]
  },
  {
   "cell_type": "markdown",
   "metadata": {},
   "source": [
    "**Incorrect answers:**\n",
    "* `940` is too low\n",
    "* `953` is too high\n",
    "\n",
    "**Correct answer:** `952`"
   ]
  }
 ],
 "metadata": {
  "kernelspec": {
   "display_name": "Python 3",
   "language": "python",
   "name": "python3"
  },
  "language_info": {
   "codemirror_mode": {
    "name": "ipython",
    "version": 3
   },
   "file_extension": ".py",
   "mimetype": "text/x-python",
   "name": "python",
   "nbconvert_exporter": "python",
   "pygments_lexer": "ipython3",
   "version": "3.6.6"
  },
  "toc": {
   "base_numbering": 1,
   "nav_menu": {},
   "number_sections": false,
   "sideBar": false,
   "skip_h1_title": true,
   "title_cell": "Table of Contents",
   "title_sidebar": "Contents",
   "toc_cell": false,
   "toc_position": {},
   "toc_section_display": true,
   "toc_window_display": false
  }
 },
 "nbformat": 4,
 "nbformat_minor": 2
}
