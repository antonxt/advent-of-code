{
 "cells": [
  {
   "cell_type": "markdown",
   "metadata": {},
   "source": [
    "# Day 08: Memory Maneuver\n",
    "[link](https://adventofcode.com/2018/day/8)\n",
    "\n",
    "```\n",
    "2 3 0 3 10 11 12 1 1 0 1 99 2 1 1 2\n",
    "A----------------------------------\n",
    "    B----------- C-----------\n",
    "                     D-----\n",
    "```"
   ]
  },
  {
   "cell_type": "markdown",
   "metadata": {},
   "source": [
    "## Part 1: Sum of nodes' metadata"
   ]
  },
  {
   "cell_type": "code",
   "execution_count": 1,
   "metadata": {},
   "outputs": [],
   "source": [
    "def parse(numbers):\n",
    "  n_children, n_meta = numbers[:2]\n",
    "  del numbers[:2]\n",
    "  children = []\n",
    "  for i in range(n_children):\n",
    "    child = parse(numbers)\n",
    "    children.append(child)\n",
    "  meta = numbers[:n_meta]\n",
    "  del numbers[:n_meta]\n",
    "  return (meta, children)\n",
    "\n",
    "def sum_meta(node):\n",
    "  meta, children = node\n",
    "  result = sum(meta)\n",
    "  for child in children:\n",
    "    result += sum_meta(child)\n",
    "  return result"
   ]
  },
  {
   "cell_type": "code",
   "execution_count": 2,
   "metadata": {},
   "outputs": [],
   "source": [
    "def parse_numbers(text):\n",
    "  return list(map(int, text.split()))\n",
    "\n",
    "test_in = parse_numbers('2 3 0 3 10 11 12 1 1 0 1 99 2 1 1 2')\n",
    "test_node = parse(test_in[:])\n",
    "assert sum_meta(test_node) == 138"
   ]
  },
  {
   "cell_type": "code",
   "execution_count": 3,
   "metadata": {},
   "outputs": [],
   "source": [
    "with open('08 input.txt', 'r') as file:\n",
    "  puzzle_input = parse_numbers(file.read().strip())"
   ]
  },
  {
   "cell_type": "code",
   "execution_count": 4,
   "metadata": {},
   "outputs": [
    {
     "data": {
      "text/plain": [
       "45618"
      ]
     },
     "execution_count": 4,
     "metadata": {},
     "output_type": "execute_result"
    }
   ],
   "source": [
    "puzzle_node = parse(puzzle_input[:])\n",
    "sum_meta(puzzle_node)"
   ]
  },
  {
   "cell_type": "markdown",
   "metadata": {},
   "source": [
    "**Part 1 answer:** `45618`"
   ]
  },
  {
   "cell_type": "markdown",
   "metadata": {},
   "source": [
    "## Part 2: Value of a node"
   ]
  },
  {
   "cell_type": "code",
   "execution_count": 5,
   "metadata": {},
   "outputs": [],
   "source": [
    "def value(node):\n",
    "  meta, children = node\n",
    "  if not children:\n",
    "    return sum(meta)\n",
    "  child_value = [value(child) for child in children]\n",
    "  return sum(child_value[m-1] for m in meta if m>0 and m-1<len(child_value))\n",
    "\n",
    "assert value(test_node) == 66"
   ]
  },
  {
   "cell_type": "code",
   "execution_count": 6,
   "metadata": {},
   "outputs": [
    {
     "data": {
      "text/plain": [
       "22306"
      ]
     },
     "execution_count": 6,
     "metadata": {},
     "output_type": "execute_result"
    }
   ],
   "source": [
    "value(puzzle_node)"
   ]
  },
  {
   "cell_type": "markdown",
   "metadata": {},
   "source": [
    "**Part 2 answer:** `22306`"
   ]
  }
 ],
 "metadata": {
  "kernelspec": {
   "display_name": "Python 3",
   "language": "python",
   "name": "python3"
  },
  "language_info": {
   "codemirror_mode": {
    "name": "ipython",
    "version": 3
   },
   "file_extension": ".py",
   "mimetype": "text/x-python",
   "name": "python",
   "nbconvert_exporter": "python",
   "pygments_lexer": "ipython3",
   "version": "3.7.1"
  },
  "toc": {
   "base_numbering": 1,
   "nav_menu": {},
   "number_sections": false,
   "sideBar": false,
   "skip_h1_title": true,
   "title_cell": "Table of Contents",
   "title_sidebar": "Contents",
   "toc_cell": false,
   "toc_position": {},
   "toc_section_display": true,
   "toc_window_display": false
  }
 },
 "nbformat": 4,
 "nbformat_minor": 2
}
