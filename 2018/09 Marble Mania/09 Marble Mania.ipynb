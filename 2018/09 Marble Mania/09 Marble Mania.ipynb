{
 "cells": [
  {
   "cell_type": "markdown",
   "metadata": {},
   "source": [
    "# Day 09: Marble Mania\n",
    "[link](https://adventofcode.com/2018/day/9)"
   ]
  },
  {
   "cell_type": "markdown",
   "metadata": {},
   "source": [
    "## Part 1: Best player score"
   ]
  },
  {
   "cell_type": "code",
   "execution_count": 1,
   "metadata": {
    "ExecuteTime": {
     "end_time": "2018-12-16T19:16:09.358551Z",
     "start_time": "2018-12-16T19:16:09.352290Z"
    }
   },
   "outputs": [
    {
     "data": {
      "text/plain": [
       "(9, 25)"
      ]
     },
     "execution_count": 1,
     "metadata": {},
     "output_type": "execute_result"
    }
   ],
   "source": [
    "import re\n",
    "\n",
    "regex = re.compile(r'^(\\d+) players; last marble is worth (\\d+) points')\n",
    "\n",
    "def parse(s):\n",
    "  match = regex.match(s)\n",
    "  return int(match.group(1)), int(match.group(2))\n",
    "\n",
    "test_in = '9 players; last marble is worth 25 points'\n",
    "parse(test_in)"
   ]
  },
  {
   "cell_type": "code",
   "execution_count": 2,
   "metadata": {
    "ExecuteTime": {
     "end_time": "2018-12-16T19:16:09.385235Z",
     "start_time": "2018-12-16T19:16:09.361152Z"
    }
   },
   "outputs": [
    {
     "name": "stdout",
     "output_type": "stream",
     "text": [
      "[1]   0 ( 1)\n",
      "[2]   0 ( 2)  1 \n",
      "[3]   0   2   1 ( 3)\n",
      "[4]   0 ( 4)  2   1   3 \n",
      "[5]   0   4   2 ( 5)  1   3 \n",
      "[6]   0   4   2   5   1 ( 6)  3 \n",
      "[7]   0   4   2   5   1   6   3 ( 7)\n",
      "[8]   0 ( 8)  4   2   5   1   6   3   7 \n",
      "[9]   0   8   4 ( 9)  2   5   1   6   3   7 \n",
      "[1]   0   8   4   9   2 (10)  5   1   6   3   7 \n",
      "[2]   0   8   4   9   2  10   5 (11)  1   6   3   7 \n",
      "[3]   0   8   4   9   2  10   5  11   1 (12)  6   3   7 \n",
      "[4]   0   8   4   9   2  10   5  11   1  12   6 (13)  3   7 \n",
      "[5]   0   8   4   9   2  10   5  11   1  12   6  13   3 (14)  7 \n",
      "[6]   0   8   4   9   2  10   5  11   1  12   6  13   3  14   7 (15)\n",
      "[7]   0 (16)  8   4   9   2  10   5  11   1  12   6  13   3  14   7  15 \n",
      "[8]   0  16   8 (17)  4   9   2  10   5  11   1  12   6  13   3  14   7  15 \n",
      "[9]   0  16   8  17   4 (18)  9   2  10   5  11   1  12   6  13   3  14   7  15 \n",
      "[1]   0  16   8  17   4  18   9 (19)  2  10   5  11   1  12   6  13   3  14   7  15 \n",
      "[2]   0  16   8  17   4  18   9  19   2 (20) 10   5  11   1  12   6  13   3  14   7  15 \n",
      "[3]   0  16   8  17   4  18   9  19   2  20  10 (21)  5  11   1  12   6  13   3  14   7  15 \n",
      "[4]   0  16   8  17   4  18   9  19   2  20  10  21   5 (22) 11   1  12   6  13   3  14   7  15 \n",
      "[5]   0  16   8  17   4  18 (19)  2  20  10  21   5  22  11   1  12   6  13   3  14   7  15 \n",
      "[6]   0  16   8  17   4  18  19   2 (24) 20  10  21   5  22  11   1  12   6  13   3  14   7  15 \n",
      "[7]   0  16   8  17   4  18  19   2  24  20 (25) 10  21   5  22  11   1  12   6  13   3  14   7  15 \n"
     ]
    }
   ],
   "source": [
    "def score(text, debug=False):\n",
    "  n_players,last_marble = parse(text)\n",
    "  circle = [0]\n",
    "  current_i = 0\n",
    "  player_scores = [0]*n_players\n",
    "  for marble in range(1,last_marble+1):\n",
    "    player_i = (marble-1)%n_players # The number (starting with 0) of the player that makes the move with `marble`\n",
    "    if marble%23 > 0:\n",
    "      current_i = current_i+2 if current_i<len(circle)-1 else 1\n",
    "      circle.insert(current_i, marble)\n",
    "    else: # A winning turn for the curent player\n",
    "      current_i = current_i-7 if current_i>=7 else current_i+len(circle)-7\n",
    "      player_scores[player_i] += circle.pop(current_i) + marble\n",
    "\n",
    "    if debug:\n",
    "      s = ''.join(f'({str(m).rjust(2)})' if i==current_i else f' {str(m).rjust(2)} ' for i,m in enumerate(circle))\n",
    "      print(f'[{player_i+1}] {s}')\n",
    "\n",
    "  max_score = max(player_scores)\n",
    "  return max_score, player_scores.index(max_score)\n",
    "\n",
    "assert score(test_in, True) == (32,4)"
   ]
  },
  {
   "cell_type": "code",
   "execution_count": 3,
   "metadata": {
    "ExecuteTime": {
     "end_time": "2018-12-16T19:16:09.408412Z",
     "start_time": "2018-12-16T19:16:09.386659Z"
    }
   },
   "outputs": [],
   "source": [
    "tests = [\n",
    "  ('9 players; last marble is worth 25 points', 32),\n",
    "  ('10 players; last marble is worth 1618 points', 8317),\n",
    "  ('13 players; last marble is worth 7999 points', 146373),\n",
    "  ('17 players; last marble is worth 1104 points', 2764),\n",
    "  ('21 players; last marble is worth 6111 points', 54718),\n",
    "  ('30 players; last marble is worth 5807 points', 37305)\n",
    "]\n",
    "\n",
    "for test,expected in tests:\n",
    "  actual=score(test)[0]\n",
    "  assert actual==expected, f'Expected \"{expected}\", got \"{actual}\", condition: \"{test}\"'"
   ]
  },
  {
   "cell_type": "code",
   "execution_count": 4,
   "metadata": {
    "ExecuteTime": {
     "end_time": "2018-12-16T19:16:09.733483Z",
     "start_time": "2018-12-16T19:16:09.412574Z"
    }
   },
   "outputs": [
    {
     "data": {
      "text/plain": [
       "(388844, 197)"
      ]
     },
     "execution_count": 4,
     "metadata": {},
     "output_type": "execute_result"
    }
   ],
   "source": [
    "puzzle_input = '452 players; last marble is worth 71250 points'\n",
    "best_score, best_player = score(puzzle_input)\n",
    "assert best_score, best_player == 388844\n",
    "best_score, best_player"
   ]
  },
  {
   "cell_type": "markdown",
   "metadata": {},
   "source": [
    "**Part 1 correct answer:** `388844`"
   ]
  },
  {
   "cell_type": "markdown",
   "metadata": {},
   "source": [
    "## Part 2: Best player's score if the last marble had 100x bigger number"
   ]
  },
  {
   "cell_type": "code",
   "execution_count": 5,
   "metadata": {
    "ExecuteTime": {
     "end_time": "2018-12-16T19:16:09.747574Z",
     "start_time": "2018-12-16T19:16:09.735579Z"
    }
   },
   "outputs": [
    {
     "name": "stdout",
     "output_type": "stream",
     "text": [
      "[1]   0 ( 1)\n",
      "[2]   0 ( 2)  1 \n",
      "[3]   0   2   1 ( 3)\n",
      "[4]   0 ( 4)  2   1   3 \n",
      "[5]   0   4   2 ( 5)  1   3 \n",
      "[6]   0   4   2   5   1 ( 6)  3 \n",
      "[7]   0   4   2   5   1   6   3 ( 7)\n",
      "[8]   0 ( 8)  4   2   5   1   6   3   7 \n",
      "[9]   0   8   4 ( 9)  2   5   1   6   3   7 \n",
      "[1]   0   8   4   9   2 (10)  5   1   6   3   7 \n",
      "[2]   0   8   4   9   2  10   5 (11)  1   6   3   7 \n",
      "[3]   0   8   4   9   2  10   5  11   1 (12)  6   3   7 \n",
      "[4]   0   8   4   9   2  10   5  11   1  12   6 (13)  3   7 \n",
      "[5]   0   8   4   9   2  10   5  11   1  12   6  13   3 (14)  7 \n",
      "[6]   0   8   4   9   2  10   5  11   1  12   6  13   3  14   7 (15)\n",
      "[7]   0 (16)  8   4   9   2  10   5  11   1  12   6  13   3  14   7  15 \n",
      "[8]   0  16   8 (17)  4   9   2  10   5  11   1  12   6  13   3  14   7  15 \n",
      "[9]   0  16   8  17   4 (18)  9   2  10   5  11   1  12   6  13   3  14   7  15 \n",
      "[1]   0  16   8  17   4  18   9 (19)  2  10   5  11   1  12   6  13   3  14   7  15 \n",
      "[2]   0  16   8  17   4  18   9  19   2 (20) 10   5  11   1  12   6  13   3  14   7  15 \n",
      "[3]   0  16   8  17   4  18   9  19   2  20  10 (21)  5  11   1  12   6  13   3  14   7  15 \n",
      "[4]   0  16   8  17   4  18   9  19   2  20  10  21   5 (22) 11   1  12   6  13   3  14   7  15 \n",
      "[5]   0  16   8  17   4  18 (19)  2  20  10  21   5  22  11   1  12   6  13   3  14   7  15 \n",
      "[6]   0  16   8  17   4  18  19   2 (24) 20  10  21   5  22  11   1  12   6  13   3  14   7  15 \n",
      "[7]   0  16   8  17   4  18  19   2  24  20 (25) 10  21   5  22  11   1  12   6  13   3  14   7  15 \n"
     ]
    },
    {
     "data": {
      "text/plain": [
       "32"
      ]
     },
     "execution_count": 5,
     "metadata": {},
     "output_type": "execute_result"
    }
   ],
   "source": [
    "class Marble:\n",
    "  def __init__(self, number, left, right):\n",
    "    self.number = number\n",
    "    self.left = left\n",
    "    self.right = right\n",
    "\n",
    "def score_optimized(text, debug=False):\n",
    "  n_players,last_marble = parse(text)\n",
    "  current = Marble(0,None,None)\n",
    "  current.left = current\n",
    "  current.right = current\n",
    "  root = current\n",
    "  player_scores = [0]*n_players\n",
    "  for marble in range(1, last_marble+1):\n",
    "    player_i = (marble-1)%n_players # The number (starting with 0) of the player that makes the move with `marble`\n",
    "    if marble%23 > 0:\n",
    "      before,after = current.right, current.right.right      \n",
    "      current = Marble(marble,before,after)\n",
    "      before.right, after.left = current, current\n",
    "    else: # A winning turn for the curent player\n",
    "      popped = current.left.left.left.left.left.left.left\n",
    "      player_scores[player_i] += popped.number + marble\n",
    "      before, after = popped.left, popped.right\n",
    "      before.right, after.left = after, before\n",
    "      current = after\n",
    "\n",
    "    if debug:\n",
    "      marble_i = root\n",
    "      a = []\n",
    "      while marble_i is not None:\n",
    "        mn = str(marble_i.number).rjust(2)\n",
    "        a.append(f'({mn})' if marble_i==current else f' {mn} ')\n",
    "        marble_i = marble_i.right if marble_i.right!=root else None\n",
    "\n",
    "      print(f'[{player_i+1}] {\"\".join(a)}')\n",
    "\n",
    "  return max(player_scores)\n",
    "\n",
    "score_optimized(test_in, True)"
   ]
  },
  {
   "cell_type": "code",
   "execution_count": 6,
   "metadata": {
    "ExecuteTime": {
     "end_time": "2018-12-16T19:16:09.770750Z",
     "start_time": "2018-12-16T19:16:09.749232Z"
    }
   },
   "outputs": [],
   "source": [
    "for test,expected in tests:\n",
    "  actual=score_optimized(test)\n",
    "  assert actual==expected, f'Expected \"{expected}\", got \"{actual}\", condition: \"{test}\"'"
   ]
  },
  {
   "cell_type": "code",
   "execution_count": 7,
   "metadata": {
    "ExecuteTime": {
     "end_time": "2018-12-16T19:16:26.106618Z",
     "start_time": "2018-12-16T19:16:09.772349Z"
    },
    "scrolled": true
   },
   "outputs": [
    {
     "data": {
      "text/plain": [
       "3212081616"
      ]
     },
     "execution_count": 7,
     "metadata": {},
     "output_type": "execute_result"
    }
   ],
   "source": [
    "part_2_input = '452 players; last marble is worth 7125000 points'\n",
    "score_optimized(part_2_input)"
   ]
  },
  {
   "cell_type": "markdown",
   "metadata": {},
   "source": [
    "**Incorrect answers**\n",
    "* `3474683694` is too high.\n",
    "\n",
    "**Correct answer:** `3212081616`"
   ]
  }
 ],
 "metadata": {
  "kernelspec": {
   "display_name": "Python 3",
   "language": "python",
   "name": "python3"
  },
  "language_info": {
   "codemirror_mode": {
    "name": "ipython",
    "version": 3
   },
   "file_extension": ".py",
   "mimetype": "text/x-python",
   "name": "python",
   "nbconvert_exporter": "python",
   "pygments_lexer": "ipython3",
   "version": "3.7.1"
  },
  "toc": {
   "base_numbering": 1,
   "nav_menu": {},
   "number_sections": false,
   "sideBar": false,
   "skip_h1_title": true,
   "title_cell": "Table of Contents",
   "title_sidebar": "Contents",
   "toc_cell": false,
   "toc_position": {},
   "toc_section_display": true,
   "toc_window_display": false
  }
 },
 "nbformat": 4,
 "nbformat_minor": 2
}
