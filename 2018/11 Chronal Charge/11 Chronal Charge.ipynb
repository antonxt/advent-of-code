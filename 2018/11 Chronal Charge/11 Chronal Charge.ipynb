{
 "cells": [
  {
   "cell_type": "markdown",
   "metadata": {},
   "source": [
    "# Day 11: Chronal Charge\n",
    "[link](https://adventofcode.com/2018/day/11)"
   ]
  },
  {
   "cell_type": "markdown",
   "metadata": {},
   "source": [
    "## Part 1\n",
    "What is the `X,Y` coordinate of the top-left fuel cell of the 3x3 square with the largest total power?"
   ]
  },
  {
   "cell_type": "code",
   "execution_count": 1,
   "metadata": {
    "ExecuteTime": {
     "end_time": "2019-01-06T19:23:27.094529Z",
     "start_time": "2019-01-06T19:23:26.948557Z"
    }
   },
   "outputs": [],
   "source": [
    "import numpy as np\n",
    "\n",
    "def load_grid(serial, dimension=300):\n",
    "  grid = np.zeros((dimension,dimension), dtype=np.int16)\n",
    "  for x in range(dimension):\n",
    "    for y in range(dimension):\n",
    "      rack_id = x+11\n",
    "      i = rack_id*(rack_id*(y+1) + serial)\n",
    "      power = i//100 - i//1000*10 - 5\n",
    "      grid[x,y] = power\n",
    "  return grid\n",
    "\n",
    "assert load_grid(8)[3-1, 5-1] == 4\n",
    "assert load_grid(57)[122-1, 79-1] == -5\n",
    "assert load_grid(39)[217-1, 196-1] == 0\n",
    "assert load_grid(71)[101-1, 153-1] == 4"
   ]
  },
  {
   "cell_type": "code",
   "execution_count": 2,
   "metadata": {
    "ExecuteTime": {
     "end_time": "2019-01-06T19:23:27.730037Z",
     "start_time": "2019-01-06T19:23:27.096769Z"
    }
   },
   "outputs": [],
   "source": [
    "def top_power_square(grid, size=3):\n",
    "  xm,ym,charge = 0,0,grid[0:size,0:size].sum()\n",
    "  for x in range(grid.shape[0]-size+1):\n",
    "    for y in range(grid.shape[1]-size+1):\n",
    "      sub_grid = grid[x:x+size,y:y+size]\n",
    "      sub_charge = sub_grid.sum()\n",
    "      if sub_charge > charge:\n",
    "        xm,ym,charge = x,y,sub_charge\n",
    "  return (xm+1,ym+1),charge\n",
    "\n",
    "assert top_power_square(load_grid(18)) == ((33, 45), 29)\n",
    "assert top_power_square(load_grid(42)) == ((21, 61), 30)"
   ]
  },
  {
   "cell_type": "code",
   "execution_count": 3,
   "metadata": {
    "ExecuteTime": {
     "end_time": "2019-01-06T19:23:28.049138Z",
     "start_time": "2019-01-06T19:23:27.731525Z"
    }
   },
   "outputs": [
    {
     "name": "stdout",
     "output_type": "stream",
     "text": [
      "Part 1 answer: \"235,87\"\n"
     ]
    }
   ],
   "source": [
    "puzzle_input = 8199\n",
    "\n",
    "part_1_result = top_power_square(load_grid(puzzle_input))\n",
    "assert part_1_result == ((235, 87), 28)\n",
    "print(f'Part 1 answer: \"{part_1_result[0][0]},{part_1_result[0][1]}\"')"
   ]
  },
  {
   "cell_type": "markdown",
   "metadata": {},
   "source": [
    "**Part 1 correct answer**: `235,87`"
   ]
  },
  {
   "cell_type": "markdown",
   "metadata": {},
   "source": [
    "## Part 2\n",
    "What are the `X,Y` coordinates of a square of any size with the largest total power? Return `X,Y,power`."
   ]
  },
  {
   "cell_type": "code",
   "execution_count": 5,
   "metadata": {
    "ExecuteTime": {
     "end_time": "2019-01-06T19:23:28.119689Z",
     "start_time": "2019-01-06T19:23:28.055592Z"
    }
   },
   "outputs": [],
   "source": [
    "from tqdm import tqdm\n",
    "from joblib import Parallel, delayed\n",
    "\n",
    "def top_power_square_size(grid, size):\n",
    "  return size, top_power_square(grid, size)\n",
    "\n",
    "def top_power_parallel(serial):\n",
    "  grid = load_grid(serial)\n",
    "  results = Parallel(n_jobs=8)(delayed(top_power_square_size)(grid, size) for size in tqdm(range(grid.shape[0])))\n",
    "  sorted_results = sorted(results, key=lambda t: t[1][1], reverse=True)\n",
    "  (top_size, ((top_x, top_y), top_charge)) = sorted_results[0]\n",
    "  return top_x, top_y, top_size"
   ]
  },
  {
   "cell_type": "code",
   "execution_count": 6,
   "metadata": {
    "ExecuteTime": {
     "end_time": "2019-01-06T19:24:34.880420Z",
     "start_time": "2019-01-06T19:23:28.121642Z"
    }
   },
   "outputs": [
    {
     "name": "stderr",
     "output_type": "stream",
     "text": [
      "100%|██████████| 300/300 [00:32<00:00,  9.27it/s]\n",
      "100%|██████████| 300/300 [00:34<00:00,  8.75it/s]\n"
     ]
    }
   ],
   "source": [
    "assert top_power_parallel(18) == (90, 269, 16)\n",
    "assert top_power_parallel(42) == (232, 251, 12)"
   ]
  },
  {
   "cell_type": "code",
   "execution_count": 7,
   "metadata": {
    "ExecuteTime": {
     "end_time": "2019-01-06T19:25:06.101461Z",
     "start_time": "2019-01-06T19:24:34.882532Z"
    }
   },
   "outputs": [
    {
     "name": "stderr",
     "output_type": "stream",
     "text": [
      "100%|██████████| 300/300 [00:31<00:00,  9.63it/s]\n"
     ]
    },
    {
     "data": {
      "text/plain": [
       "(234, 272, 18)"
      ]
     },
     "execution_count": 7,
     "metadata": {},
     "output_type": "execute_result"
    }
   ],
   "source": [
    "top_power_parallel(puzzle_input)"
   ]
  },
  {
   "cell_type": "markdown",
   "metadata": {},
   "source": [
    "**Part 2 answer:** `234,272,18`"
   ]
  }
 ],
 "metadata": {
  "kernelspec": {
   "display_name": "Python 3",
   "language": "python",
   "name": "python3"
  },
  "language_info": {
   "codemirror_mode": {
    "name": "ipython",
    "version": 3
   },
   "file_extension": ".py",
   "mimetype": "text/x-python",
   "name": "python",
   "nbconvert_exporter": "python",
   "pygments_lexer": "ipython3",
   "version": "3.7.1"
  },
  "toc": {
   "base_numbering": 1,
   "nav_menu": {},
   "number_sections": false,
   "sideBar": false,
   "skip_h1_title": true,
   "title_cell": "Table of Contents",
   "title_sidebar": "Contents",
   "toc_cell": false,
   "toc_position": {},
   "toc_section_display": true,
   "toc_window_display": false
  }
 },
 "nbformat": 4,
 "nbformat_minor": 2
}
