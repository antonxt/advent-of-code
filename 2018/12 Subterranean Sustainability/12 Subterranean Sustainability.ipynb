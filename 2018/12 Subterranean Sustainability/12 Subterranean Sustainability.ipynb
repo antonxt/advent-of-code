{
 "cells": [
  {
   "cell_type": "markdown",
   "metadata": {},
   "source": [
    "# Day 12: Subterranean Sustainability\n",
    "[link](https://adventofcode.com/2018/day/12)"
   ]
  },
  {
   "cell_type": "markdown",
   "metadata": {},
   "source": [
    "## Part 1\n",
    "After `20` generations, what is the sum of the numbers of all pots which contain a plant?"
   ]
  },
  {
   "cell_type": "markdown",
   "metadata": {
    "heading_collapsed": true
   },
   "source": [
    "### Inputs"
   ]
  },
  {
   "cell_type": "code",
   "execution_count": 1,
   "metadata": {
    "ExecuteTime": {
     "end_time": "2019-09-20T16:34:39.289086Z",
     "start_time": "2019-09-20T16:34:39.285197Z"
    },
    "hidden": true
   },
   "outputs": [],
   "source": [
    "puzzle_in = \"\"\"initial state: ##....#.#.#...#.#..#.#####.#.#.##.#.#.#######...#.##....#..##....#.#..##.####.#..........#..#...#\n",
    "\n",
    "..#.# => #\n",
    ".#### => #\n",
    "#.... => .\n",
    "####. => #\n",
    "...## => .\n",
    ".#.#. => .\n",
    "..#.. => .\n",
    "##.#. => .\n",
    "#.#.# => #\n",
    "..... => .\n",
    "#.#.. => .\n",
    "....# => .\n",
    ".#..# => .\n",
    "###.# => #\n",
    "#..#. => .\n",
    "##### => .\n",
    "...#. => #\n",
    "#.##. => #\n",
    ".#.## => #\n",
    "#..## => #\n",
    ".##.. => #\n",
    "##.## => .\n",
    "..### => .\n",
    "###.. => .\n",
    "##..# => #\n",
    ".#... => #\n",
    ".###. => #\n",
    "#.### => .\n",
    ".##.# => .\n",
    "#...# => #\n",
    "##... => .\n",
    "..##. => .\n",
    "\"\"\""
   ]
  },
  {
   "cell_type": "code",
   "execution_count": 2,
   "metadata": {
    "ExecuteTime": {
     "end_time": "2019-09-20T16:34:39.294596Z",
     "start_time": "2019-09-20T16:34:39.291621Z"
    },
    "hidden": true
   },
   "outputs": [],
   "source": [
    "test_in = \"\"\"initial state: #..#.#..##......###...###\n",
    "\n",
    "...## => #\n",
    "..#.. => #\n",
    ".#... => #\n",
    ".#.#. => #\n",
    ".#.## => #\n",
    ".##.. => #\n",
    ".#### => #\n",
    "#.#.# => #\n",
    "#.### => #\n",
    "##.#. => #\n",
    "##.## => #\n",
    "###.. => #\n",
    "###.# => #\n",
    "####. => #\n",
    "\"\"\""
   ]
  },
  {
   "cell_type": "markdown",
   "metadata": {},
   "source": [
    "### Logic"
   ]
  },
  {
   "cell_type": "code",
   "execution_count": 3,
   "metadata": {
    "ExecuteTime": {
     "end_time": "2019-09-20T16:34:39.364162Z",
     "start_time": "2019-09-20T16:34:39.337035Z"
    }
   },
   "outputs": [],
   "source": [
    "class Machine:\n",
    "  generation = 0\n",
    "\n",
    "  def __init__(self, input_str):\n",
    "    self.rules = set()\n",
    "    for line in input_str.split('\\n'):\n",
    "      if '=>' in line:\n",
    "        pots, outcome = line.split('=>')\n",
    "        if outcome.strip() == '#':\n",
    "          rule = [c for c in pots.strip() if c in '#.']\n",
    "          assert len(rule)==5\n",
    "          self.rules.add(''.join(rule))\n",
    "      elif line.startswith('initial state:'):\n",
    "        self.state = ''.join(c for c in line.split(':')[1] if c in '#.')\n",
    "        self.state_offset = 0\n",
    "\n",
    "    assert '#' in self.state\n",
    "    assert len(self.rules)>1\n",
    "\n",
    "  def evolve(self):\n",
    "    filler = '....'\n",
    "    state = filler + self.state + filler\n",
    "    new_state = []\n",
    "    for i in range(2, len(state)-2):\n",
    "      batch = state[i-2:i+3]\n",
    "      new_state.append('#' if batch in self.rules else '.')\n",
    "\n",
    "    self.state = ''.join(new_state)\n",
    "    self.state_offset += 2\n",
    "\n",
    "    offset_change = 0\n",
    "    for i in range(5):\n",
    "      if self.state[i] == '#':\n",
    "        break;\n",
    "      offset_change+=1\n",
    "    self.state_offset -= offset_change\n",
    "    self.state = self.state[offset_change:].strip('.')\n",
    "    self.generation += 1\n",
    "\n",
    "  def __repr__(self):\n",
    "    return f'{self.generation:02} {self.state}'\n",
    "\n",
    "  def hash_code(self):\n",
    "    return sum(i-self.state_offset for i,c in enumerate(self.state) if c=='#')"
   ]
  },
  {
   "cell_type": "code",
   "execution_count": 4,
   "metadata": {
    "ExecuteTime": {
     "end_time": "2019-09-20T16:34:39.371080Z",
     "start_time": "2019-09-20T16:34:39.365738Z"
    }
   },
   "outputs": [
    {
     "name": "stdout",
     "output_type": "stream",
     "text": [
      "00 #..#.#..##......###...###\n",
      "01 #...#....#.....#..#..#..#\n",
      "02 ##..##...##....#..#..#..##\n",
      "03 #.#...#..#.#....#..#..#...#\n",
      "04 #.#..#...#.#...#..#..##..##\n",
      "05 #...##...#.#..#..#...#...#\n",
      "06 ##.#.#....#...#..##..##..##\n",
      "07 #..###.#...##..#...#...#...#\n",
      "08 #....##.#.#.#..##..##..##..##\n",
      "09 ##..#..#####....#...#...#...#\n",
      "10 #.#..#...#.##....##..##..##..##\n",
      "11 #...##...#.#...#.#...#...#...#\n",
      "12 ##.#.#....#.#...#.#..##..##..##\n",
      "13 #..###.#....#.#...#....#...#...#\n",
      "14 #....##.#....#.#..##...##..##..##\n",
      "15 ##..#..#.#....#....#..#.#...#...#\n",
      "16 #.#..#...#.#...##...#...#.#..##..##\n",
      "17 #...##...#.#.#.#...##...#....#...#\n",
      "18 ##.#.#....#####.#.#.#...##...##..##\n",
      "19 #..###.#..#.#.#######.#.#.#..#.#...#\n",
      "20 #....##....#####...#######....#.#..##\n"
     ]
    }
   ],
   "source": [
    "test_machine = Machine(test_in)\n",
    "print(test_machine)\n",
    "\n",
    "for i in range(20):\n",
    "  test_machine.evolve()\n",
    "  print(test_machine)\n",
    "\n",
    "assert test_machine.state.strip('.')=='#....##....#####...#######....#.#..##'\n",
    "assert test_machine.hash_code() == 325, test_machine.hash_code()"
   ]
  },
  {
   "cell_type": "code",
   "execution_count": 5,
   "metadata": {
    "ExecuteTime": {
     "end_time": "2019-09-20T16:34:39.377621Z",
     "start_time": "2019-09-20T16:34:39.372335Z"
    }
   },
   "outputs": [
    {
     "name": "stdout",
     "output_type": "stream",
     "text": [
      "01919 01 #...##.#..####....##.#.##.#.###..#.##.#...#..######...#..#.#...##...#....###..#........#....###.#\n",
      "01849 02 #.##......#.##........###..##.#.#.###...###..#.#..#..##...#..##..#.##.#....#.#..#......#.#....##..#\n",
      "01887 03 #####.....#####.........#.##...#.##.#..#..#.#.#......#.#.##..#.##.###...#..##.....#....##..#....##..#\n",
      "02064 04 #.#.......#.#.........#####.#####........#.#..#....##.#####.###...#..##..#.#....#.#....##..#....##..#\n",
      "01821 05 ##..#.....##..#.........#.##..#.#........##.....#.......#.##..#..##..#.##.#..#..##..#....##..#....##..#\n",
      "02017 06 ##..#.....##..#.......######.#..#........#....#.#.....######...#.##.###.......#.##..#....##..#....##..#\n",
      "02013 07 ##..#.....##..#.......#..##.....#......#.#..##..#.....#..#..#####...#.......######..#....##..#....##..#\n",
      "01814 08 ##..#.....##..#.....#..#.#....#.#....##...#.##..#...#.....#.#.#..##.#.......#..#.#..#....##..#....##..#\n",
      "01948 09 ##..#.....##..#...#...#..#..##..#....#.#######..###.#...##.#...#....#.....#...#.....#....##..#....##..#\n",
      "02395 10 ##..#.....##..###.###.....#.##..#..###.#...#.##.##..##.....###.#..#.#...#.###.#...#.#....##..#....##..#\n",
      "02749 11 ##..#.....###.##..#.....######...#.##..######..####.#......##....#..#####.##..####..#....##..#....##..#\n",
      "02641 12 ##..#.....##.###..#.....#..#..########.#..#.##.###..#......#...#..#.#.##.####.##.#..#....##..#....##..#\n",
      "02188 13 ##..#........#.#..#...#.....#.#....##....###...#.#..#....#.###...#.###...###.#......#....##..#....##..#\n",
      "02344 14 ##..#......##.....###.#...##..#....#.....#..###.....#..###.#..####.#..#..##..#....#.#....##..#....##..#\n",
      "02281 15 ##..#......#......##..##..##..#..#.#...#..#.#.....#..#.##...#.###......#.##..#..##..#....##..#....##..#\n",
      "02760 16 ##..#....#.#......###.###.##....#..###...#..#...#...####.####.#......######...#.##..#....##..#....##..#\n",
      "02803 17 ##..#..##..#......##..##.##...#..#.#..##....###.##..###..###..#......#..#..#######..#....##..#....##..#\n",
      "02431 18 ##...#.##..#......###...##.##...#...#.#.....##.####.#.##.#.#..#....#.....#.#...#.#..#....##..#....##..#\n",
      "02582 19 #.#######..#......#..#....##.##.####..#........###.###..#.....#..#.#...##..####.....#....##..#....##..#\n",
      "02349 20 ###.#...#.#..#....#....#......#...##.#..#........##..#.#..#...#...#..##..###.##.....#.#....##..#....##..#\n",
      "2349\n"
     ]
    }
   ],
   "source": [
    "puzzle_machine = Machine(puzzle_in)\n",
    "\n",
    "for i in range(20):\n",
    "  puzzle_machine.evolve()\n",
    "  print(f'{puzzle_machine.hash_code():05} {puzzle_machine}')\n",
    "\n",
    "assert puzzle_machine.hash_code()==2349\n",
    "\n",
    "print(puzzle_machine.hash_code())"
   ]
  },
  {
   "cell_type": "markdown",
   "metadata": {},
   "source": [
    "**Incorrect answers:**\n",
    "\n",
    "- `2022` is too low\n",
    "\n",
    "**Correct answer:** `2349`"
   ]
  },
  {
   "cell_type": "code",
   "execution_count": 6,
   "metadata": {
    "ExecuteTime": {
     "end_time": "2019-09-20T16:35:07.781351Z",
     "start_time": "2019-09-20T16:34:39.378971Z"
    },
    "scrolled": true
   },
   "outputs": [],
   "source": [
    "puzzle_machine = Machine(puzzle_in)\n",
    "\n",
    "for i in range(200):\n",
    "  puzzle_machine.evolve()\n",
    "\n",
    "previous_hash = puzzle_machine.hash_code()\n",
    "\n",
    "assert previous_hash == 9274\n",
    "\n",
    "for i in range(50000):\n",
    "  puzzle_machine.evolve()\n",
    "  hash_code = puzzle_machine.hash_code()\n",
    "  assert hash_code-previous_hash == 42\n",
    "  previous_hash = hash_code"
   ]
  },
  {
   "cell_type": "markdown",
   "metadata": {},
   "source": [
    "At step # `200`, the hash code is `9274`. It increases by 42 on each following step. Therefore, the hash code after step `50000000000` would be:"
   ]
  },
  {
   "cell_type": "code",
   "execution_count": 9,
   "metadata": {
    "ExecuteTime": {
     "end_time": "2019-09-20T16:40:13.943730Z",
     "start_time": "2019-09-20T16:40:13.939824Z"
    }
   },
   "outputs": [
    {
     "data": {
      "text/plain": [
       "2100000000874"
      ]
     },
     "execution_count": 9,
     "metadata": {},
     "output_type": "execute_result"
    }
   ],
   "source": [
    "9274 + 42*(50000000000-200)"
   ]
  },
  {
   "cell_type": "markdown",
   "metadata": {},
   "source": [
    "**Incorrect answers**\n",
    "\n",
    "- `2100000000874` is too low\n",
    "- `2100000000916` is too low"
   ]
  }
 ],
 "metadata": {
  "kernelspec": {
   "display_name": "Python 3",
   "language": "python",
   "name": "python3"
  },
  "language_info": {
   "codemirror_mode": {
    "name": "ipython",
    "version": 3
   },
   "file_extension": ".py",
   "mimetype": "text/x-python",
   "name": "python",
   "nbconvert_exporter": "python",
   "pygments_lexer": "ipython3",
   "version": "3.7.3"
  },
  "toc": {
   "base_numbering": 1,
   "nav_menu": {},
   "number_sections": false,
   "sideBar": false,
   "skip_h1_title": true,
   "title_cell": "Table of Contents",
   "title_sidebar": "Contents",
   "toc_cell": false,
   "toc_position": {},
   "toc_section_display": true,
   "toc_window_display": false
  }
 },
 "nbformat": 4,
 "nbformat_minor": 2
}
