{
 "cells": [
  {
   "cell_type": "markdown",
   "metadata": {},
   "source": [
    "# Day 12: Subterranean Sustainability\n",
    "[link](https://adventofcode.com/2018/day/12)"
   ]
  },
  {
   "cell_type": "markdown",
   "metadata": {},
   "source": [
    "## Part 1\n",
    "After `20` generations, what is the sum of the numbers of all pots which contain a plant?"
   ]
  },
  {
   "cell_type": "markdown",
   "metadata": {
    "heading_collapsed": true
   },
   "source": [
    "### Inputs"
   ]
  },
  {
   "cell_type": "code",
   "execution_count": 1,
   "metadata": {
    "ExecuteTime": {
     "end_time": "2019-08-13T11:31:45.430022Z",
     "start_time": "2019-08-13T11:31:45.427246Z"
    },
    "hidden": true
   },
   "outputs": [],
   "source": [
    "puzzle_in = \"\"\"initial state: ##....#.#.#...#.#..#.#####.#.#.##.#.#.#######...#.##....#..##....#.#..##.####.#..........#..#...#\n",
    "\n",
    "..#.# => #\n",
    ".#### => #\n",
    "#.... => .\n",
    "####. => #\n",
    "...## => .\n",
    ".#.#. => .\n",
    "..#.. => .\n",
    "##.#. => .\n",
    "#.#.# => #\n",
    "..... => .\n",
    "#.#.. => .\n",
    "....# => .\n",
    ".#..# => .\n",
    "###.# => #\n",
    "#..#. => .\n",
    "##### => .\n",
    "...#. => #\n",
    "#.##. => #\n",
    ".#.## => #\n",
    "#..## => #\n",
    ".##.. => #\n",
    "##.## => .\n",
    "..### => .\n",
    "###.. => .\n",
    "##..# => #\n",
    ".#... => #\n",
    ".###. => #\n",
    "#.### => .\n",
    ".##.# => .\n",
    "#...# => #\n",
    "##... => .\n",
    "..##. => .\n",
    "\"\"\""
   ]
  },
  {
   "cell_type": "code",
   "execution_count": 2,
   "metadata": {
    "ExecuteTime": {
     "end_time": "2019-08-13T11:31:45.435857Z",
     "start_time": "2019-08-13T11:31:45.433258Z"
    },
    "hidden": true
   },
   "outputs": [],
   "source": [
    "test_in = \"\"\"initial state: #..#.#..##......###...###\n",
    "\n",
    "...## => #\n",
    "..#.. => #\n",
    ".#... => #\n",
    ".#.#. => #\n",
    ".#.## => #\n",
    ".##.. => #\n",
    ".#### => #\n",
    "#.#.# => #\n",
    "#.### => #\n",
    "##.#. => #\n",
    "##.## => #\n",
    "###.. => #\n",
    "###.# => #\n",
    "####. => #\n",
    "\"\"\""
   ]
  },
  {
   "cell_type": "markdown",
   "metadata": {},
   "source": [
    "### Logic"
   ]
  },
  {
   "cell_type": "code",
   "execution_count": 3,
   "metadata": {
    "ExecuteTime": {
     "end_time": "2019-08-13T11:31:45.459391Z",
     "start_time": "2019-08-13T11:31:45.455071Z"
    }
   },
   "outputs": [],
   "source": [
    "class Pot:\n",
    "  def __init__(self, index, has_plant=False, left=None, right=None):\n",
    "    self.index = index\n",
    "    self.has_plant = has_plant\n",
    "    self.left = left\n",
    "    self.right = right"
   ]
  },
  {
   "cell_type": "code",
   "execution_count": 4,
   "metadata": {
    "ExecuteTime": {
     "end_time": "2019-08-13T11:31:45.464252Z",
     "start_time": "2019-08-13T11:31:45.461376Z"
    }
   },
   "outputs": [],
   "source": [
    "root_pot = Pot(0)\n",
    "root_pot.left = Pot(-1, False)\n",
    "\n",
    "root_pot.left.left"
   ]
  },
  {
   "cell_type": "code",
   "execution_count": 5,
   "metadata": {
    "ExecuteTime": {
     "end_time": "2019-08-13T11:31:45.471731Z",
     "start_time": "2019-08-13T11:31:45.466339Z"
    }
   },
   "outputs": [],
   "source": [
    "class Machine:\n",
    "  generation = 0\n",
    "\n",
    "  def __init__(self, input_str):\n",
    "    self.rules = parse_rules(input_str)\n",
    "    self.state = parse_initial_state(input_str)\n",
    "\n",
    "def parse_rules(input_str):\n",
    "  rules = set()\n",
    "  for line in input_str.split('\\n'):\n",
    "    if '=>' in line:\n",
    "      pots, outcome = line.split('=>')\n",
    "      if outcome.strip() == '#':\n",
    "        rule = tuple('#' == char for char in pots.strip() if char in '#.')\n",
    "        rules.add(rule)\n",
    "  return rules\n",
    "\n",
    "def parse_initial_state(input_str):\n",
    "  for line in input_str.split('\\n'):\n",
    "    if line.startswith('initial state:'):\n",
    "      print(line)\n",
    "      return None\n"
   ]
  },
  {
   "cell_type": "code",
   "execution_count": 6,
   "metadata": {
    "ExecuteTime": {
     "end_time": "2019-08-13T11:31:45.476217Z",
     "start_time": "2019-08-13T11:31:45.473373Z"
    }
   },
   "outputs": [
    {
     "name": "stdout",
     "output_type": "stream",
     "text": [
      "initial state: #..#.#..##......###...###\n",
      "{(True, True, False, True, False), (True, True, True, False, False), (True, True, True, True, False), (False, False, False, True, True), (True, True, False, True, True), (True, True, True, False, True), (False, True, False, True, True), (True, False, True, False, True), (False, True, True, False, False), (False, True, False, False, False), (False, True, False, True, False), (False, True, True, True, True), (False, False, True, False, False), (True, False, True, True, True)} 0\n"
     ]
    }
   ],
   "source": [
    "test_machine = Machine(test_in)\n",
    "print(test_machine.rules, test_machine.generation)"
   ]
  },
  {
   "cell_type": "code",
   "execution_count": null,
   "metadata": {},
   "outputs": [],
   "source": []
  }
 ],
 "metadata": {
  "kernelspec": {
   "display_name": "Python 3",
   "language": "python",
   "name": "python3"
  },
  "language_info": {
   "codemirror_mode": {
    "name": "ipython",
    "version": 3
   },
   "file_extension": ".py",
   "mimetype": "text/x-python",
   "name": "python",
   "nbconvert_exporter": "python",
   "pygments_lexer": "ipython3",
   "version": "3.7.3"
  },
  "toc": {
   "base_numbering": 1,
   "nav_menu": {},
   "number_sections": false,
   "sideBar": false,
   "skip_h1_title": true,
   "title_cell": "Table of Contents",
   "title_sidebar": "Contents",
   "toc_cell": false,
   "toc_position": {},
   "toc_section_display": true,
   "toc_window_display": false
  }
 },
 "nbformat": 4,
 "nbformat_minor": 2
}
