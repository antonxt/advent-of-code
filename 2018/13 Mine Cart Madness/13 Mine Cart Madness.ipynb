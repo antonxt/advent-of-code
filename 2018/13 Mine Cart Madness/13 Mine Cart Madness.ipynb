{
 "cells": [
  {
   "cell_type": "markdown",
   "metadata": {},
   "source": [
    "# Day 13: Mine Cart Madness\n",
    "[link](https://adventofcode.com/2018/day/13)"
   ]
  },
  {
   "cell_type": "markdown",
   "metadata": {
    "heading_collapsed": true
   },
   "source": [
    "## Parsing inputs"
   ]
  },
  {
   "cell_type": "code",
   "execution_count": 1,
   "metadata": {
    "ExecuteTime": {
     "end_time": "2019-09-26T15:00:49.843853Z",
     "start_time": "2019-09-26T15:00:49.840250Z"
    },
    "hidden": true
   },
   "outputs": [
    {
     "name": "stdout",
     "output_type": "stream",
     "text": [
      "/->-\\        \n",
      "|   |  /----\\\n",
      "| /-+--+-\\  |\n",
      "| | |  | v  |\n",
      "\\-+-/  \\-+--/\n",
      "  \\------/   \n",
      "{13}\n"
     ]
    }
   ],
   "source": [
    "test_in = [\n",
    "'/->-\\        ',\n",
    "'|   |  /----\\\\',\n",
    "'| /-+--+-\\  |',\n",
    "'| | |  | v  |',\n",
    "'\\-+-/  \\-+--/',\n",
    "'  \\------/   ']\n",
    "\n",
    "print('\\n'.join(test_in))\n",
    "print(set(len(s) for s in test_in))"
   ]
  },
  {
   "cell_type": "code",
   "execution_count": 2,
   "metadata": {
    "ExecuteTime": {
     "end_time": "2019-09-26T15:00:49.850102Z",
     "start_time": "2019-09-26T15:00:49.846416Z"
    },
    "hidden": true
   },
   "outputs": [
    {
     "name": "stdout",
     "output_type": "stream",
     "text": [
      "{150}\n"
     ]
    }
   ],
   "source": [
    "with open('input.txt') as file:\n",
    "  puzzle_in =[line.strip('\\n') for line in file]\n",
    "\n",
    "print(set(len(s) for s in puzzle_in))"
   ]
  },
  {
   "cell_type": "markdown",
   "metadata": {},
   "source": [
    "## Part 1\n",
    "\n",
    "Find `X,Y` coordinates of the first crash"
   ]
  },
  {
   "cell_type": "code",
   "execution_count": 3,
   "metadata": {
    "ExecuteTime": {
     "end_time": "2019-09-26T15:00:49.876374Z",
     "start_time": "2019-09-26T15:00:49.871965Z"
    }
   },
   "outputs": [],
   "source": [
    "def turns_gen():\n",
    "  while True:\n",
    "    for turn in 'lsrs':\n",
    "      yield turn\n",
    "\n",
    "class Cart:\n",
    "  def __init__(self, direction):\n",
    "    self.direction = direction\n",
    "    self.turns_gen_ = turns_gen()\n",
    "\n",
    "  def turn_dir(self):\n",
    "    return next(self.turns_gen_)\n",
    "\n",
    "  def __repr__(self):\n",
    "    return self.direction"
   ]
  },
  {
   "cell_type": "code",
   "execution_count": 5,
   "metadata": {
    "ExecuteTime": {
     "end_time": "2019-09-26T15:01:10.796208Z",
     "start_time": "2019-09-26T15:01:10.700616Z"
    }
   },
   "outputs": [
    {
     "name": "stdout",
     "output_type": "stream",
     "text": [
      "{(0, 2): >, (3, 9): v}\n",
      "/->-\\        \n",
      "|   |  /----\\\n",
      "| /-+--+-\\  |\n",
      "| | |  | v  |\n",
      "\\-+-/  \\-+--/\n",
      "  \\------/   \n",
      "\n",
      "{(0, 3): >, (4, 9): v}\n",
      "/-->\\        \n",
      "|   |  /----\\\n",
      "| /-+--+-\\  |\n",
      "| | |  | |  |\n",
      "\\-+-/  \\-v--/\n",
      "  \\------/   \n",
      "\n",
      "{(0, 4): >, (5, 9): >}\n",
      "/--->        \n",
      "|   |  /----\\\n",
      "| /-+--+-\\  |\n",
      "| | |  | |  |\n",
      "\\-+-/  \\-+--/\n",
      "  \\------>   \n",
      "\n",
      "{(0, 5): v, (5, 10): ^}\n",
      "/---\\v       \n",
      "|   |  /----\\\n",
      "| /-+--+-\\  |\n",
      "| | |  | |  |\n",
      "\\-+-/  \\-+--/\n",
      "  \\------/^  \n",
      "\n"
     ]
    },
    {
     "ename": "AssertionError",
     "evalue": "",
     "output_type": "error",
     "traceback": [
      "\u001b[0;31m---------------------------------------------------------------------------\u001b[0m",
      "\u001b[0;31mAssertionError\u001b[0m                            Traceback (most recent call last)",
      "\u001b[0;32m<ipython-input-5-247e7bb165c3>\u001b[0m in \u001b[0;36m<module>\u001b[0;34m\u001b[0m\n\u001b[1;32m     78\u001b[0m \u001b[0mprint\u001b[0m\u001b[0;34m(\u001b[0m\u001b[0;34m)\u001b[0m\u001b[0;34m\u001b[0m\u001b[0;34m\u001b[0m\u001b[0m\n\u001b[1;32m     79\u001b[0m \u001b[0;34m\u001b[0m\u001b[0m\n\u001b[0;32m---> 80\u001b[0;31m \u001b[0mtest_mine\u001b[0m\u001b[0;34m.\u001b[0m\u001b[0mtick\u001b[0m\u001b[0;34m(\u001b[0m\u001b[0;34m)\u001b[0m\u001b[0;34m\u001b[0m\u001b[0;34m\u001b[0m\u001b[0m\n\u001b[0m\u001b[1;32m     81\u001b[0m \u001b[0mprint\u001b[0m\u001b[0;34m(\u001b[0m\u001b[0mtest_mine\u001b[0m\u001b[0;34m.\u001b[0m\u001b[0mcarts\u001b[0m\u001b[0;34m)\u001b[0m\u001b[0;34m\u001b[0m\u001b[0;34m\u001b[0m\u001b[0m\n\u001b[1;32m     82\u001b[0m \u001b[0mprint\u001b[0m\u001b[0;34m(\u001b[0m\u001b[0mtest_mine\u001b[0m\u001b[0;34m)\u001b[0m\u001b[0;34m\u001b[0m\u001b[0;34m\u001b[0m\u001b[0m\n",
      "\u001b[0;32m<ipython-input-5-247e7bb165c3>\u001b[0m in \u001b[0;36mtick\u001b[0;34m(self)\u001b[0m\n\u001b[1;32m     49\u001b[0m         \u001b[0mcart\u001b[0m\u001b[0;34m.\u001b[0m\u001b[0mdirection\u001b[0m \u001b[0;34m=\u001b[0m \u001b[0mcurve_turns\u001b[0m\u001b[0;34m[\u001b[0m\u001b[0mturn\u001b[0m\u001b[0;34m]\u001b[0m\u001b[0;34m\u001b[0m\u001b[0;34m\u001b[0m\u001b[0m\n\u001b[1;32m     50\u001b[0m       \u001b[0;32melse\u001b[0m\u001b[0;34m:\u001b[0m \u001b[0;31m# Ended on a straight track - no need to turn\u001b[0m\u001b[0;34m\u001b[0m\u001b[0;34m\u001b[0m\u001b[0m\n\u001b[0;32m---> 51\u001b[0;31m         \u001b[0;32massert\u001b[0m \u001b[0mcurr_track\u001b[0m \u001b[0;32min\u001b[0m \u001b[0;34m'-|'\u001b[0m\u001b[0;34m\u001b[0m\u001b[0;34m\u001b[0m\u001b[0m\n\u001b[0m\u001b[1;32m     52\u001b[0m \u001b[0;34m\u001b[0m\u001b[0m\n\u001b[1;32m     53\u001b[0m       \u001b[0;32mif\u001b[0m \u001b[0;34m(\u001b[0m\u001b[0mnew_y\u001b[0m\u001b[0;34m,\u001b[0m\u001b[0mnew_x\u001b[0m\u001b[0;34m)\u001b[0m \u001b[0;32min\u001b[0m \u001b[0mself\u001b[0m\u001b[0;34m.\u001b[0m\u001b[0mcarts\u001b[0m\u001b[0;34m:\u001b[0m  \u001b[0;31m# Collision\u001b[0m\u001b[0;34m\u001b[0m\u001b[0;34m\u001b[0m\u001b[0m\n",
      "\u001b[0;31mAssertionError\u001b[0m: "
     ]
    }
   ],
   "source": [
    "# Next position when moving on a straight line (| or -)\n",
    "next_position = {'>': (1,0),'<': (-1,0),'^': (0,-1),'v': (0,1)}\n",
    "\n",
    "# Direction after a curve\n",
    "curve_turns = {'>/':'^','>\\\\':'v','</':'v','<\\\\':'^','v/':'<','v\\\\':'>','^/':'>','^\\\\':'<'}\n",
    "\n",
    "# Direction after an intersection depending on whether the cart wants to go left 'l' or right 'r'\n",
    "inter_turns = {'>l':'^','>r':'v','<l':'v','<r':'^','vr':'<','vl':'>','^r':'>','^l':'<'}\n",
    "\n",
    "class Mine:\n",
    "  carts = {}\n",
    "  tracks = []\n",
    "\n",
    "  def __init__(self, input_str):\n",
    "    for y,line in enumerate(input_str):\n",
    "      track_line = []\n",
    "      for x,char in enumerate(line):\n",
    "        if char in '<v>^':\n",
    "          self.carts[(y,x)] = Cart(char)\n",
    "          track_line.append('|' if char in '^v' else '-')\n",
    "        else:\n",
    "          track_line.append(char)\n",
    "      self.tracks.append(track_line)\n",
    "\n",
    "  def __repr__(self):\n",
    "    return '\\n'.join(''.join(char if (y,x) not in self.carts else self.carts[(y,x)].direction for x, char in enumerate(line)) for y,line in enumerate(self.tracks))\n",
    "\n",
    "  def tick(self):\n",
    "    for (y,x) in sorted(self.carts.keys()):\n",
    "      cart = self.carts.pop((y,x))\n",
    "\n",
    "      # Make a step in the direction where the cart is facing\n",
    "      position_increment = next_position[cart.direction]\n",
    "      new_x = x+position_increment[0]\n",
    "      new_y = y+position_increment[1]\n",
    "\n",
    "      curr_track = self.tracks[y][x]\n",
    "      if curr_track == '+':  # Ended on an intersection\n",
    "        turn_dir = cart.turn_dir()  # Get this cart's turn direction\n",
    "        if turn_dir in 'lr':\n",
    "          turn = cart.direction + turn_dir\n",
    "          assert turn in inter_turns\n",
    "          cart.direction = inter_turns[turn]\n",
    "        else:\n",
    "          assert turn_dir == 's'\n",
    "      elif curr_track in '\\/':  # Ended on a curve\n",
    "        turn = cart.direction + curr_track\n",
    "        assert turn in curve_turns\n",
    "        cart.direction = curve_turns[turn]\n",
    "      else: # Ended on a straight track - no need to turn\n",
    "        assert curr_track in '-|'\n",
    "\n",
    "      if (new_y,new_x) in self.carts:  # Collision\n",
    "        raise Exception(f'A collision has occurred at ({new_x},{new_y})\\n{self.carts}\\n{self}')\n",
    "\n",
    "      self.carts[(new_y,new_x)] = cart\n",
    "\n",
    "test_mine = Mine(test_in)\n",
    "assert str(test_mine)=='\\n'.join(test_in)\n",
    "\n",
    "print(test_mine.carts)\n",
    "print(test_mine)\n",
    "print()\n",
    "\n",
    "test_mine.tick()\n",
    "print(test_mine.carts)\n",
    "print(test_mine)\n",
    "print()\n",
    "\n",
    "test_mine.tick()\n",
    "print(test_mine.carts)\n",
    "print(test_mine)\n",
    "print()\n",
    "\n",
    "test_mine.tick()\n",
    "print(test_mine.carts)\n",
    "print(test_mine)\n",
    "print()\n",
    "\n",
    "test_mine.tick()\n",
    "print(test_mine.carts)\n",
    "print(test_mine)\n",
    "print()\n"
   ]
  },
  {
   "cell_type": "code",
   "execution_count": null,
   "metadata": {
    "ExecuteTime": {
     "end_time": "2019-09-26T15:00:49.913017Z",
     "start_time": "2019-09-26T15:00:49.874Z"
    }
   },
   "outputs": [],
   "source": [
    "test_mine = Mine(test_in)\n",
    "test_mine"
   ]
  },
  {
   "cell_type": "code",
   "execution_count": null,
   "metadata": {
    "ExecuteTime": {
     "end_time": "2019-09-26T15:00:49.914092Z",
     "start_time": "2019-09-26T15:00:49.875Z"
    }
   },
   "outputs": [],
   "source": [
    "tt = {(2,0),(1,3),(1,1)}\n",
    "sorted(tt)"
   ]
  },
  {
   "cell_type": "code",
   "execution_count": null,
   "metadata": {},
   "outputs": [],
   "source": []
  }
 ],
 "metadata": {
  "kernelspec": {
   "display_name": "Python 3",
   "language": "python",
   "name": "python3"
  },
  "language_info": {
   "codemirror_mode": {
    "name": "ipython",
    "version": 3
   },
   "file_extension": ".py",
   "mimetype": "text/x-python",
   "name": "python",
   "nbconvert_exporter": "python",
   "pygments_lexer": "ipython3",
   "version": "3.7.3"
  },
  "toc": {
   "base_numbering": 1,
   "nav_menu": {},
   "number_sections": false,
   "sideBar": false,
   "skip_h1_title": true,
   "title_cell": "Table of Contents",
   "title_sidebar": "Contents",
   "toc_cell": false,
   "toc_position": {},
   "toc_section_display": true,
   "toc_window_display": false
  }
 },
 "nbformat": 4,
 "nbformat_minor": 2
}
