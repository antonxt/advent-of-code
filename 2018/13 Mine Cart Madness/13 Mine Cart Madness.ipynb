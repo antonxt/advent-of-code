{
 "cells": [
  {
   "cell_type": "markdown",
   "metadata": {},
   "source": [
    "# Day 13: Mine Cart Madness\n",
    "[link](https://adventofcode.com/2018/day/13)"
   ]
  },
  {
   "cell_type": "markdown",
   "metadata": {
    "heading_collapsed": true
   },
   "source": [
    "## Parsing inputs"
   ]
  },
  {
   "cell_type": "code",
   "execution_count": 1,
   "metadata": {
    "ExecuteTime": {
     "end_time": "2019-09-24T23:02:26.299500Z",
     "start_time": "2019-09-24T23:02:26.295513Z"
    },
    "hidden": true
   },
   "outputs": [
    {
     "name": "stdout",
     "output_type": "stream",
     "text": [
      "/->-\\        \n",
      "|   |  /----\\\n",
      "| /-+--+-\\  |\n",
      "| | |  | v  |\n",
      "\\-+-/  \\-+--/\n",
      "  \\------/   \n",
      "{13}\n"
     ]
    }
   ],
   "source": [
    "test_in = [\n",
    "'/->-\\        ',\n",
    "'|   |  /----\\\\',\n",
    "'| /-+--+-\\  |',\n",
    "'| | |  | v  |',\n",
    "'\\-+-/  \\-+--/',\n",
    "'  \\------/   ']\n",
    "\n",
    "print('\\n'.join(test_in))\n",
    "print(set(len(s) for s in test_in))"
   ]
  },
  {
   "cell_type": "code",
   "execution_count": 2,
   "metadata": {
    "ExecuteTime": {
     "end_time": "2019-09-24T23:02:26.304919Z",
     "start_time": "2019-09-24T23:02:26.301278Z"
    },
    "hidden": true
   },
   "outputs": [
    {
     "name": "stdout",
     "output_type": "stream",
     "text": [
      "{150}\n"
     ]
    }
   ],
   "source": [
    "with open('input.txt') as file:\n",
    "  puzzle_in =[line.strip('\\n') for line in file]\n",
    "\n",
    "print(set(len(s) for s in puzzle_in))"
   ]
  },
  {
   "cell_type": "markdown",
   "metadata": {},
   "source": [
    "## Part 1\n",
    "\n",
    "Find `X,Y` coordinates of the first crash"
   ]
  },
  {
   "cell_type": "code",
   "execution_count": 3,
   "metadata": {
    "ExecuteTime": {
     "end_time": "2019-09-24T23:02:26.324029Z",
     "start_time": "2019-09-24T23:02:26.320147Z"
    }
   },
   "outputs": [],
   "source": [
    "def turns_gen():\n",
    "  while True:\n",
    "    for turn in 'lsrs':\n",
    "      yield turn\n",
    "\n",
    "class Cart:\n",
    "  def __init__(self, direction):\n",
    "    self.direction = direction\n",
    "    self.turns_gen_ = turns_gen()\n",
    "\n",
    "  def turn_dir(self):\n",
    "    return next(self.turns_gen_)\n",
    "\n",
    "  def __repr__(self):\n",
    "    return self.direction"
   ]
  },
  {
   "cell_type": "code",
   "execution_count": 4,
   "metadata": {
    "ExecuteTime": {
     "end_time": "2019-09-24T23:02:26.358535Z",
     "start_time": "2019-09-24T23:02:26.326121Z"
    }
   },
   "outputs": [
    {
     "name": "stdout",
     "output_type": "stream",
     "text": [
      "{(0, 2): >, (3, 9): v}\n",
      "/->-\\        \n",
      "|   |  /----\\\n",
      "| /-+--+-\\  |\n",
      "| | |  | v  |\n",
      "\\-+-/  \\-+--/\n",
      "  \\------/   \n",
      "2 0 > -\n",
      "9 3 v |\n",
      "/-->\\        \n",
      "|   |  /----\\\n",
      "| /-+--+-\\  |\n",
      "| | |  | |  |\n",
      "\\-+-/  \\-v--/\n",
      "  \\------/   \n"
     ]
    }
   ],
   "source": [
    "next_position = {'>': (1,0),'<': (-1,0),'^': (0,-1),'v': (0,1)}\n",
    "\n",
    "class Mine:\n",
    "  carts = {}\n",
    "  tracks = []\n",
    "\n",
    "  def __init__(self, input_str):\n",
    "    for y,line in enumerate(input_str):\n",
    "      track_line = []\n",
    "      for x,char in enumerate(line):\n",
    "        if char in '<v>^':\n",
    "          self.carts[(y,x)] = Cart(char)\n",
    "          track_line.append('|' if char in '^v' else '-')\n",
    "        else:\n",
    "          track_line.append(char)\n",
    "      self.tracks.append(track_line)\n",
    "\n",
    "  def __repr__(self):\n",
    "    return '\\n'.join(''.join(char if (y,x) not in self.carts else self.carts[(y,x)].direction for x, char in enumerate(line)) for y,line in enumerate(self.tracks))\n",
    "\n",
    "  def tick(self):\n",
    "    for (y,x) in sorted(self.carts.keys()):\n",
    "      cart = self.carts.pop((y,x))\n",
    "      curr_track = self.tracks[y][x]\n",
    "      if curr_track in '-|':\n",
    "        position_increment = next_position[cart.direction]\n",
    "        new_x = x+position_increment[0]\n",
    "        new_y = y+position_increment[1]\n",
    "        self.carts[(new_y,new_x)] = cart\n",
    "      print(x,y,cart, curr_track)\n",
    "\n",
    "test_mine = Mine(test_in)\n",
    "print(test_mine.carts)\n",
    "\n",
    "assert str(test_mine)=='\\n'.join(test_in)\n",
    "\n",
    "print(test_mine)\n",
    "\n",
    "test_mine.tick()\n",
    "print(test_mine)"
   ]
  },
  {
   "cell_type": "code",
   "execution_count": 5,
   "metadata": {
    "ExecuteTime": {
     "end_time": "2019-09-24T23:02:26.365878Z",
     "start_time": "2019-09-24T23:02:26.360844Z"
    }
   },
   "outputs": [
    {
     "data": {
      "text/plain": [
       "/->>\\        \n",
       "|   |  /----\\\n",
       "| /-+--+-\\  |\n",
       "| | |  | v  |\n",
       "\\-+-/  \\-v--/\n",
       "  \\------/   \n",
       "/---\\        \n",
       "|   |  /----\\\n",
       "| /-+--+-\\  |\n",
       "| | |  | |  |\n",
       "\\-+-/  \\-+--/\n",
       "  \\------/   "
      ]
     },
     "execution_count": 5,
     "metadata": {},
     "output_type": "execute_result"
    }
   ],
   "source": [
    "test_mine = Mine(test_in)\n",
    "test_mine"
   ]
  },
  {
   "cell_type": "code",
   "execution_count": 6,
   "metadata": {
    "ExecuteTime": {
     "end_time": "2019-09-24T23:02:26.373557Z",
     "start_time": "2019-09-24T23:02:26.367878Z"
    }
   },
   "outputs": [
    {
     "data": {
      "text/plain": [
       "[(1, 1), (1, 3), (2, 0)]"
      ]
     },
     "execution_count": 6,
     "metadata": {},
     "output_type": "execute_result"
    }
   ],
   "source": [
    "tt = {(2,0),(1,3),(1,1)}\n",
    "sorted(tt)"
   ]
  },
  {
   "cell_type": "code",
   "execution_count": null,
   "metadata": {},
   "outputs": [],
   "source": []
  }
 ],
 "metadata": {
  "kernelspec": {
   "display_name": "Python 3",
   "language": "python",
   "name": "python3"
  },
  "language_info": {
   "codemirror_mode": {
    "name": "ipython",
    "version": 3
   },
   "file_extension": ".py",
   "mimetype": "text/x-python",
   "name": "python",
   "nbconvert_exporter": "python",
   "pygments_lexer": "ipython3",
   "version": "3.7.3"
  },
  "toc": {
   "base_numbering": 1,
   "nav_menu": {},
   "number_sections": false,
   "sideBar": false,
   "skip_h1_title": true,
   "title_cell": "Table of Contents",
   "title_sidebar": "Contents",
   "toc_cell": false,
   "toc_position": {},
   "toc_section_display": true,
   "toc_window_display": false
  }
 },
 "nbformat": 4,
 "nbformat_minor": 2
}
