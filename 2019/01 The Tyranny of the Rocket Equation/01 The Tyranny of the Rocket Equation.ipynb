{
 "cells": [
  {
   "cell_type": "markdown",
   "metadata": {},
   "source": [
    "# Advent of Code 2019\n",
    "\n",
    "## Day 1: The Tyranny of the Rocket Equation\n",
    "\n",
    "### Part 1\n",
    "\n",
    "Fuel required to launch a given `module` is based on its `mass`. Specifically, to find the fuel required for a module, take its mass, divide by three, round down, and subtract 2."
   ]
  },
  {
   "cell_type": "code",
   "execution_count": 1,
   "metadata": {
    "ExecuteTime": {
     "end_time": "2020-02-04T10:19:55.015289Z",
     "start_time": "2020-02-04T10:19:55.011778Z"
    }
   },
   "outputs": [],
   "source": [
    "def fuel_requirement(mass):\n",
    "  return max(0, mass//3 - 2)\n",
    "\n",
    "assert fuel_requirement(12)==2\n",
    "assert fuel_requirement(14)==2\n",
    "assert fuel_requirement(1969)==654\n",
    "assert fuel_requirement(100756)==33583"
   ]
  },
  {
   "cell_type": "code",
   "execution_count": 2,
   "metadata": {
    "ExecuteTime": {
     "end_time": "2020-02-04T10:19:55.026363Z",
     "start_time": "2020-02-04T10:19:55.017552Z"
    }
   },
   "outputs": [
    {
     "data": {
      "text/plain": [
       "[66690, 86239, 75191, 140364, 95979, 106923, 95229, 123571, 84764, 89444]"
      ]
     },
     "execution_count": 2,
     "metadata": {},
     "output_type": "execute_result"
    }
   ],
   "source": [
    "with open('input.txt', 'r') as file:\n",
    "  masses = list(map(int, file.readlines()))\n",
    "\n",
    "masses[:10]"
   ]
  },
  {
   "cell_type": "code",
   "execution_count": 3,
   "metadata": {
    "ExecuteTime": {
     "end_time": "2020-02-04T10:19:55.030882Z",
     "start_time": "2020-02-04T10:19:55.028247Z"
    }
   },
   "outputs": [
    {
     "name": "stdout",
     "output_type": "stream",
     "text": [
      "Part 1 answer. \n",
      "The sum of the fuel requirements for all of the modules on your spacecraft is: \n",
      "3331849\n"
     ]
    }
   ],
   "source": [
    "part_1_answer = sum(map(fuel_requirement, masses))\n",
    "\n",
    "print(f'Part 1 answer. \\nThe sum of the fuel requirements for all of the modules on your spacecraft is: \\n{part_1_answer}')"
   ]
  },
  {
   "cell_type": "markdown",
   "metadata": {},
   "source": [
    "### Part 2"
   ]
  },
  {
   "cell_type": "code",
   "execution_count": 4,
   "metadata": {
    "ExecuteTime": {
     "end_time": "2020-02-04T10:19:55.040674Z",
     "start_time": "2020-02-04T10:19:55.037324Z"
    }
   },
   "outputs": [],
   "source": [
    "def compound_fuel_requirement(mass):\n",
    "  total_fuel = fuel_requirement(mass)\n",
    "  fuel = fuel_requirement(total_fuel)\n",
    "  while fuel>0:\n",
    "    total_fuel += fuel\n",
    "    fuel = fuel_requirement(fuel)\n",
    "  return total_fuel\n",
    "\n",
    "assert compound_fuel_requirement(14)==2\n",
    "assert compound_fuel_requirement(1969)==966\n",
    "assert compound_fuel_requirement(100756)==50346"
   ]
  },
  {
   "cell_type": "code",
   "execution_count": 5,
   "metadata": {
    "ExecuteTime": {
     "end_time": "2020-02-04T10:19:55.045477Z",
     "start_time": "2020-02-04T10:19:55.042400Z"
    }
   },
   "outputs": [
    {
     "name": "stdout",
     "output_type": "stream",
     "text": [
      "Part 2 answer. \n",
      "The sum of the fuel requirements for all of the modules on your spacecraft when also taking into account the mass of the added fuel: \n",
      "4994898\n"
     ]
    }
   ],
   "source": [
    "part_2_answer = sum(map(compound_fuel_requirement, masses))\n",
    "\n",
    "print(f'Part 2 answer. \\nThe sum of the fuel requirements for all of the modules on your spacecraft when also taking into account the mass of the added fuel: \\n{part_2_answer}')"
   ]
  }
 ],
 "metadata": {
  "kernelspec": {
   "display_name": "Python 3",
   "language": "python",
   "name": "python3"
  },
  "language_info": {
   "codemirror_mode": {
    "name": "ipython",
    "version": 3
   },
   "file_extension": ".py",
   "mimetype": "text/x-python",
   "name": "python",
   "nbconvert_exporter": "python",
   "pygments_lexer": "ipython3",
   "version": "3.7.4"
  },
  "toc": {
   "base_numbering": 1,
   "nav_menu": {},
   "number_sections": false,
   "sideBar": false,
   "skip_h1_title": true,
   "title_cell": "Table of Contents",
   "title_sidebar": "Contents",
   "toc_cell": false,
   "toc_position": {},
   "toc_section_display": true,
   "toc_window_display": false
  }
 },
 "nbformat": 4,
 "nbformat_minor": 4
}
