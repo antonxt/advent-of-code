{
 "cells": [
  {
   "cell_type": "code",
   "execution_count": null,
   "metadata": {},
   "outputs": [],
   "source": [
    "file = open('day5.txt', 'r')\n",
    "offsets = [int(line) for line in file]"
   ]
  },
  {
   "cell_type": "code",
   "execution_count": null,
   "metadata": {},
   "outputs": [],
   "source": [
    "#offsets = [0, 3, 0, 1, -3]\n",
    "# Part 1\n",
    "i = steps = 0\n",
    "l = len(offsets)\n",
    "while 0<=i<l:\n",
    "    #print('Step {}: i={} {}'.format(steps, i, offsets))\n",
    "    nextI = offsets[i]\n",
    "    offsets[i] += 1\n",
    "    i += nextI\n",
    "    steps += 1\n",
    "#print('Final {}: i={} {}'.format(steps, i, offsets))\n",
    "steps"
   ]
  },
  {
   "cell_type": "code",
   "execution_count": null,
   "metadata": {},
   "outputs": [],
   "source": [
    "# Part 2\n",
    "file = open('day5.txt', 'r')\n",
    "offsets = [int(line) for line in file]\n",
    "i = steps = 0\n",
    "l = len(offsets)\n",
    "while 0<=i<l:\n",
    "    #print('Step {}: i={} {}'.format(steps, i, offsets))\n",
    "    nextI = offsets[i]\n",
    "    offsets[i] += 1 if nextI < 3 else -1\n",
    "    i += nextI\n",
    "    steps += 1\n",
    "#print('Final {}: i={} {}'.format(steps, i, offsets))\n",
    "steps"
   ]
  },
  {
   "cell_type": "code",
   "execution_count": null,
   "metadata": {
    "collapsed": true
   },
   "outputs": [],
   "source": []
  }
 ],
 "metadata": {
  "kernelspec": {
   "display_name": "Python 3",
   "language": "python",
   "name": "python3"
  },
  "language_info": {
   "codemirror_mode": {
    "name": "ipython",
    "version": 3
   },
   "file_extension": ".py",
   "mimetype": "text/x-python",
   "name": "python",
   "nbconvert_exporter": "python",
   "pygments_lexer": "ipython3",
   "version": "3.6.3"
  }
 },
 "nbformat": 4,
 "nbformat_minor": 2
}
