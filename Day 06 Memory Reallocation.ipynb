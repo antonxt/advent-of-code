{
 "cells": [
  {
   "cell_type": "code",
   "execution_count": 1,
   "metadata": {
    "collapsed": true
   },
   "outputs": [],
   "source": [
    "def redistribute(distribution):\n",
    "    '''Redistribute the blocks among banks, according to the algorithm'''\n",
    "    idx = distribution.index(max(distribution))\n",
    "    blocks = distribution[idx]\n",
    "    l = len(distribution)\n",
    "    incr = blocks // l\n",
    "    rem = blocks % l\n",
    "    newDistribution = list(distribution)\n",
    "    newDistribution[idx] = 0\n",
    "    for i in range(l):\n",
    "        newDistribution[i] += incr\n",
    "        if i > idx and i <= idx+rem or i <= idx + rem - l:\n",
    "            newDistribution[i] += 1\n",
    "    return tuple(newDistribution)"
   ]
  },
  {
   "cell_type": "code",
   "execution_count": 4,
   "metadata": {},
   "outputs": [],
   "source": [
    "def redistributionsNumberFormingCycle(initialDistribution):\n",
    "    # print('Step 0 : {}'.format(initialDistribution))\n",
    "    distributions = set([initialDistribution])\n",
    "    distribution = redistribute(initialDistribution)\n",
    "    step = 1\n",
    "    while distribution not in distributions:\n",
    "        # print('Step {} : {}'.format(step, distribution))\n",
    "        if step > 100000:\n",
    "            raise Exception('Too many cycles: {}'.format(step))\n",
    "        distributions.add(distribution)\n",
    "        step += 1\n",
    "        distribution = redistribute(distribution)\n",
    "    return step, distribution"
   ]
  },
  {
   "cell_type": "code",
   "execution_count": 5,
   "metadata": {},
   "outputs": [
    {
     "data": {
      "text/plain": [
       "(5, (2, 4, 1, 2))"
      ]
     },
     "execution_count": 5,
     "metadata": {},
     "output_type": "execute_result"
    }
   ],
   "source": [
    "redistributionsNumberFormingCycle((0, 2, 7, 0))"
   ]
  },
  {
   "cell_type": "code",
   "execution_count": 8,
   "metadata": {},
   "outputs": [
    {
     "name": "stdout",
     "output_type": "stream",
     "text": [
      "12841 (1, 0, 14, 14, 12, 11, 10, 9, 9, 7, 5, 5, 4, 3, 7, 1)\n",
      "(8038, (1, 0, 14, 14, 12, 11, 10, 9, 9, 7, 5, 5, 4, 3, 7, 1))\n"
     ]
    }
   ],
   "source": [
    "banks = (4, 10, 4, 1, 8, 4, 9, 14, 5, 1, 14, 15, 0, 15, 3, 5)\n",
    "cycles, distribution = redistributionsNumberFormingCycle(banks)\n",
    "print(cycles, distribution)\n",
    "print(redistributionsNumberFormingCycle(distribution))"
   ]
  },
  {
   "cell_type": "code",
   "execution_count": null,
   "metadata": {
    "collapsed": true
   },
   "outputs": [],
   "source": []
  }
 ],
 "metadata": {
  "kernelspec": {
   "display_name": "Python 3",
   "language": "python",
   "name": "python3"
  },
  "language_info": {
   "codemirror_mode": {
    "name": "ipython",
    "version": 3
   },
   "file_extension": ".py",
   "mimetype": "text/x-python",
   "name": "python",
   "nbconvert_exporter": "python",
   "pygments_lexer": "ipython3",
   "version": "3.6.3"
  }
 },
 "nbformat": 4,
 "nbformat_minor": 2
}
