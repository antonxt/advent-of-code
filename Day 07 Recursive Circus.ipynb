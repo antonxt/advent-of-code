{
 "cells": [
  {
   "cell_type": "code",
   "execution_count": null,
   "metadata": {},
   "outputs": [],
   "source": [
    "def readFile(fileName):\n",
    "    nodeChildren = {}\n",
    "    nodeParent = {}\n",
    "    nodeWeight = {}\n",
    "    file = open(fileName, 'r')\n",
    "    for line in file:\n",
    "        if len(line) < 4:\n",
    "            continue\n",
    "        l = line[:line.find(')')]\n",
    "        node, weightS = l.split(' (')\n",
    "        nodeWeight[node] = int(weightS)\n",
    "        ri = line.find('->')\n",
    "        if ri > 0:\n",
    "            children = [i.strip() for i in line[ri+3:].split(',')]\n",
    "            nodeChildren[node] = children\n",
    "            for child in children:\n",
    "                nodeParent[child] = node\n",
    "    return nodeChildren, nodeParent, nodeWeight\n",
    "\n",
    "nodeChildren, nodeParent, nodeWeight = readFile('day7sample.txt')\n",
    "#print(\"Node children: {}\\n\\nNode parent: {}\\n\\nNode weight: {}\\n\\n\".format(nodeChildren, nodeParent, nodeWeight))\n",
    "\n",
    "allNodes = set(nodeWeight.keys())\n",
    "withoutParents = allNodes.difference(nodeParent.keys())\n",
    "haveChildren = set(nodeChildren.keys())\n",
    "rootNode = withoutParents.intersection(haveChildren)\n",
    "\n",
    "#print('All nodes: {}\\nWithout parents: {}\\nHave children: {}\\nRoot node: {}'.\n",
    "      #format(allNodes, withoutParents, haveChildren, rootNode))"
   ]
  },
  {
   "cell_type": "code",
   "execution_count": null,
   "metadata": {},
   "outputs": [],
   "source": [
    "nodeChildren, nodeParent, nodeWeight = readFile('day7.txt')\n",
    "allNodes = set(nodeWeight.keys())\n",
    "withoutParents = allNodes.difference(nodeParent.keys())\n",
    "root = withoutParents.pop()\n",
    "print(root)"
   ]
  },
  {
   "cell_type": "code",
   "execution_count": null,
   "metadata": {},
   "outputs": [],
   "source": [
    "# Part 2 - find unbalanced node's corrected weight, so everything is balanced\n",
    "def getFullWeight(node):\n",
    "    weight = nodeWeight[node]\n",
    "    if node in nodeChildren: # The node has children\n",
    "        childWeights = {child: getFullWeight(child) for child in nodeChildren[node]}\n",
    "        childWeightsList= list(childWeights.values())\n",
    "        childWeightsSet = set(childWeightsList)\n",
    "        if len(childWeightsSet) > 1:\n",
    "            first, second = childWeightsSet.pop(), childWeightsSet.pop() \n",
    "            if childWeightsList.count(first) > 1:\n",
    "                good, bad = first, second\n",
    "            else:\n",
    "                good, bad = second, first\n",
    "            badChild = list(childWeights.keys())[childWeightsList.index(bad)]\n",
    "            badNodeWeight = nodeWeight[badChild]\n",
    "            badNodeDesiredWt = badNodeWeight + good - bad\n",
    "            raise Exception('Child {}, full weight: {}, desired full weight: {}, node weight: {}, desired node weight: {}'.format(badChild, bad, good, badNodeWeight, badNodeDesiredWt))\n",
    "        weight += sum(childWeights.values())\n",
    "    return weight\n",
    "\n",
    "try:\n",
    "    getFullWeight(root)\n",
    "except Exception as e:\n",
    "    print(e)"
   ]
  }
 ],
 "metadata": {
  "kernelspec": {
   "display_name": "Python 3",
   "language": "python",
   "name": "python3"
  },
  "language_info": {
   "codemirror_mode": {
    "name": "ipython",
    "version": 3
   },
   "file_extension": ".py",
   "mimetype": "text/x-python",
   "name": "python",
   "nbconvert_exporter": "python",
   "pygments_lexer": "ipython3",
   "version": "3.6.3"
  }
 },
 "nbformat": 4,
 "nbformat_minor": 2
}
