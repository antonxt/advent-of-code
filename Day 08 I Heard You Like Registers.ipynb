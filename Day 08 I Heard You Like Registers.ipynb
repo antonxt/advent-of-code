{
 "cells": [
  {
   "cell_type": "code",
   "execution_count": null,
   "metadata": {
    "collapsed": true
   },
   "outputs": [],
   "source": [
    "def run(file_name):\n",
    "    registers = {}\n",
    "    maxRegisterValues = set()\n",
    "\n",
    "    def get_value(register):\n",
    "        return registers[register] if register in registers else 0\n",
    "\n",
    "    for line in open(file_name, 'r'):\n",
    "        register, operation_t, increment, if_, left, condition, right = line.split()\n",
    "        operation = '+=' if operation_t == 'inc' else '-='\n",
    "        expr = 'if {0} {1} {2}:\\n\\\n",
    "            {3} = get_value(\"{3}\")\\n\\\n",
    "            {3} {4} {5}\\n\\\n",
    "            registers[\"{3}\"] = {3}'.format(get_value(left), condition, right, register, operation, increment)\n",
    "        exec(expr)\n",
    "        maxRegisterValues.add(max(registers.values()))\n",
    "    return registers, max(maxRegisterValues)"
   ]
  },
  {
   "cell_type": "code",
   "execution_count": null,
   "metadata": {},
   "outputs": [],
   "source": [
    "registers, maxVal = run('day8.txt')\n",
    "print(registers)\n",
    "print(maxVal)\n",
    "print(max(registers.values()))"
   ]
  }
 ],
 "metadata": {
  "kernelspec": {
   "display_name": "Python 3",
   "language": "python",
   "name": "python3"
  },
  "language_info": {
   "codemirror_mode": {
    "name": "ipython",
    "version": 3
   },
   "file_extension": ".py",
   "mimetype": "text/x-python",
   "name": "python",
   "nbconvert_exporter": "python",
   "pygments_lexer": "ipython3",
   "version": "3.6.3"
  }
 },
 "nbformat": 4,
 "nbformat_minor": 1
}
