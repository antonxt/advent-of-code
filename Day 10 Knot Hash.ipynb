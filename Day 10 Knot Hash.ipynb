{
 "cells": [
  {
   "cell_type": "code",
   "execution_count": 1,
   "metadata": {
    "collapsed": true
   },
   "outputs": [],
   "source": [
    "def knotHashLst(inp, lst=list(range(256)), pos=0, skip=0, debug=False):\n",
    "    if debug:\n",
    "        print('\\nInitial: {}, input: {}'.format(lst, inp))\n",
    "    length = len(lst)\n",
    "    for idx in range(len(inp)):\n",
    "        size = inp[idx]  # The size of the sublist to be reversed\n",
    "        end_pos = (pos + size - 1) % length\n",
    "        if size > 0:\n",
    "            if end_pos < pos: # The part to be reversed includes the end and the beginning of the list\n",
    "                revd = (lst[pos:] + lst[:end_pos+1])[::-1]  # Reversed part of the list\n",
    "                left = revd[length-pos:]\n",
    "                mid = lst[end_pos+1:pos]\n",
    "                right = revd[:length-pos]\n",
    "            else: # The whole part to be reversed fits in between of the beginning and the end of the list\n",
    "                left = lst[:pos]\n",
    "                revd = mid = lst[pos:end_pos+1][::-1]\n",
    "                right = lst[end_pos+1:]\n",
    "            if debug:\n",
    "                listPrint = ' '.join(\n",
    "                    '({})'.format(lst[i]) if i == pos and i == end_pos\n",
    "                          else '({}'.format(lst[i]) if i == pos \n",
    "                          else '{})'.format(lst[i]) if i == end_pos\n",
    "                          else '{}'.format(lst[i])\n",
    "                          for i in range(len(lst))\n",
    "                 )\n",
    "                print('{}: lst [{}], reversed {}, result {} + {} + {}'.format(skip, listPrint, revd, left, mid, right))\n",
    "            lst = left + mid + right\n",
    "        pos = (end_pos + 1 + skip) % length\n",
    "        skip += 1\n",
    "    if debug:\n",
    "        print('Final: {}'.format(lst))\n",
    "    return lst, pos, skip % len(lst)"
   ]
  },
  {
   "cell_type": "code",
   "execution_count": 2,
   "metadata": {},
   "outputs": [],
   "source": [
    "#print(knotHashLst([3, 4, 1, 5], list(range(5)), 0, 0))\n",
    "#print(knotHashLst([5, 3, 4], list(range(5)), 0, 0))\n",
    "#print(knotHashLst([0, 5], list(range(5)), 0, 0))"
   ]
  },
  {
   "cell_type": "code",
   "execution_count": 3,
   "metadata": {},
   "outputs": [
    {
     "name": "stdout",
     "output_type": "stream",
     "text": [
      "Part 1 result: 38415\n"
     ]
    }
   ],
   "source": [
    "puzzleIn = [189, 1, 111, 246, 254, 2, 0, 120, 215, 93, 255, 50, 84, 15, 94, 62]\n",
    "lst = knotHashLst(puzzleIn)[0]\n",
    "print('Part 1 result: {}'.format(lst[0] * lst[1]))"
   ]
  },
  {
   "cell_type": "code",
   "execution_count": 4,
   "metadata": {},
   "outputs": [],
   "source": [
    "# Part 2\n",
    "def knotHash(s):\n",
    "    inp = [ord(c) for c in s.strip()] + [17, 31, 73, 47, 23]\n",
    "    pos = skip = 0\n",
    "    hash_ = list(range(256))\n",
    "    for i in range(64):\n",
    "        hash_, pos, skip = knotHashLst(inp, hash_, pos, skip)\n",
    "    return denseHash(hash_)\n",
    "\n",
    "def denseHash(sparseHash):\n",
    "    dense = []\n",
    "    for i in range(16):\n",
    "        h = sparseHash[16 * i]\n",
    "        for j in range(1, 16):\n",
    "            h = h ^ sparseHash[16*i + j]\n",
    "        dense.append(h)\n",
    "    return ''.join('{0:02x}'.format(i) for i in dense)"
   ]
  },
  {
   "cell_type": "code",
   "execution_count": 5,
   "metadata": {},
   "outputs": [
    {
     "name": "stdout",
     "output_type": "stream",
     "text": [
      "In: \"\", expected: a2582a3a0e66e6e86e3812dcb672a272, factual: a2582a3a0e66e6e86e3812dcb672a272, check: True\n",
      "In: \"AoC 2017\", expected: 33efeb34ea91902bb2f59c9920caa6cd, factual: 33efeb34ea91902bb2f59c9920caa6cd, check: True\n",
      "In: \"1,2,3\", expected: 3efbe78a8d82f29979031a4aa0b16a9d, factual: 3efbe78a8d82f29979031a4aa0b16a9d, check: True\n",
      "In: \"1,2,4\", expected: 63960835bcdc130f0b66d7ff4f6a5a8e, factual: 63960835bcdc130f0b66d7ff4f6a5a8e, check: True\n"
     ]
    }
   ],
   "source": [
    "tests = {\n",
    "    '': 'a2582a3a0e66e6e86e3812dcb672a272',\n",
    "    'AoC 2017': '33efeb34ea91902bb2f59c9920caa6cd',\n",
    "    '1,2,3': '3efbe78a8d82f29979031a4aa0b16a9d',\n",
    "    '1,2,4': '63960835bcdc130f0b66d7ff4f6a5a8e'\n",
    "}\n",
    "\n",
    "for strIn, expectedHash in tests.items():\n",
    "    result = knotHash(strIn)\n",
    "    print('In: \"{}\", expected: {}, factual: {}, check: {}'.format(strIn, expectedHash, result, result == expectedHash))"
   ]
  },
  {
   "cell_type": "code",
   "execution_count": 6,
   "metadata": {},
   "outputs": [
    {
     "data": {
      "text/plain": [
       "'9de8846431eef262be78f590e39a4848'"
      ]
     },
     "execution_count": 6,
     "metadata": {},
     "output_type": "execute_result"
    }
   ],
   "source": [
    "puzzleInStr = '189,1,111,246,254,2,0,120,215,93,255,50,84,15,94,62'\n",
    "knotHash(puzzleInStr)"
   ]
  }
 ],
 "metadata": {
  "kernelspec": {
   "display_name": "Python 3",
   "language": "python",
   "name": "python3"
  },
  "language_info": {
   "codemirror_mode": {
    "name": "ipython",
    "version": 3
   },
   "file_extension": ".py",
   "mimetype": "text/x-python",
   "name": "python",
   "nbconvert_exporter": "python",
   "pygments_lexer": "ipython3",
   "version": "3.6.3"
  },
  "widgets": {
   "application/vnd.jupyter.widget-state+json": {
    "state": {},
    "version_major": 2,
    "version_minor": 0
   }
  }
 },
 "nbformat": 4,
 "nbformat_minor": 2
}
