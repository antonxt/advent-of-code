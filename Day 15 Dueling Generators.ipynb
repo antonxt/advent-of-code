{
 "cells": [
  {
   "cell_type": "markdown",
   "metadata": {},
   "source": [
    "# Part 1 - Count matches in the lowest 16 bits "
   ]
  },
  {
   "cell_type": "code",
   "execution_count": 1,
   "metadata": {
    "collapsed": true
   },
   "outputs": [],
   "source": [
    "MULT_A = 16807\n",
    "MULT_B = 48271\n",
    "DIVISOR = 2147483647\n",
    "SEQ_LEN = 40000000\n",
    "\n",
    "def gen_a(start_a, len_=SEQ_LEN):\n",
    "    value = start_a\n",
    "    for i in range(len_):\n",
    "        value = (value*MULT_A) % DIVISOR\n",
    "        yield value\n",
    "\n",
    "def gen_b(start_b, len_=SEQ_LEN):\n",
    "    value = start_b\n",
    "    for i in range(len_):\n",
    "        value = (value*MULT_B) % DIVISOR\n",
    "        yield value"
   ]
  },
  {
   "cell_type": "code",
   "execution_count": 2,
   "metadata": {
    "collapsed": true
   },
   "outputs": [],
   "source": [
    "def print_gens(generator_a, generator_b, len_=5): # For debug\n",
    "    print(' #  Generator A  Generator B')\n",
    "    for i in range(len_):\n",
    "        print('{:02} {:12} {:12}'.format(i, next(generator_a), next(generator_b)))"
   ]
  },
  {
   "cell_type": "code",
   "execution_count": 3,
   "metadata": {
    "collapsed": true
   },
   "outputs": [],
   "source": [
    "MASK = (1<<16)-1 # 0b1111111111111111 - 16 bits of 1\n",
    "\n",
    "def count_matches(generator_a, generator_b, len_):\n",
    "    matches_count = 0\n",
    "    zipped = zip(generator_a, generator_b)\n",
    "    for i in range(len_):\n",
    "        a, b = next(zipped)\n",
    "        if a & MASK == b & MASK:\n",
    "            matches_count += 1\n",
    "    return matches_count"
   ]
  },
  {
   "cell_type": "markdown",
   "metadata": {},
   "source": [
    "## Part 1 - Actual calculation"
   ]
  },
  {
   "cell_type": "code",
   "execution_count": 4,
   "metadata": {
    "collapsed": true
   },
   "outputs": [],
   "source": [
    "test = (65, 8921) # Start numbers for gens A and B\n",
    "puzzle = (116, 299)"
   ]
  },
  {
   "cell_type": "code",
   "execution_count": 5,
   "metadata": {},
   "outputs": [
    {
     "name": "stdout",
     "output_type": "stream",
     "text": [
      " #  Generator A  Generator B\n",
      "00      1092455    430625591\n",
      "01   1181022009   1233683848\n",
      "02    245556042   1431495498\n",
      "03   1744312007    137874439\n",
      "04   1352636452    285222916\n"
     ]
    }
   ],
   "source": [
    "test_len = 5\n",
    "print_gens(gen_a(test[0], test_len), gen_b(test[1], test_len), test_len)"
   ]
  },
  {
   "cell_type": "code",
   "execution_count": 6,
   "metadata": {
    "collapsed": true
   },
   "outputs": [],
   "source": [
    "act_matches = count_matches(gen_a(test[0]), gen_b(test[1]), SEQ_LEN)\n",
    "exp_matches = 588\n",
    "if act_matches != exp_matches:\n",
    "    print('count_matches({}) FAIL: got {}, expected {}'.format(test_input, act_matches, exp_matches))"
   ]
  },
  {
   "cell_type": "code",
   "execution_count": 7,
   "metadata": {},
   "outputs": [
    {
     "data": {
      "text/plain": [
       "569"
      ]
     },
     "execution_count": 7,
     "metadata": {},
     "output_type": "execute_result"
    }
   ],
   "source": [
    "count_matches(gen_a(puzzle[0]), gen_b(puzzle[1]), SEQ_LEN)  # 569"
   ]
  },
  {
   "cell_type": "markdown",
   "metadata": {},
   "source": [
    "# Part 2 - Generate only values that are multiples\n",
    "- Generator A looks for values that are multiples of 4.\n",
    "- Generator B looks for values that are multiples of 8."
   ]
  },
  {
   "cell_type": "code",
   "execution_count": 8,
   "metadata": {
    "collapsed": true
   },
   "outputs": [],
   "source": [
    "SEQ_LEN_2 = 5000000 # Sequence length is shorter in part 2"
   ]
  },
  {
   "cell_type": "code",
   "execution_count": 9,
   "metadata": {
    "collapsed": true
   },
   "outputs": [],
   "source": [
    "def gen_am(start_a, len_=SEQ_LEN_2):\n",
    "    value = start_a\n",
    "    for i in range(len_):\n",
    "        while True:\n",
    "            value = (value*MULT_A) % DIVISOR\n",
    "            if not value % 4:\n",
    "                break\n",
    "        yield value\n",
    "\n",
    "def gen_bm(start_b, len_=SEQ_LEN_2):\n",
    "    value = start_b\n",
    "    for i in range(len_):\n",
    "        while True:\n",
    "            value = (value*MULT_B) % DIVISOR\n",
    "            if not value % 8:\n",
    "                break\n",
    "        yield value"
   ]
  },
  {
   "cell_type": "code",
   "execution_count": 10,
   "metadata": {},
   "outputs": [
    {
     "name": "stdout",
     "output_type": "stream",
     "text": [
      " #  Generator A  Generator B\n",
      "00   1352636452   1233683848\n",
      "01   1992081072    862516352\n",
      "02    530830436   1159784568\n",
      "03   1980017072   1616057672\n",
      "04    740335192    412269392\n"
     ]
    }
   ],
   "source": [
    "test_len = 5\n",
    "print_gens(gen_am(test[0], test_len), gen_bm(test[1], test_len), test_len)"
   ]
  },
  {
   "cell_type": "code",
   "execution_count": 11,
   "metadata": {
    "collapsed": true
   },
   "outputs": [],
   "source": [
    "exp_matches = 309\n",
    "act_matches = count_matches(gen_am(test[0]), gen_bm(test[1]), SEQ_LEN_2)\n",
    "\n",
    "if act_matches != exp_matches:\n",
    "    print('count_matches({}) FAIL: got {}, expected {}'.format(test_input, act_matches, exp_matches))"
   ]
  },
  {
   "cell_type": "code",
   "execution_count": 12,
   "metadata": {},
   "outputs": [
    {
     "data": {
      "text/plain": [
       "298"
      ]
     },
     "execution_count": 12,
     "metadata": {},
     "output_type": "execute_result"
    }
   ],
   "source": [
    "count_matches(gen_am(puzzle[0]), gen_bm(puzzle[1]), SEQ_LEN_2)  # 298"
   ]
  }
 ],
 "metadata": {
  "kernelspec": {
   "display_name": "Python 3",
   "language": "python",
   "name": "python3"
  },
  "language_info": {
   "codemirror_mode": {
    "name": "ipython",
    "version": 3
   },
   "file_extension": ".py",
   "mimetype": "text/x-python",
   "name": "python",
   "nbconvert_exporter": "python",
   "pygments_lexer": "ipython3",
   "version": "3.6.3"
  }
 },
 "nbformat": 4,
 "nbformat_minor": 2
}
