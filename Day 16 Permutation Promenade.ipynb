{
 "cells": [
  {
   "cell_type": "markdown",
   "metadata": {},
   "source": [
    "## Part 1 - Dance moves"
   ]
  },
  {
   "cell_type": "code",
   "execution_count": 1,
   "metadata": {
    "collapsed": true
   },
   "outputs": [],
   "source": [
    "def init(len_):\n",
    "    return [chr(ord('a') + i) for i in range(len_)]\n",
    "\n",
    "def spin(line, x):\n",
    "    return line[-x:] + line[:-x]\n",
    "\n",
    "def exchange(line, x, y):\n",
    "    temp = line[y]\n",
    "    line[y], line[x] = line[x], temp\n",
    "\n",
    "def partner(line, a, b):\n",
    "    return exchange(line, line.index(a), line.index(b))\n",
    "\n",
    "def to_string(line):\n",
    "    return ''.join(line)\n",
    "\n",
    "def do_moves(moves_s, line, repeats=1):\n",
    "    cache = []\n",
    "    for i in range(repeats):\n",
    "        if line in cache: # That state has already been encountered - cycle detected\n",
    "            idx = cache.index(line)\n",
    "            cycle_len = i - idx\n",
    "            final_idx = idx + (repeats - i) % cycle_len\n",
    "            return cache[final_idx]\n",
    "\n",
    "        cache.append(list(line))\n",
    "        for move in moves_s.split(','):\n",
    "            if move[0] == 's':\n",
    "                line = spin(line, int(move[1:]))\n",
    "            elif move[0] == 'x':\n",
    "                x, y = (int(s) for s in move[1:].split('/'))\n",
    "                exchange(line, x, y)\n",
    "            elif move[0] == 'p':\n",
    "                a, b = move[1:].split('/')\n",
    "                partner(line, a, b)\n",
    "    return line"
   ]
  },
  {
   "cell_type": "code",
   "execution_count": 2,
   "metadata": {
    "collapsed": true
   },
   "outputs": [],
   "source": [
    "test_input = 's1,x3/4,pe/b'\n",
    "assert to_string(do_moves(test_input, init(5))) == 'baedc'"
   ]
  },
  {
   "cell_type": "code",
   "execution_count": 3,
   "metadata": {},
   "outputs": [
    {
     "name": "stdout",
     "output_type": "stream",
     "text": [
      "Puzzle answer to part 1: dcmlhejnifpokgba\n"
     ]
    }
   ],
   "source": [
    "puzzle_input = next(open('day16.txt', 'r'))\n",
    "puzzle_answer_1 = to_string(do_moves(puzzle_input, init(16)))\n",
    "assert puzzle_answer_1 == 'dcmlhejnifpokgba'\n",
    "print('Puzzle answer to part 1: {}'.format(puzzle_answer_1))"
   ]
  },
  {
   "cell_type": "markdown",
   "metadata": {},
   "source": [
    "## Part 2 - billion times dance"
   ]
  },
  {
   "cell_type": "code",
   "execution_count": 4,
   "metadata": {
    "collapsed": true
   },
   "outputs": [],
   "source": [
    "expected = 'ceadb'\n",
    "actual = to_string(do_moves(test_input, init(5), 2))\n",
    "assert expected == actual, 'Expected: {}, got: {}'.format(expected, actual)"
   ]
  },
  {
   "cell_type": "code",
   "execution_count": 5,
   "metadata": {
    "collapsed": true
   },
   "outputs": [],
   "source": [
    "expected = 'ghidjklmnopaecbf'\n",
    "actual = to_string(do_moves(test_input, init(16), 505))\n",
    "assert expected == actual, 'Expected: {}, got: {}'.format(expected, actual)"
   ]
  },
  {
   "cell_type": "code",
   "execution_count": 6,
   "metadata": {
    "collapsed": true
   },
   "outputs": [],
   "source": [
    "expected = 'bfgdhijklmnopaec'\n",
    "actual = to_string(do_moves(test_input, init(16), 507))\n",
    "assert expected == actual, 'Expected: {}, got: {}'.format(expected, actual)"
   ]
  },
  {
   "cell_type": "code",
   "execution_count": 7,
   "metadata": {},
   "outputs": [
    {
     "name": "stdout",
     "output_type": "stream",
     "text": [
      "Puzzle answer to part 2: ifocbejpdnklamhg\n"
     ]
    }
   ],
   "source": [
    "puzzle_answer_2 = to_string(do_moves(puzzle_input, init(16), 1000000000))\n",
    "# 'ifocbejpdnklamhg'\n",
    "actual = print('Puzzle answer to part 2: {}'.format(puzzle_answer_2))"
   ]
  }
 ],
 "metadata": {
  "kernelspec": {
   "display_name": "Python 3",
   "language": "python",
   "name": "python3"
  },
  "language_info": {
   "codemirror_mode": {
    "name": "ipython",
    "version": 3
   },
   "file_extension": ".py",
   "mimetype": "text/x-python",
   "name": "python",
   "nbconvert_exporter": "python",
   "pygments_lexer": "ipython3",
   "version": "3.6.3"
  }
 },
 "nbformat": 4,
 "nbformat_minor": 2
}
