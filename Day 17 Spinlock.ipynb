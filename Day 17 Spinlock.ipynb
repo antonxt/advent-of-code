{
 "cells": [
  {
   "cell_type": "markdown",
   "metadata": {},
   "source": [
    "## Part One"
   ]
  },
  {
   "cell_type": "code",
   "execution_count": 1,
   "metadata": {},
   "outputs": [],
   "source": [
    "def spin(times, skip):\n",
    "    pos = 0\n",
    "    buffer = [0]\n",
    "    for i in range(1, times):\n",
    "        pos = (pos + skip) % len(buffer) + 1\n",
    "        buffer.insert(pos, i)\n",
    "    return buffer, pos"
   ]
  },
  {
   "cell_type": "code",
   "execution_count": 2,
   "metadata": {},
   "outputs": [],
   "source": [
    "expected = [0, 9, 5, 7, 2, 4, 3, 8, 6, 1]\n",
    "actual = spin(10, 3)[0]\n",
    "if actual != expected:\n",
    "    print('Error. spin({}, {}) = {}, expected {}'.format(times, skip, actual, expected))"
   ]
  },
  {
   "cell_type": "code",
   "execution_count": 3,
   "metadata": {
    "collapsed": true
   },
   "outputs": [],
   "source": [
    "def after_spin(times, skip):\n",
    "    buffer, pos = spin(times, skip)\n",
    "    pos_after = (pos+1) % len(buffer)\n",
    "    return buffer[pos_after]"
   ]
  },
  {
   "cell_type": "code",
   "execution_count": 4,
   "metadata": {},
   "outputs": [],
   "source": [
    "times, skip, expected = 2018, 3, 638\n",
    "actual = after_spin(times, skip)\n",
    "if actual != expected:\n",
    "    print('Error. after_spin({}, {}) = {}, expected {}'.format(times, skip, actual, expected))"
   ]
  },
  {
   "cell_type": "code",
   "execution_count": 5,
   "metadata": {},
   "outputs": [
    {
     "name": "stdout",
     "output_type": "stream",
     "text": [
      "Part 1 answer = 1912\n"
     ]
    }
   ],
   "source": [
    "puzzle_in = 355\n",
    "puzzle_answer = after_spin(2018, puzzle_in)\n",
    "print(\"Part 1 answer = {}\".format(puzzle_answer))"
   ]
  },
  {
   "cell_type": "markdown",
   "metadata": {},
   "source": [
    "## Part Two"
   ]
  },
  {
   "cell_type": "code",
   "execution_count": null,
   "metadata": {
    "collapsed": true
   },
   "outputs": [],
   "source": []
  }
 ],
 "metadata": {
  "kernelspec": {
   "display_name": "Python 3",
   "language": "python",
   "name": "python3"
  },
  "language_info": {
   "codemirror_mode": {
    "name": "ipython",
    "version": 3
   },
   "file_extension": ".py",
   "mimetype": "text/x-python",
   "name": "python",
   "nbconvert_exporter": "python",
   "pygments_lexer": "ipython3",
   "version": "3.6.3"
  }
 },
 "nbformat": 4,
 "nbformat_minor": 2
}
