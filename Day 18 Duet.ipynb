{
 "cells": [
  {
   "cell_type": "markdown",
   "metadata": {},
   "source": [
    "## Part 1\n",
    "\n",
    "What is the value of the recovered frequency (the value of the most recently played sound) the first time a `rcv` instruction is executed with a non-zero value?"
   ]
  },
  {
   "cell_type": "code",
   "execution_count": 1,
   "metadata": {},
   "outputs": [],
   "source": [
    "def run(instructions):\n",
    "    SND_REG = 0\n",
    "    regs = {SND_REG: 0} # Registers. 0 is the special register that keeps the result of `snd X`\n",
    "\n",
    "    def get_value(y): # Returns y when y is an int and the value of register named y otherwise\n",
    "        try:\n",
    "            return int(y)\n",
    "        except ValueError:\n",
    "            if not y in regs:\n",
    "                regs[y] = 0\n",
    "            return regs[y]\n",
    "\n",
    "    i = 0\n",
    "    while i < len(instructions):\n",
    "        spl = instructions[i].split(' ')\n",
    "        # print('{:02} {}\\t{}'.format(i, instructions[i], regs))\n",
    "        cmd = spl[0]\n",
    "        x = spl[1]\n",
    "        if cmd == 'snd':\n",
    "            regs[SND_REG] = get_value(x)\n",
    "        elif cmd == 'set':        \n",
    "            regs[x] = get_value(spl[2])\n",
    "        elif cmd == 'add':\n",
    "            regs[x] = get_value(x) + get_value(spl[2])\n",
    "        elif cmd == 'mul':\n",
    "            regs[x] = get_value(x) * get_value(spl[2])\n",
    "        elif cmd == 'mod':\n",
    "            regs[x] = get_value(x) % get_value(spl[2])\n",
    "        elif cmd == 'rcv':\n",
    "            if get_value(x) != 0 and regs[SND_REG] != 0:\n",
    "                return regs[SND_REG], regs\n",
    "        elif cmd == 'jgz':\n",
    "            if get_value(x) > 0:\n",
    "                i += get_value(spl[2])\n",
    "                continue\n",
    "        i += 1\n",
    "\n",
    "    return regs"
   ]
  },
  {
   "cell_type": "code",
   "execution_count": 2,
   "metadata": {},
   "outputs": [],
   "source": [
    "test_in = [\n",
    "    'set a 1',\n",
    "    'add a 2',\n",
    "    'mul a a',\n",
    "    'mod a 5',\n",
    "    'snd a',\n",
    "    'set a 0',\n",
    "    'rcv a',\n",
    "    'jgz a -1',\n",
    "    'set a 1',\n",
    "    'jgz a -2'\n",
    "]\n",
    "expected = 4\n",
    "actual, registers = run(test_in)\n",
    "assert expected == actual, 'run(test_in) failed, expected {}, got {} {}'.format(\n",
    "    expected, actual, registers)"
   ]
  },
  {
   "cell_type": "code",
   "execution_count": 3,
   "metadata": {},
   "outputs": [
    {
     "name": "stdout",
     "output_type": "stream",
     "text": [
      "Part 1 answer: 2951 {0: 2951, 'i': 126, 'a': 2147483647, 'p': 1842102951, 'b': 2951, 'f': 0}\n"
     ]
    }
   ],
   "source": [
    "puzzle_in = [l[:-1] if l.endswith('\\n') else l for l in open('day18.txt', 'r')]\n",
    "expected = 2951\n",
    "actual, registers = run(puzzle_in)\n",
    "assert expected == actual, 'run(puzzle_in) failed, expected {}, got {} {}'.format(\n",
    "    expected, actual, registers)\n",
    "print('Part 1 answer: {} {}'.format(actual, registers))"
   ]
  },
  {
   "cell_type": "code",
   "execution_count": null,
   "metadata": {
    "collapsed": true
   },
   "outputs": [],
   "source": []
  }
 ],
 "metadata": {
  "kernelspec": {
   "display_name": "Python 3",
   "language": "python",
   "name": "python3"
  },
  "language_info": {
   "codemirror_mode": {
    "name": "ipython",
    "version": 3
   },
   "file_extension": ".py",
   "mimetype": "text/x-python",
   "name": "python",
   "nbconvert_exporter": "python",
   "pygments_lexer": "ipython3",
   "version": "3.6.3"
  }
 },
 "nbformat": 4,
 "nbformat_minor": 2
}
