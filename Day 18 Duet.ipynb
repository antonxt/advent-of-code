{
 "cells": [
  {
   "cell_type": "markdown",
   "metadata": {},
   "source": [
    "## Part 1\n",
    "\n",
    "What is the value of the recovered frequency (the value of the most recently played sound) the first time a `rcv` instruction is executed with a non-zero value?"
   ]
  },
  {
   "cell_type": "code",
   "execution_count": 1,
   "metadata": {
    "collapsed": true
   },
   "outputs": [],
   "source": [
    "def run(instructions):\n",
    "    SND_REG = 0\n",
    "    regs = {SND_REG: 0} # Registers. 0 is the special register that keeps the result of `snd X`\n",
    "\n",
    "    def get_value(y): # Returns y when y is an int and the value of register named y otherwise\n",
    "        try:\n",
    "            return int(y)\n",
    "        except ValueError:\n",
    "            if not y in regs:\n",
    "                regs[y] = 0\n",
    "            return regs[y]\n",
    "\n",
    "    i = 0\n",
    "    while i < len(instructions):\n",
    "        spl = instructions[i].split(' ')\n",
    "        cmd = spl[0]\n",
    "        x = spl[1]\n",
    "        if cmd == 'snd':\n",
    "            regs[SND_REG] = get_value(x)\n",
    "        elif cmd == 'set':        \n",
    "            regs[x] = get_value(spl[2])\n",
    "        elif cmd == 'add':\n",
    "            regs[x] = get_value(x) + get_value(spl[2])\n",
    "        elif cmd == 'mul':\n",
    "            regs[x] = get_value(x) * get_value(spl[2])\n",
    "        elif cmd == 'mod':\n",
    "            regs[x] = get_value(x) % get_value(spl[2])\n",
    "        elif cmd == 'rcv':\n",
    "            if get_value(x) != 0 and regs[SND_REG] != 0:\n",
    "                return regs[SND_REG], regs\n",
    "        elif cmd == 'jgz':\n",
    "            if get_value(x) > 0:\n",
    "                i += get_value(spl[2])\n",
    "                continue\n",
    "        i += 1\n",
    "\n",
    "    return regs"
   ]
  },
  {
   "cell_type": "code",
   "execution_count": 2,
   "metadata": {},
   "outputs": [],
   "source": [
    "test_in = 'set a 1,add a 2,mul a a,mod a 5,snd a,set a 0,rcv a,jgz a -1,set a 1,\\\n",
    "jgz a -2'.split(',')\n",
    "expected = 4\n",
    "actual, registers = run(test_in)\n",
    "assert expected == actual, 'run(test_in) failed, expected {}, got {} {}'.format(\n",
    "    expected, actual, registers)"
   ]
  },
  {
   "cell_type": "code",
   "execution_count": 3,
   "metadata": {},
   "outputs": [
    {
     "name": "stdout",
     "output_type": "stream",
     "text": [
      "Part 1 answer: 2951 {0: 2951, 'i': 126, 'a': 2147483647, 'p': 1842102951, 'b': 2951, 'f': 0}\n"
     ]
    }
   ],
   "source": [
    "puzzle_in = [l[:-1] if l.endswith('\\n') else l for l in open('day18.txt', 'r')]\n",
    "expected = 2951\n",
    "actual, registers = run(puzzle_in)\n",
    "assert expected == actual, 'run(puzzle_in) failed, expected {}, got {} {}'.format(\n",
    "    expected, actual, registers)\n",
    "print('Part 1 answer: {} {}'.format(actual, registers))"
   ]
  },
  {
   "cell_type": "markdown",
   "metadata": {},
   "source": [
    "## Part 2 - Two threads"
   ]
  },
  {
   "cell_type": "code",
   "execution_count": 4,
   "metadata": {
    "collapsed": true
   },
   "outputs": [],
   "source": [
    "def get_value(proc, y):\n",
    "    try:\n",
    "        return int(y)\n",
    "    except ValueError:\n",
    "        if not y in proc:\n",
    "            proc[y] = 0\n",
    "        return proc[y]\n",
    "\n",
    "# Special register names\n",
    "ID_REG, Q_REG, OUT_CNT, POS_REG = 'p', 'que', 'out_cnt', 'pos'\n",
    "\n",
    "def run_duet(instructions):\n",
    "    pr0 = {ID_REG: 0, Q_REG: [], OUT_CNT: 0, POS_REG: 0} # Processes whose ID = 0\n",
    "    pr1 = {ID_REG: 1, Q_REG: [], OUT_CNT: 0, POS_REG: 0} # Processes whose ID = 1\n",
    "    while True:\n",
    "        #print(pr0, pr1)\n",
    "        s0, s1 = do_step(pr0, pr1[Q_REG], instructions), do_step(pr1, pr0[Q_REG], instructions)\n",
    "        if s0 and s1:\n",
    "            break\n",
    "    return pr0, pr1\n",
    "\n",
    "def do_step(proc, out, instructions):\n",
    "    if proc[POS_REG] > len(instructions) - 1:\n",
    "        return True  # Process finished\n",
    "    spl = instructions[proc[POS_REG]].split(' ')\n",
    "    cmd = spl[0]\n",
    "    x = spl[1]\n",
    "    if cmd == 'snd':\n",
    "        out.insert(0, get_value(proc, x))\n",
    "        proc[OUT_CNT] += 1\n",
    "    elif cmd == 'set':        \n",
    "        proc[x] = get_value(proc, spl[2])\n",
    "    elif cmd == 'add':\n",
    "        proc[x] = get_value(proc, x) + get_value(proc, spl[2])\n",
    "    elif cmd == 'mul':\n",
    "        proc[x] = get_value(proc, x) * get_value(proc, spl[2])\n",
    "    elif cmd == 'mod':\n",
    "        proc[x] = get_value(proc, x) % get_value(proc, spl[2])\n",
    "    elif cmd == 'rcv':\n",
    "        if len(proc[Q_REG]) == 0:  # Incoming queue is empty, waiting\n",
    "            return True\n",
    "        proc[x] = proc[Q_REG].pop()\n",
    "    elif cmd == 'jgz':\n",
    "        if get_value(proc, x) > 0:\n",
    "            proc[POS_REG] += get_value(proc, spl[2])\n",
    "            return False\n",
    "    proc[POS_REG] += 1\n",
    "    return False"
   ]
  },
  {
   "cell_type": "code",
   "execution_count": 5,
   "metadata": {},
   "outputs": [
    {
     "data": {
      "text/plain": [
       "({'a': 1, 'b': 2, 'c': 1, 'out_cnt': 3, 'p': 0, 'pos': 6, 'que': []},\n",
       " {'a': 1, 'b': 2, 'c': 0, 'out_cnt': 3, 'p': 1, 'pos': 6, 'que': []})"
      ]
     },
     "execution_count": 5,
     "metadata": {},
     "output_type": "execute_result"
    }
   ],
   "source": [
    "test_instructions = 'snd 1,snd 2,snd p,rcv a,rcv b,rcv c,rcv d'.split(',')\n",
    "run_duet(test_instructions)"
   ]
  },
  {
   "cell_type": "code",
   "execution_count": 6,
   "metadata": {},
   "outputs": [
    {
     "name": "stdout",
     "output_type": "stream",
     "text": [
      "Part 2 answer: 7366\n"
     ]
    }
   ],
   "source": [
    "p0, p1 = run_duet(puzzle_in)\n",
    "print('Part 2 answer: {}'.format(p1[OUT_CNT]))"
   ]
  }
 ],
 "metadata": {
  "kernelspec": {
   "display_name": "Python 3",
   "language": "python",
   "name": "python3"
  },
  "language_info": {
   "codemirror_mode": {
    "name": "ipython",
    "version": 3
   },
   "file_extension": ".py",
   "mimetype": "text/x-python",
   "name": "python",
   "nbconvert_exporter": "python",
   "pygments_lexer": "ipython3",
   "version": "3.6.3"
  }
 },
 "nbformat": 4,
 "nbformat_minor": 2
}
