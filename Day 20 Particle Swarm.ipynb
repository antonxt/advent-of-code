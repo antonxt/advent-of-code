{
 "cells": [
  {
   "cell_type": "markdown",
   "metadata": {},
   "source": [
    "## Part 1 - Closest to (0,0,0) in the long run"
   ]
  },
  {
   "cell_type": "code",
   "execution_count": null,
   "metadata": {},
   "outputs": [],
   "source": [
    "import numpy as np\n",
    "def load(file_name):\n",
    "    '''Loads positions, velocities, and accelerations (as tuples of ints) from the file_name'''\n",
    "    file = open(file_name, 'r')\n",
    "    poss = []\n",
    "    vels = []\n",
    "    accs = []\n",
    "    for s in file:\n",
    "        poss.append(tuple(int(n) for n in s[s.find('p=<')+3:s.find('>, v=<')].split(',')))\n",
    "        vels.append(tuple(int(n) for n in s[s.find('v=<')+3:s.find('>, a=<')].split(',')))\n",
    "        accs.append(tuple(int(n) for n in s[s.find('a=<')+3:s.rfind('>')].split(',')))\n",
    "    return np.array(poss), np.array(vels), np.array(accs)"
   ]
  },
  {
   "cell_type": "code",
   "execution_count": null,
   "metadata": {},
   "outputs": [],
   "source": [
    "poss, vels, accs = load('day20.txt')\n",
    "acc_mds = np.abs(accs).sum(axis=-1)  # Absolute values of accelerations of each particle\n",
    "min_abs_acc = np.where(acc_mds == acc_mds.min())[0]  # Array of indexes with absolute acceleration = min\n",
    "# If there were more than 1 such particles - initial velocity should have been considered.\n",
    "print('Answer to part 1 - particle whose acceleration is the lowest = {}'.format(min_abs_acc))"
   ]
  },
  {
   "cell_type": "markdown",
   "metadata": {},
   "source": [
    "## Part 2 - How many particles collided?"
   ]
  },
  {
   "cell_type": "code",
   "execution_count": null,
   "metadata": {},
   "outputs": [],
   "source": [
    "p, v, a = np.array(poss), np.array(vels), np.array(accs)\n",
    "print('Starting similation with {} particles'.format(len(p)))\n",
    "from mpl_toolkits.mplot3d import Axes3D \n",
    "import matplotlib.pyplot as plt\n",
    "for t in range(100):\n",
    "    #print('t = {}, {}, {}, {}'.format(t, p[-1], v[-1], a[-1]))\n",
    "    unique, counts = np.unique(p, axis=0, return_counts=True)\n",
    "    collision_mask = counts > 1\n",
    "    if True in collision_mask:  # Collisions (non-unique positions) found\n",
    "        collision_poss = unique[collision_mask]  # Duplicated positions (collisions) to be removed\n",
    "        collision_idx = [i for i in range(len(p)) if p[i] in collision_poss]\n",
    "        #print('----------\\nt = {}, particles count = {}, collisions: {}, collision positions:\\n{}'.format(\n",
    "            #t, len(p), len(collision_idx), p[collision_idx]))\n",
    "        fig = plt.figure()\n",
    "        ax = fig.add_subplot(111, projection='3d') \n",
    "        ax.scatter(p[:,0], p[:,1], p[:,2], s=1, c=\"g\", marker=\"o\")\n",
    "        ax.scatter(collision_poss[:,0], collision_poss[:,1], collision_poss[:,2], s=50, c=\"r\", marker=\"o\")\n",
    "        #ax.view_init(azim=180, elev=10)\n",
    "        plt.show()\n",
    "\n",
    "        p = np.delete(p, collision_idx, axis=0)\n",
    "        v = np.delete(v, collision_idx, axis=0)\n",
    "        a = np.delete(a, collision_idx, axis=0)\n",
    "        print('t = {}, after collisions remain {} particles'.format(t, len(p)))\n",
    "    v += a\n",
    "    p += v\n",
    "print('----------\\nPart 2 answer: {}'.format(len(p)))"
   ]
  },
  {
   "cell_type": "markdown",
   "metadata": {},
   "source": [
    "### Wrong answers\n",
    "Too high: `772`.\n",
    "\n",
    "Incorrect: `644`, `663`."
   ]
  }
 ],
 "metadata": {
  "kernelspec": {
   "display_name": "Python 3",
   "language": "python",
   "name": "python3"
  },
  "language_info": {
   "codemirror_mode": {
    "name": "ipython",
    "version": 3
   },
   "file_extension": ".py",
   "mimetype": "text/x-python",
   "name": "python",
   "nbconvert_exporter": "python",
   "pygments_lexer": "ipython3",
   "version": "3.6.3"
  },
  "toc": {
   "nav_menu": {},
   "number_sections": false,
   "sideBar": true,
   "skip_h1_title": false,
   "toc_cell": false,
   "toc_position": {},
   "toc_section_display": "none",
   "toc_window_display": false
  },
  "varInspector": {
   "cols": {
    "lenName": 16,
    "lenType": 16,
    "lenVar": 40
   },
   "kernels_config": {
    "python": {
     "delete_cmd_postfix": "",
     "delete_cmd_prefix": "del ",
     "library": "var_list.py",
     "varRefreshCmd": "print(var_dic_list())"
    },
    "r": {
     "delete_cmd_postfix": ") ",
     "delete_cmd_prefix": "rm(",
     "library": "var_list.r",
     "varRefreshCmd": "cat(var_dic_list()) "
    }
   },
   "types_to_exclude": [
    "module",
    "function",
    "builtin_function_or_method",
    "instance",
    "_Feature"
   ],
   "window_display": false
  }
 },
 "nbformat": 4,
 "nbformat_minor": 2
}
