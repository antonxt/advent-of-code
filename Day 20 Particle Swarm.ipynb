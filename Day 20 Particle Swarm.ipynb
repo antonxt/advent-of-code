{
 "cells": [
  {
   "cell_type": "markdown",
   "metadata": {},
   "source": [
    "## Part 1 - Closest to (0,0,0) in the long run"
   ]
  },
  {
   "cell_type": "code",
   "execution_count": 1,
   "metadata": {
    "ExecuteTime": {
     "end_time": "2017-12-20T12:02:57.003920Z",
     "start_time": "2017-12-20T12:02:56.928468Z"
    }
   },
   "outputs": [],
   "source": [
    "import numpy as np\n",
    "def load(file_name):\n",
    "    '''Loads positions, velocities, and accelerations (as tuples of ints) from the file_name'''\n",
    "    file = open(file_name, 'r')\n",
    "    poss = []\n",
    "    vels = []\n",
    "    accs = []\n",
    "    for s in file:\n",
    "        poss.append(tuple(int(n) for n in s[s.find('p=<')+3:s.find('>, v=<')].split(',')))\n",
    "        vels.append(tuple(int(n) for n in s[s.find('v=<')+3:s.find('>, a=<')].split(',')))\n",
    "        accs.append(tuple(int(n) for n in s[s.find('a=<')+3:s.rfind('>')].split(',')))\n",
    "    return np.array(poss), np.array(vels), np.array(accs)"
   ]
  },
  {
   "cell_type": "code",
   "execution_count": 2,
   "metadata": {
    "ExecuteTime": {
     "end_time": "2017-12-20T12:02:57.022165Z",
     "start_time": "2017-12-20T12:02:57.005883Z"
    }
   },
   "outputs": [
    {
     "name": "stdout",
     "output_type": "stream",
     "text": [
      "Answer to part 1 - particle whose acceleration is the lowest = [150]\n"
     ]
    }
   ],
   "source": [
    "poss, vels, accs = load('day20.txt')\n",
    "acc_mds = np.abs(accs).sum(axis=-1)  # Absolute values of accelerations of each particle\n",
    "min_abs_acc = np.where(acc_mds == acc_mds.min())[0]  # Array of indexes with absolute acceleration = min\n",
    "# If there were more than 1 such particles - initial velocity should have been considered.\n",
    "print('Answer to part 1 - particle whose acceleration is the lowest = {}'.format(min_abs_acc))"
   ]
  },
  {
   "cell_type": "code",
   "execution_count": null,
   "metadata": {},
   "outputs": [],
   "source": []
  }
 ],
 "metadata": {
  "kernelspec": {
   "display_name": "Python 3",
   "language": "python",
   "name": "python3"
  },
  "language_info": {
   "codemirror_mode": {
    "name": "ipython",
    "version": 3
   },
   "file_extension": ".py",
   "mimetype": "text/x-python",
   "name": "python",
   "nbconvert_exporter": "python",
   "pygments_lexer": "ipython3",
   "version": "3.6.3"
  },
  "toc": {
   "nav_menu": {},
   "number_sections": true,
   "sideBar": true,
   "skip_h1_title": false,
   "toc_cell": false,
   "toc_position": {},
   "toc_section_display": "block",
   "toc_window_display": false
  },
  "varInspector": {
   "cols": {
    "lenName": 16,
    "lenType": 16,
    "lenVar": 40
   },
   "kernels_config": {
    "python": {
     "delete_cmd_postfix": "",
     "delete_cmd_prefix": "del ",
     "library": "var_list.py",
     "varRefreshCmd": "print(var_dic_list())"
    },
    "r": {
     "delete_cmd_postfix": ") ",
     "delete_cmd_prefix": "rm(",
     "library": "var_list.r",
     "varRefreshCmd": "cat(var_dic_list()) "
    }
   },
   "types_to_exclude": [
    "module",
    "function",
    "builtin_function_or_method",
    "instance",
    "_Feature"
   ],
   "window_display": false
  }
 },
 "nbformat": 4,
 "nbformat_minor": 2
}
