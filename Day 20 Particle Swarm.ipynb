{
 "cells": [
  {
   "cell_type": "markdown",
   "metadata": {},
   "source": [
    "## Part 1 - Closest to (0,0,0) in the long run"
   ]
  },
  {
   "cell_type": "code",
   "execution_count": 1,
   "metadata": {
    "ExecuteTime": {
     "end_time": "2017-12-21T12:15:59.157935Z",
     "start_time": "2017-12-21T12:15:59.081683Z"
    }
   },
   "outputs": [],
   "source": [
    "import numpy as np\n",
    "def load(file_name):\n",
    "    '''Loads positions, velocities, and accelerations (as tuples of ints) from the file_name'''\n",
    "    file = open(file_name, 'r')\n",
    "    poss = []\n",
    "    vels = []\n",
    "    accs = []\n",
    "    for s in file:\n",
    "        poss.append(tuple(int(n) for n in s[s.find('p=<')+3:s.find('>, v=<')].split(',')))\n",
    "        vels.append(tuple(int(n) for n in s[s.find('v=<')+3:s.find('>, a=<')].split(',')))\n",
    "        accs.append(tuple(int(n) for n in s[s.find('a=<')+3:s.rfind('>')].split(',')))\n",
    "    return np.array(poss), np.array(vels), np.array(accs)"
   ]
  },
  {
   "cell_type": "code",
   "execution_count": 2,
   "metadata": {
    "ExecuteTime": {
     "end_time": "2017-12-21T12:15:59.178575Z",
     "start_time": "2017-12-21T12:15:59.160034Z"
    }
   },
   "outputs": [
    {
     "name": "stdout",
     "output_type": "stream",
     "text": [
      "Answer to part 1 - particle whose acceleration is the lowest = [150]\n"
     ]
    }
   ],
   "source": [
    "poss, vels, accs = load('in/day20.txt')\n",
    "acc_mds = np.abs(accs).sum(axis=-1)  # Absolute values of accelerations of each particle\n",
    "min_abs_acc = np.where(acc_mds == acc_mds.min())[0]  # Array of indexes with absolute acceleration = min\n",
    "# If there were more than 1 such particles - initial velocity should have been considered.\n",
    "print('Answer to part 1 - particle whose acceleration is the lowest = {}'.format(min_abs_acc))"
   ]
  },
  {
   "cell_type": "markdown",
   "metadata": {},
   "source": [
    "## Part 2 - How many particles collided?"
   ]
  },
  {
   "cell_type": "code",
   "execution_count": 3,
   "metadata": {
    "ExecuteTime": {
     "end_time": "2017-12-21T12:15:59.496625Z",
     "start_time": "2017-12-21T12:15:59.180845Z"
    }
   },
   "outputs": [
    {
     "name": "stdout",
     "output_type": "stream",
     "text": [
      "Starting similation with 1000 particles\n",
      "t = 10, after collisions remain 979 particles\n",
      "t = 11, after collisions remain 972 particles\n",
      "t = 12, after collisions remain 956 particles\n",
      "t = 13, after collisions remain 948 particles\n",
      "t = 14, after collisions remain 933 particles\n",
      "t = 16, after collisions remain 921 particles\n",
      "t = 17, after collisions remain 896 particles\n",
      "t = 18, after collisions remain 881 particles\n",
      "t = 20, after collisions remain 864 particles\n",
      "t = 21, after collisions remain 840 particles\n",
      "t = 23, after collisions remain 831 particles\n",
      "t = 24, after collisions remain 820 particles\n",
      "t = 25, after collisions remain 797 particles\n",
      "t = 26, after collisions remain 780 particles\n",
      "t = 27, after collisions remain 767 particles\n",
      "t = 28, after collisions remain 754 particles\n",
      "t = 29, after collisions remain 745 particles\n",
      "t = 30, after collisions remain 733 particles\n",
      "t = 31, after collisions remain 728 particles\n",
      "t = 33, after collisions remain 716 particles\n",
      "t = 34, after collisions remain 707 particles\n",
      "t = 36, after collisions remain 691 particles\n",
      "t = 37, after collisions remain 676 particles\n",
      "t = 38, after collisions remain 673 particles\n",
      "t = 39, after collisions remain 644 particles\n",
      "----------\n",
      "Part 2 answer: 644\n"
     ]
    }
   ],
   "source": [
    "p, v, a = np.array(poss), np.array(vels), np.array(accs)\n",
    "print('Starting similation with {} particles'.format(len(p)))\n",
    "from mpl_toolkits.mplot3d import Axes3D \n",
    "import matplotlib.pyplot as plt\n",
    "for t in range(100):\n",
    "    #print('t = {}, {}, {}, {}'.format(t, p[-1], v[-1], a[-1]))\n",
    "    unique, counts = np.unique(p, axis=0, return_counts=True)\n",
    "    collision_mask = counts > 1\n",
    "    if True in collision_mask:  # Collisions (non-unique positions) found\n",
    "        collision_poss = unique[collision_mask]  # Duplicated positions (collisions) to be removed\n",
    "        collision_idx = [i for i in range(len(p)) if p[i] in collision_poss]\n",
    "        #print('----------\\nt = {}, particles count = {}, collisions: {}, collision positions:\\n{}'.format(\n",
    "            #t, len(p), len(collision_idx), p[collision_idx]))\n",
    "        #fig = plt.figure()\n",
    "        #ax = fig.add_subplot(111, projection='3d') \n",
    "        #ax.scatter(p[:,0], p[:,1], p[:,2], s=1, c=\"g\", marker=\"o\")\n",
    "        #ax.scatter(collision_poss[:,0], collision_poss[:,1], collision_poss[:,2], s=50, c=\"r\", marker=\"o\")\n",
    "        #ax.view_init(azim=180, elev=10)\n",
    "        plt.show()\n",
    "\n",
    "        p = np.delete(p, collision_idx, axis=0)\n",
    "        v = np.delete(v, collision_idx, axis=0)\n",
    "        a = np.delete(a, collision_idx, axis=0)\n",
    "        print('t = {}, after collisions remain {} particles'.format(t, len(p)))\n",
    "    v += a\n",
    "    p += v\n",
    "print('----------\\nPart 2 answer: {}'.format(len(p)))"
   ]
  },
  {
   "cell_type": "markdown",
   "metadata": {},
   "source": [
    "### Part 2 answers\n",
    "Too high: `772`.\n",
    "\n",
    "Incorrect: `644`, `663`.\n",
    "\n",
    "Correct: `657`"
   ]
  },
  {
   "cell_type": "markdown",
   "metadata": {},
   "source": [
    "# Someone elses' solution\n",
    "[Here](https://gist.github.com/GlenboLake/91fa9b990e46b6b624704e9a1c7495c8)"
   ]
  },
  {
   "cell_type": "code",
   "execution_count": 4,
   "metadata": {
    "ExecuteTime": {
     "end_time": "2017-12-21T12:16:06.735520Z",
     "start_time": "2017-12-21T12:15:59.498472Z"
    }
   },
   "outputs": [
    {
     "name": "stdout",
     "output_type": "stream",
     "text": [
      "Part 1: 150\n",
      "Part 2: 657\n",
      "Took 6.849648952484131s\n"
     ]
    }
   ],
   "source": [
    "import re\n",
    "from cmath import sqrt\n",
    "from collections import defaultdict, namedtuple\n",
    "from functools import reduce\n",
    "from itertools import combinations\n",
    "from time import time\n",
    "\n",
    "Particle = namedtuple('Particle', ['pos', 'vel', 'acc'])\n",
    "\n",
    "def parse_particle(line):\n",
    "    pos_match = re.search('p=<(-?\\d+),(-?\\d+),(-?\\d+)>', line)\n",
    "    position = (int(pos_match.group(1)), int(pos_match.group(2)), int(pos_match.group(3)))\n",
    "    vel_match = re.search('v=<(-?\\d+),(-?\\d+),(-?\\d+)>', line)\n",
    "    velocity = (int(vel_match.group(1)), int(vel_match.group(2)), int(vel_match.group(3)))\n",
    "    acc_match = re.search('a=<(-?\\d+),(-?\\d+),(-?\\d+)>', line)\n",
    "    acceleration = (int(acc_match.group(1)), int(acc_match.group(2)), int(acc_match.group(3)))\n",
    "    return Particle(position, velocity, acceleration)\n",
    "\n",
    "def particle_at(particle, t):\n",
    "    x = particle.pos[0] + particle.vel[0] * t + particle.acc[0] * t * (t + 1) // 2\n",
    "    y = particle.pos[1] + particle.vel[1] * t + particle.acc[1] * t * (t + 1) // 2\n",
    "    z = particle.pos[2] + particle.vel[2] * t + particle.acc[2] * t * (t + 1) // 2\n",
    "    return x, y, z\n",
    "\n",
    "def manhattan(point):\n",
    "    return sum(map(abs, point))\n",
    "\n",
    "def part1(particles):\n",
    "    max_accel = max(sum(map(abs, p.acc)) for p in particles)\n",
    "    return particles.index(min(particles, key=lambda p: manhattan(particle_at(p, 100 * max_accel))))\n",
    "\n",
    "def will_collide(p1, p2):\n",
    "    def is_int(c):\n",
    "        return c.imag == 0 and (isinstance(c.real, int) or c.real.is_integer())\n",
    "\n",
    "    def solve_quadratic(a, b, c):\n",
    "        solutions = None\n",
    "        if a:\n",
    "            solutions = {(-b - sqrt(b ** 2 - 4 * a * c)) / (2 * a), (-b + sqrt(b ** 2 - 4 * a * c)) / (2 * a)}\n",
    "        elif b:\n",
    "            solutions = {-c / b}\n",
    "        elif c:\n",
    "            solutions = {c}\n",
    "        if solutions is not None:\n",
    "            solutions = set(map(lambda x: int(x.real), filter(is_int, solutions)))\n",
    "        return solutions\n",
    "\n",
    "    diff = Particle(tuple(a - b for a, b in zip(p1.pos, p2.pos)),\n",
    "                    tuple(a - b for a, b in zip(p1.vel, p2.vel)),\n",
    "                    tuple(a - b for a, b in zip(p1.acc, p2.acc)))\n",
    "    tuples = [\n",
    "        (diff.acc[0], diff.vel[0], diff.pos[0]),\n",
    "        (diff.acc[1], diff.vel[1], diff.pos[1]),\n",
    "        (diff.acc[2], diff.vel[2], diff.pos[2]),\n",
    "    ]\n",
    "    solutions = reduce(lambda a, b: a & b,\n",
    "                       filter(lambda s: s is not None,\n",
    "                              [solve_quadratic(a / 2, v + a / 2, p) for a, v, p in tuples]))\n",
    "\n",
    "    if solutions:\n",
    "        return min(s for s in solutions if s > 0)\n",
    "    return None\n",
    "\n",
    "def pairs_to_sets(data):\n",
    "    items = {a for a, b in data} | {b for a, b in data}\n",
    "    sets = []\n",
    "    seen = set()\n",
    "    for item in items:\n",
    "        if item in seen:\n",
    "            continue\n",
    "        new_set = set()\n",
    "        seen.add(item)\n",
    "        for pair in data:\n",
    "            if item in pair:\n",
    "                seen.update(set(pair))\n",
    "                new_set.update(set(pair))\n",
    "        sets.append(new_set)\n",
    "    return sets\n",
    "\n",
    "def part2(particles):\n",
    "    collisions = defaultdict(list)\n",
    "    for a, b in combinations(particles, 2):\n",
    "        t = will_collide(a, b)\n",
    "        if t is not None:\n",
    "            collisions[t].append({a, b})\n",
    "    collisions = {k: pairs_to_sets(v) for k, v in collisions.items()}\n",
    "    remaining = set(particles)\n",
    "    for t, splosions in sorted(collisions.items()):\n",
    "        for s in splosions:\n",
    "            if len(remaining & s) > 1:\n",
    "                remaining -= s\n",
    "    return len(remaining)\n",
    "\n",
    "if __name__ == '__main__':\n",
    "    particles = [parse_particle(line) for line in open('in/day20.txt')]\n",
    "\n",
    "    start = time()\n",
    "    print('Part 1:', part1(particles))\n",
    "    print('Part 2:', part2(particles))\n",
    "    print(f'Took {time()-start}s')"
   ]
  },
  {
   "cell_type": "code",
   "execution_count": null,
   "metadata": {},
   "outputs": [],
   "source": []
  }
 ],
 "metadata": {
  "kernelspec": {
   "display_name": "Python 3",
   "language": "python",
   "name": "python3"
  },
  "language_info": {
   "codemirror_mode": {
    "name": "ipython",
    "version": 3
   },
   "file_extension": ".py",
   "mimetype": "text/x-python",
   "name": "python",
   "nbconvert_exporter": "python",
   "pygments_lexer": "ipython3",
   "version": "3.6.3"
  },
  "toc": {
   "nav_menu": {},
   "number_sections": false,
   "sideBar": true,
   "skip_h1_title": false,
   "toc_cell": false,
   "toc_position": {},
   "toc_section_display": "none",
   "toc_window_display": false
  },
  "varInspector": {
   "cols": {
    "lenName": 16,
    "lenType": 16,
    "lenVar": 40
   },
   "kernels_config": {
    "python": {
     "delete_cmd_postfix": "",
     "delete_cmd_prefix": "del ",
     "library": "var_list.py",
     "varRefreshCmd": "print(var_dic_list())"
    },
    "r": {
     "delete_cmd_postfix": ") ",
     "delete_cmd_prefix": "rm(",
     "library": "var_list.r",
     "varRefreshCmd": "cat(var_dic_list()) "
    }
   },
   "types_to_exclude": [
    "module",
    "function",
    "builtin_function_or_method",
    "instance",
    "_Feature"
   ],
   "window_display": false
  }
 },
 "nbformat": 4,
 "nbformat_minor": 2
}
