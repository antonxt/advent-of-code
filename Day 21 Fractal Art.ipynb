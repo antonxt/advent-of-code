{
 "cells": [
  {
   "cell_type": "markdown",
   "metadata": {},
   "source": [
    "## Part 1\n",
    "How many pixels stay on after `5` iterations?"
   ]
  },
  {
   "cell_type": "code",
   "execution_count": 53,
   "metadata": {
    "ExecuteTime": {
     "end_time": "2017-12-21T13:09:51.773407Z",
     "start_time": "2017-12-21T13:09:51.662240Z"
    }
   },
   "outputs": [],
   "source": [
    "def row_to_img(one_row_img):\n",
    "    return tuple(one_row_img.split('/'))\n",
    "\n",
    "\n",
    "def rotate(img):\n",
    "    '''Rotates img clockwise'''\n",
    "    si, sj, rot = len(img), len(img[0]), []\n",
    "    for j in range(sj):\n",
    "        row = []\n",
    "        for i in range(si):\n",
    "            row.append(img[si - 1 - i][j])\n",
    "        rot.append(''.join(row))\n",
    "    return tuple(rot)\n",
    "\n",
    "\n",
    "def flip_h(img):\n",
    "    si, sj, flp = len(img), len(img[0]), []\n",
    "    for i in range(si):\n",
    "        row = []\n",
    "        for j in range(sj):\n",
    "            row.append(img[i][sj - 1 - j])\n",
    "        flp.append(''.join(row))\n",
    "    return tuple(flp)\n",
    "\n",
    "\n",
    "def prn(img):\n",
    "    print()\n",
    "    print('\\n'.join(img))\n",
    "\n",
    "\n",
    "test, rotated = row_to_img('##./#.#/#../#..'), row_to_img('####/...#/..#.')\n",
    "flipped_h = row_to_img('.##/#.#/..#/..#')\n",
    "assert rotated == rotate(test), flipped_h == flip_h(test)\n",
    "\n",
    "\n",
    "def permutations(img):\n",
    "    return {\n",
    "        img,\n",
    "        flip_h(img),\n",
    "        rotate(img),\n",
    "        flip_h(rotate(img)),\n",
    "        rotate(rotate(img)),\n",
    "        flip_h(rotate(rotate(img))),\n",
    "        rotate(rotate(rotate(img))),\n",
    "        flip_h(rotate(rotate(rotate(img))))\n",
    "    }\n",
    "\n",
    "\n",
    "assert len(permutatinos(test)) == 8  # Must be 8 unique permitations\n",
    "\n",
    "def parse_rules(lines):\n",
    "    rules = {}\n",
    "    for line in lines:\n",
    "        if line.endswith('\\n'):\n",
    "            line = line[:-1]\n",
    "        in_, out = line.split(' => ')\n",
    "        in_img = row_to_img(in_)\n",
    "        out_img = row_to_img(out)\n",
    "        for in_permutation in permutatinos(in_img):\n",
    "            rules[in_permutation] = out_img\n",
    "    return rules\n",
    "\n",
    "test_rules = parse_rules('../.# => ##./#../...,.#./..#/### => #..#/..../..../#..#'.split(','))\n",
    "puzzle_rules = parse_rules(list(open('in/day21.txt', 'r')))\n",
    "\n",
    "INIT = row_to_img('.#./..#/###')\n",
    "\n",
    "def iteration(img):\n",
    "    "
   ]
  },
  {
   "cell_type": "code",
   "execution_count": null,
   "metadata": {},
   "outputs": [],
   "source": []
  },
  {
   "cell_type": "code",
   "execution_count": null,
   "metadata": {},
   "outputs": [],
   "source": []
  }
 ],
 "metadata": {
  "kernelspec": {
   "display_name": "Python 3",
   "language": "python",
   "name": "python3"
  },
  "language_info": {
   "codemirror_mode": {
    "name": "ipython",
    "version": 3
   },
   "file_extension": ".py",
   "mimetype": "text/x-python",
   "name": "python",
   "nbconvert_exporter": "python",
   "pygments_lexer": "ipython3",
   "version": "3.6.3"
  },
  "toc": {
   "nav_menu": {},
   "number_sections": false,
   "sideBar": true,
   "skip_h1_title": false,
   "toc_cell": false,
   "toc_position": {},
   "toc_section_display": "block",
   "toc_window_display": false
  },
  "varInspector": {
   "cols": {
    "lenName": 16,
    "lenType": 16,
    "lenVar": 40
   },
   "kernels_config": {
    "python": {
     "delete_cmd_postfix": "",
     "delete_cmd_prefix": "del ",
     "library": "var_list.py",
     "varRefreshCmd": "print(var_dic_list())"
    },
    "r": {
     "delete_cmd_postfix": ") ",
     "delete_cmd_prefix": "rm(",
     "library": "var_list.r",
     "varRefreshCmd": "cat(var_dic_list()) "
    }
   },
   "types_to_exclude": [
    "module",
    "function",
    "builtin_function_or_method",
    "instance",
    "_Feature"
   ],
   "window_display": false
  }
 },
 "nbformat": 4,
 "nbformat_minor": 2
}
