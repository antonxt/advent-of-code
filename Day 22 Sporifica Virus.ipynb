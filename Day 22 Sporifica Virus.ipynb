{
 "cells": [
  {
   "cell_type": "markdown",
   "metadata": {},
   "source": [
    "## Part 1\n",
    "Given your actual map, after `10000` bursts of activity, **how many bursts cause a node to become infected**? Do not count nodes that begin infected."
   ]
  },
  {
   "cell_type": "markdown",
   "metadata": {},
   "source": [
    "### Grid class"
   ]
  },
  {
   "cell_type": "code",
   "execution_count": 1,
   "metadata": {
    "ExecuteTime": {
     "end_time": "2017-12-23T23:28:27.175383Z",
     "start_time": "2017-12-23T23:28:26.942297Z"
    }
   },
   "outputs": [],
   "source": [
    "class Grid(object):\n",
    "    def __init__(self, map_):\n",
    "        self._grid = {}\n",
    "        i, j_start = -(len(map_) // 2), -(len(map_[0]) // 2)\n",
    "        for row in map_:\n",
    "            j = j_start\n",
    "            for c in row:\n",
    "                self.set_node(c, (i, j))\n",
    "                j += 1\n",
    "            i += 1\n",
    "        self._direction = (-1, 0)  # Up\n",
    "        self._position = (0, 0)\n",
    "        self._bursts, self._got_infected = 0, 0\n",
    "\n",
    "    def get_node(self, position=None):\n",
    "        if position is None:\n",
    "            position = self._position\n",
    "        if position not in self._grid:\n",
    "            self._grid[position] = '.'\n",
    "        return self._grid[position]\n",
    "\n",
    "    def set_node(self, state, position=None):\n",
    "        if position is None:\n",
    "            position = self._position\n",
    "        self._grid[position] = state\n",
    "\n",
    "    DIR_STR = {(-1, 0): '↑', (0, 1): '>', (1, 0): '↓', (0, -1): '<'}\n",
    "\n",
    "    def __str__(self):\n",
    "        i_coords = set([pos[0] for pos in self._grid.keys()])\n",
    "        j_coords = set([pos[1] for pos in self._grid.keys()])\n",
    "        si, ei, sj, ej = min(i_coords), max(i_coords), min(j_coords), max(\n",
    "            j_coords)\n",
    "        pprint = []\n",
    "        for i in range(si, ei + 1):\n",
    "            row = []\n",
    "            for j in range(sj, ej + 1):\n",
    "                pos = (i, j)\n",
    "                show_arrow = pos == self._position\n",
    "                d_char = Grid.DIR_STR[self._direction] if show_arrow else ' '\n",
    "                char = self.get_node(pos)\n",
    "                row.append(f'{d_char}{char}{d_char}')\n",
    "            pprint.append(''.join(row))\n",
    "        return f'After burst #{self._bursts:02}, {self._got_infected} got infected.\\n' + '\\n'.join(\n",
    "            pprint)\n",
    "\n",
    "    R_TURNS = {(-1, 0): (0, 1), (0, 1): (1, 0), (1, 0): (0, -1), (0, -1): (-1, 0)}\n",
    "\n",
    "    def turn_r(self):\n",
    "        self._direction = self.R_TURNS[self._direction]\n",
    "\n",
    "    L_TURNS = {value: key for key, value in R_TURNS.items()}\n",
    "\n",
    "    def turn_l(self):\n",
    "        self._direction = self.L_TURNS[self._direction]\n",
    "\n",
    "    def move(self):\n",
    "        self._bursts += 1\n",
    "        self._position = (self._position[0] + self._direction[0],\n",
    "                          self._position[1] + self._direction[1])\n",
    "\n",
    "    def burst(self, iterations=1, debug=False):\n",
    "        for i in range(iterations):\n",
    "            if self.get_node() == '.':  # Clean\n",
    "                self.turn_l()\n",
    "                self.set_infected()\n",
    "            else:  # Infected\n",
    "                self.turn_r()\n",
    "                self.set_clean()\n",
    "            self.move()\n",
    "            if debug:\n",
    "                print(self)\n",
    "\n",
    "    def set_infected(self):\n",
    "        self.set_node('#')\n",
    "        self._got_infected += 1\n",
    "\n",
    "    def set_clean(self):\n",
    "        self.set_node('.')"
   ]
  },
  {
   "cell_type": "markdown",
   "metadata": {},
   "source": [
    "### Testing"
   ]
  },
  {
   "cell_type": "code",
   "execution_count": 2,
   "metadata": {
    "ExecuteTime": {
     "end_time": "2017-12-23T23:28:27.186970Z",
     "start_time": "2017-12-23T23:28:27.177503Z"
    }
   },
   "outputs": [
    {
     "name": "stdout",
     "output_type": "stream",
     "text": [
      "After burst #07, 5 got infected.\n",
      " #  . >.> # \n",
      " #  #  #  . \n",
      " .  .  .  . \n",
      "After burst #70, 41 got infected.\n",
      " .  .  .  #  #  .  . \n",
      " .  .  #  .  .  #  . \n",
      " .  #  .  .  .  .  # \n",
      " #  .  # ↑.↑ .  .  # \n",
      " #  .  #  .  .  #  . \n",
      " .  .  .  #  #  .  . \n"
     ]
    }
   ],
   "source": [
    "def assert_grid(grid, got_infected):\n",
    "    message = f'Expected got infected = {got_infected}, got {grid._got_infected}'\n",
    "    assert grid._got_infected == got_infected, message\n",
    "\n",
    "test_in = '..#/#../...'.split('/')\n",
    "grid = Grid(test_in)\n",
    "grid.burst(7)\n",
    "print(grid)\n",
    "assert_grid(grid, 5)\n",
    "\n",
    "grid.burst(70 - 7)\n",
    "print(grid)\n",
    "assert_grid(grid, 41)"
   ]
  },
  {
   "cell_type": "markdown",
   "metadata": {},
   "source": [
    "### Processing puzzle input"
   ]
  },
  {
   "cell_type": "code",
   "execution_count": 3,
   "metadata": {
    "ExecuteTime": {
     "end_time": "2017-12-23T23:28:27.216536Z",
     "start_time": "2017-12-23T23:28:27.189475Z"
    }
   },
   "outputs": [
    {
     "name": "stdout",
     "output_type": "stream",
     "text": [
      "Part 1 answer is: 5433 got infected after 10K bursts\n"
     ]
    }
   ],
   "source": [
    "puzzle_in = [line[:-1] for line in open('in/day22.txt', 'r')]\n",
    "grid = Grid(puzzle_in)\n",
    "grid.burst(10000)\n",
    "print(f'Part 1 answer is: {grid._got_infected} got infected after 10K bursts')\n",
    "assert_grid(grid, 5433)"
   ]
  },
  {
   "cell_type": "markdown",
   "metadata": {},
   "source": [
    "## Part 2 - Evolved virus"
   ]
  },
  {
   "cell_type": "markdown",
   "metadata": {},
   "source": [
    "### Evolved class"
   ]
  },
  {
   "cell_type": "code",
   "execution_count": 4,
   "metadata": {
    "ExecuteTime": {
     "end_time": "2017-12-23T23:28:27.263095Z",
     "start_time": "2017-12-23T23:28:27.218642Z"
    }
   },
   "outputs": [],
   "source": [
    "class Evolved(Grid):\n",
    "    REV_TURNS = {\n",
    "        (-1, 0): (1, 0),\n",
    "        (0, 1): (0, -1),\n",
    "        (1, 0): (-1, 0),\n",
    "        (0, -1): (0, 1)\n",
    "    }\n",
    "\n",
    "    def turn_reverse(self):\n",
    "        self._direction = self.REV_TURNS[self._direction]\n",
    "\n",
    "    NEXT_STATES = {'.': 'W', 'W': '#', '#': 'F', 'F': '.'}\n",
    "\n",
    "    def burst(self, iterations=1, debug=False):\n",
    "        for i in range(iterations):\n",
    "            state = self.get_node()\n",
    "            if state == '.':  # Clean\n",
    "                super(Evolved, self).turn_l()\n",
    "                self.set_node('W')\n",
    "            elif state == 'W':  # Weakened\n",
    "                self.set_infected()\n",
    "            elif state == '#':  # Infected\n",
    "                super(Evolved, self).turn_r()\n",
    "                self.set_node('F')\n",
    "            elif state == 'F':  # Flagged\n",
    "                self.turn_reverse()\n",
    "                self.set_clean()\n",
    "\n",
    "            self.move()\n",
    "            self.get_node()\n",
    "            if debug:\n",
    "                print(self)"
   ]
  },
  {
   "cell_type": "markdown",
   "metadata": {},
   "source": [
    "### Testing"
   ]
  },
  {
   "cell_type": "code",
   "execution_count": 5,
   "metadata": {
    "ExecuteTime": {
     "end_time": "2017-12-23T23:28:48.418591Z",
     "start_time": "2017-12-23T23:28:27.265602Z"
    }
   },
   "outputs": [],
   "source": [
    "evolved = Evolved(test_in)\n",
    "evolved.burst(7)\n",
    "evolved.burst(100-7)\n",
    "assert_grid(evolved, 26)\n",
    "\n",
    "evolved = Evolved(test_in)\n",
    "evolved.burst(10000000)\n",
    "assert_grid(evolved, 2511944)"
   ]
  },
  {
   "cell_type": "markdown",
   "metadata": {},
   "source": [
    "### Processing puzzle input"
   ]
  },
  {
   "cell_type": "code",
   "execution_count": 6,
   "metadata": {
    "ExecuteTime": {
     "end_time": "2017-12-23T23:29:09.192623Z",
     "start_time": "2017-12-23T23:28:48.420341Z"
    }
   },
   "outputs": [
    {
     "name": "stdout",
     "output_type": "stream",
     "text": [
      "Part 2 answer is: 2512599 got infected after 10M bursts\n"
     ]
    }
   ],
   "source": [
    "evolved = Evolved(puzzle_in)\n",
    "evolved.burst(10000000)\n",
    "print(f'Part 2 answer is: {evolved._got_infected} got infected after 10M bursts')\n",
    "assert_grid(evolved, 2512599)"
   ]
  }
 ],
 "metadata": {
  "kernelspec": {
   "display_name": "Python 3",
   "language": "python",
   "name": "python3"
  },
  "language_info": {
   "codemirror_mode": {
    "name": "ipython",
    "version": 3
   },
   "file_extension": ".py",
   "mimetype": "text/x-python",
   "name": "python",
   "nbconvert_exporter": "python",
   "pygments_lexer": "ipython3",
   "version": "3.6.3"
  },
  "toc": {
   "nav_menu": {},
   "number_sections": false,
   "sideBar": true,
   "skip_h1_title": false,
   "toc_cell": false,
   "toc_position": {},
   "toc_section_display": "block",
   "toc_window_display": false
  },
  "varInspector": {
   "cols": {
    "lenName": 16,
    "lenType": 16,
    "lenVar": 40
   },
   "kernels_config": {
    "python": {
     "delete_cmd_postfix": "",
     "delete_cmd_prefix": "del ",
     "library": "var_list.py",
     "varRefreshCmd": "print(var_dic_list())"
    },
    "r": {
     "delete_cmd_postfix": ") ",
     "delete_cmd_prefix": "rm(",
     "library": "var_list.r",
     "varRefreshCmd": "cat(var_dic_list()) "
    }
   },
   "types_to_exclude": [
    "module",
    "function",
    "builtin_function_or_method",
    "instance",
    "_Feature"
   ],
   "window_display": false
  }
 },
 "nbformat": 4,
 "nbformat_minor": 2
}
