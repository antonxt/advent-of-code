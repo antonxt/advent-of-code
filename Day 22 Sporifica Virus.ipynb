{
 "cells": [
  {
   "cell_type": "markdown",
   "metadata": {},
   "source": [
    "## Part 1\n",
    "Given your actual map, after `10000` bursts of activity, **how many bursts cause a node to become infected**? Do not count nodes that begin infected."
   ]
  },
  {
   "cell_type": "markdown",
   "metadata": {},
   "source": [
    "### Grid class"
   ]
  },
  {
   "cell_type": "code",
   "execution_count": 1,
   "metadata": {
    "ExecuteTime": {
     "end_time": "2017-12-23T22:27:38.251038Z",
     "start_time": "2017-12-23T22:27:38.099080Z"
    }
   },
   "outputs": [],
   "source": [
    "class Grid(object):\n",
    "    def __init__(self, map_):\n",
    "        self._grid = {}\n",
    "        i, j_start = -(len(map_) // 2), -(len(map_[0]) // 2)\n",
    "        for row in map_:\n",
    "            j = j_start\n",
    "            for c in row:\n",
    "                self.set_node(c == '#', (i, j))\n",
    "                j += 1\n",
    "            i += 1\n",
    "        self._direction = (-1, 0)  # Up\n",
    "        self._position = (0, 0)\n",
    "        self._bursts, self._got_infected = 0, 0\n",
    "\n",
    "    def get_node(self, position=None):\n",
    "        if position is None:\n",
    "            position = self._position\n",
    "        if position not in self._grid:\n",
    "            self._grid[position] = False\n",
    "        return self._grid[position]\n",
    "\n",
    "    def set_node(self, infected, position=None):\n",
    "        if position is None:\n",
    "            position = self._position\n",
    "        self._grid[position] = infected\n",
    "\n",
    "    DIR_STR = {(-1, 0): '↑', (0, 1): '>', (1, 0): '↓', (0, -1): '<'}\n",
    "    TURNS_CW = ((-1, 0), (0, 1), (1, 0), (0, -1))\n",
    "\n",
    "    def __str__(self):\n",
    "        i_coords = set([pos[0] for pos in self._grid.keys()])\n",
    "        j_coords = set([pos[1] for pos in self._grid.keys()])\n",
    "        si, ei, sj, ej = min(i_coords), max(i_coords), min(j_coords), max(\n",
    "            j_coords)\n",
    "        pprint = []\n",
    "        for i in range(si, ei + 1):\n",
    "            row = []\n",
    "            for j in range(sj, ej + 1):\n",
    "                pos = (i, j)\n",
    "                show_arrow = pos == self._position\n",
    "                d_char = Grid.DIR_STR[self._direction] if show_arrow else ' '\n",
    "                char = '#' if self.get_node(pos) else '.'\n",
    "                row.append(f'{d_char}{char}{d_char}')\n",
    "            pprint.append(''.join(row))\n",
    "        return f'After burst #{self._bursts:02}, {self._got_infected} got infected.\\n' + '\\n'.join(pprint)\n",
    "\n",
    "    def burst(self, iterations=1, debug=False):\n",
    "        total_dirs = len(Grid.TURNS_CW)  # Total number of directions = 4\n",
    "        for i in range(iterations):            \n",
    "            # Turn clockwise if infected, counterclockwise otherwise\n",
    "            turn_direction = 1 if self.get_node() else -1\n",
    "            next_dir_index = Grid.TURNS_CW.index(self._direction) + total_dirs + turn_direction\n",
    "            self._direction = Grid.TURNS_CW[next_dir_index % total_dirs]\n",
    "            if not self.get_node():\n",
    "                self._got_infected += 1\n",
    "            self.set_node(not self.get_node())\n",
    "            self._position = (self._position[0] + self._direction[0], self._position[1] + self._direction[1])\n",
    "            self.get_node(self._position)\n",
    "            self._bursts += 1\n",
    "            if debug:\n",
    "                print(self)"
   ]
  },
  {
   "cell_type": "markdown",
   "metadata": {},
   "source": [
    "### Testing"
   ]
  },
  {
   "cell_type": "code",
   "execution_count": 2,
   "metadata": {
    "ExecuteTime": {
     "end_time": "2017-12-23T22:27:38.258645Z",
     "start_time": "2017-12-23T22:27:38.252781Z"
    }
   },
   "outputs": [
    {
     "name": "stdout",
     "output_type": "stream",
     "text": [
      "After burst #07, 5 got infected.\n",
      " #  . >.> # \n",
      " #  #  #  . \n",
      " .  .  .  . \n",
      "After burst #70, 41 got infected.\n",
      " .  .  .  #  #  .  . \n",
      " .  .  #  .  .  #  . \n",
      " .  #  .  .  .  .  # \n",
      " #  .  # ↑.↑ .  .  # \n",
      " #  .  #  .  .  #  . \n",
      " .  .  .  #  #  .  . \n"
     ]
    }
   ],
   "source": [
    "test_in = '..#/#../...'.split('/')\n",
    "grid = Grid(test_in)\n",
    "grid.burst(7)\n",
    "print(grid)\n",
    "assert grid._got_infected == 5, f'Expected got infected = 5, got {grid._got_infected}'\n",
    "grid.burst(70-7)\n",
    "print(grid)\n",
    "assert grid._got_infected == 41, f'Expected got infected = 41, got {grid._got_infected}'"
   ]
  },
  {
   "cell_type": "markdown",
   "metadata": {},
   "source": [
    "### Processing puzzle input"
   ]
  },
  {
   "cell_type": "code",
   "execution_count": 3,
   "metadata": {
    "ExecuteTime": {
     "end_time": "2017-12-23T22:27:38.296853Z",
     "start_time": "2017-12-23T22:27:38.260417Z"
    }
   },
   "outputs": [
    {
     "name": "stdout",
     "output_type": "stream",
     "text": [
      "Part 1 answer is: 5433 got infected after 10K bursts\n"
     ]
    }
   ],
   "source": [
    "puzzle_in = [line[:-1] for line in open('in/day22.txt', 'r')]\n",
    "grid = Grid(puzzle_in)\n",
    "grid.burst(10000)\n",
    "print(f'Part 1 answer is: {grid._got_infected} got infected after 10K bursts')"
   ]
  },
  {
   "cell_type": "code",
   "execution_count": null,
   "metadata": {},
   "outputs": [],
   "source": []
  }
 ],
 "metadata": {
  "kernelspec": {
   "display_name": "Python 3",
   "language": "python",
   "name": "python3"
  },
  "language_info": {
   "codemirror_mode": {
    "name": "ipython",
    "version": 3
   },
   "file_extension": ".py",
   "mimetype": "text/x-python",
   "name": "python",
   "nbconvert_exporter": "python",
   "pygments_lexer": "ipython3",
   "version": "3.6.3"
  },
  "toc": {
   "nav_menu": {},
   "number_sections": false,
   "sideBar": true,
   "skip_h1_title": false,
   "toc_cell": false,
   "toc_position": {},
   "toc_section_display": "block",
   "toc_window_display": false
  },
  "varInspector": {
   "cols": {
    "lenName": 16,
    "lenType": 16,
    "lenVar": 40
   },
   "kernels_config": {
    "python": {
     "delete_cmd_postfix": "",
     "delete_cmd_prefix": "del ",
     "library": "var_list.py",
     "varRefreshCmd": "print(var_dic_list())"
    },
    "r": {
     "delete_cmd_postfix": ") ",
     "delete_cmd_prefix": "rm(",
     "library": "var_list.r",
     "varRefreshCmd": "cat(var_dic_list()) "
    }
   },
   "types_to_exclude": [
    "module",
    "function",
    "builtin_function_or_method",
    "instance",
    "_Feature"
   ],
   "window_display": false
  }
 },
 "nbformat": 4,
 "nbformat_minor": 2
}
