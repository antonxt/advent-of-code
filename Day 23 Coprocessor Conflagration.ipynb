{
 "cells": [
  {
   "cell_type": "markdown",
   "metadata": {
    "run_control": {
     "marked": false
    }
   },
   "source": [
    "## Part 1\n",
    "How many times is the `mul` instruction invoked?\n",
    "\n",
    "- `set X Y` sets register `X` to the value of `Y`.\n",
    "- `sub X Y` decreases register `X` by the value of `Y`.\n",
    "- `mul X Y` sets register `X` to the result of multiplying the value contained in register `X` by the value of `Y`.\n",
    "- `jnz X Y` jumps with an offset of the value of `Y`, but only if the value of `X` is not zero. (An offset of `2` skips the next instruction, an offset of `-1` jumps to the previous instruction.)"
   ]
  },
  {
   "cell_type": "code",
   "execution_count": 22,
   "metadata": {
    "ExecuteTime": {
     "end_time": "2017-12-24T23:00:02.925476Z",
     "start_time": "2017-12-24T23:00:02.788636Z"
    },
    "cell_style": "center",
    "code_folding": [],
    "hide_input": false,
    "run_control": {
     "marked": false
    }
   },
   "outputs": [],
   "source": [
    "def parse(s):\n",
    "    try:\n",
    "        return int(s)\n",
    "    except ValueError:\n",
    "        return s\n",
    "\n",
    "class Processor():\n",
    "    def __init__(self, instructions):\n",
    "        self.registers = {chr(ord('a') + i): 0 for i in range(8)}\n",
    "        self.instructions, self.current_instruction, self.steps, self.mul_count = [], 0, 0, 0\n",
    "        for ins_s in instructions:\n",
    "            split = ins_s.split(' ')\n",
    "            self.instructions.append((split[0], parse(split[1]), parse(split[2])))\n",
    "\n",
    "    def __str__(self):\n",
    "        r_print = '\\n'.join([f'{register} = {value}' for register, value in self.registers.items()])\n",
    "        i_print_l = []\n",
    "        for i in range(len(self.instructions)):\n",
    "            i_print_l.append(f'{i:02}{\"*\" if i == self.current_instruction else \" \"}{str(self.instructions[i])}')\n",
    "        i_print = f'\\nInstructions (current = {self.current_instruction:02}):\\n' + '\\n'.join(i_print_l)\n",
    "        return f'Current step is {self.steps}, mul was called {self.mul_count} times\\n\\nRegisters:\\n{r_print}\\n{i_print}'\n",
    "\n",
    "    def step(self, debug=False):\n",
    "        cmd, x, y = self.instructions[self.current_instruction]\n",
    "        if cmd == 'set':\n",
    "            self.registers[x] = self.value_of(y)\n",
    "        elif cmd == 'sub':\n",
    "            self.registers[x] -= self.value_of(y)\n",
    "        elif cmd == 'mul':\n",
    "            self.registers[x] *= self.value_of(y)\n",
    "            self.mul_count += 1\n",
    "        elif cmd == 'jnz':\n",
    "            if self.value_of(x) != 0:\n",
    "                if debug:\n",
    "                    i = self.instructions[self.current_instruction]\n",
    "                    i = f'{i[0]} {i[1]} {i[2]}'.ljust(12)\n",
    "                    print(f'{self.steps+1:02} #{self.current_instruction:02} {i} {self.registers}')\n",
    "                self.current_instruction += self.value_of(y)\n",
    "                self.steps += 1\n",
    "                return\n",
    "        else:\n",
    "            raise ValueException(f'No such command: {cmd}')\n",
    "        if debug:\n",
    "            i = self.instructions[self.current_instruction]\n",
    "            i = f'{i[0]} {i[1]} {i[2]}'.ljust(12)\n",
    "            print(f'{self.steps+1:02} #{self.current_instruction:02} {i} {self.registers}')\n",
    "        self.current_instruction += 1\n",
    "        self.steps += 1\n",
    "\n",
    "    def value_of(self, y):\n",
    "        return y if isinstance(y, int) else self.registers[y]\n",
    "\n",
    "    def run(self, max_steps=10000):\n",
    "        for i in range(max_steps):\n",
    "            if self.current_instruction > len(self.instructions) - 1:\n",
    "                return\n",
    "            self.step()\n",
    "        raise Exception(f'Execution have not ended after {self.steps} steps.')"
   ]
  },
  {
   "cell_type": "code",
   "execution_count": 23,
   "metadata": {
    "ExecuteTime": {
     "end_time": "2017-12-24T23:00:02.999125Z",
     "start_time": "2017-12-24T23:00:02.927353Z"
    },
    "run_control": {
     "marked": false
    }
   },
   "outputs": [
    {
     "name": "stdout",
     "output_type": "stream",
     "text": [
      "Part 1 answer is: `mul` was called 6724 times\n"
     ]
    }
   ],
   "source": [
    "puzzle_in = [line[:-1] for line in open('in/day23.txt', 'r')]\n",
    "proc = Processor(puzzle_in)\n",
    "proc.run(100000)\n",
    "print(f'Part 1 answer is: `mul` was called {proc.mul_count} times')\n",
    "assert proc.mul_count == 6724"
   ]
  },
  {
   "cell_type": "code",
   "execution_count": null,
   "metadata": {},
   "outputs": [],
   "source": []
  }
 ],
 "metadata": {
  "kernelspec": {
   "display_name": "Python 3",
   "language": "python",
   "name": "python3"
  },
  "language_info": {
   "codemirror_mode": {
    "name": "ipython",
    "version": 3
   },
   "file_extension": ".py",
   "mimetype": "text/x-python",
   "name": "python",
   "nbconvert_exporter": "python",
   "pygments_lexer": "ipython3",
   "version": "3.6.3"
  },
  "toc": {
   "nav_menu": {
    "height": "104px",
    "width": "160px"
   },
   "number_sections": false,
   "sideBar": true,
   "skip_h1_title": false,
   "toc_cell": false,
   "toc_position": {},
   "toc_section_display": "block",
   "toc_window_display": false
  },
  "varInspector": {
   "cols": {
    "lenName": 16,
    "lenType": 16,
    "lenVar": 40
   },
   "kernels_config": {
    "python": {
     "delete_cmd_postfix": "",
     "delete_cmd_prefix": "del ",
     "library": "var_list.py",
     "varRefreshCmd": "print(var_dic_list())"
    },
    "r": {
     "delete_cmd_postfix": ") ",
     "delete_cmd_prefix": "rm(",
     "library": "var_list.r",
     "varRefreshCmd": "cat(var_dic_list()) "
    }
   },
   "types_to_exclude": [
    "module",
    "function",
    "builtin_function_or_method",
    "instance",
    "_Feature"
   ],
   "window_display": false
  }
 },
 "nbformat": 4,
 "nbformat_minor": 2
}
