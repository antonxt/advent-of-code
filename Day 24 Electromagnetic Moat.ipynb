{
 "cells": [
  {
   "cell_type": "markdown",
   "metadata": {},
   "source": [
    "# Day 24 - Electromagnetic Moat\n",
    "[link](http://adventofcode.com/2017/day/24)"
   ]
  },
  {
   "cell_type": "markdown",
   "metadata": {},
   "source": [
    "## Part 1 - Strength of the strongest bridge\n",
    "The strength of a bridge is the sum of the port types in each component."
   ]
  },
  {
   "cell_type": "code",
   "execution_count": 1,
   "metadata": {
    "ExecuteTime": {
     "end_time": "2017-12-30T18:03:31.575666Z",
     "start_time": "2017-12-30T18:03:31.470672Z"
    }
   },
   "outputs": [],
   "source": [
    "class Bridge:\n",
    "    def __init__(self, available, pins=[0]):\n",
    "        self.available, self.pins = available, pins\n",
    "\n",
    "    def clone(self):\n",
    "        return Bridge(list(self.available), list(self.pins))\n",
    "\n",
    "    def next_components(self):\n",
    "        last_pin = self.pins[-1]\n",
    "        return [c for c in self.available if c[0] == last_pin or c[1] == last_pin]\n",
    "\n",
    "    def add_component(self, component):\n",
    "        assert component in self.next_components(), \\\n",
    "            f'Cannot add the component {component} that is not in the list of possible: {self.next_components()}.'\n",
    "        self.available.remove(component)\n",
    "        pin_1 = self.pins[-1]\n",
    "        pin_2 = component[1] if component[0] == pin_1 else component[0]\n",
    "        self.pins.append(pin_2)\n",
    "        return self\n",
    "\n",
    "    def is_final(self):\n",
    "        return not self.next_components()\n",
    "\n",
    "    def next_bridges(self):\n",
    "        if self.is_final():\n",
    "            return [self]\n",
    "        next_bridges = []\n",
    "        for component in self.next_components():\n",
    "            next_bridges.append(self.clone().add_component(component))\n",
    "        return next_bridges\n",
    "\n",
    "    def strength(self):\n",
    "        first, *middle, last = self.pins\n",
    "        return first + last + 2 * sum(middle)\n",
    "\n",
    "    def __str__(self):\n",
    "        first, *middle, last = self.pins\n",
    "        bridge_s = f'{first}/' + '/'.join(f'{c}-{c}' for c in middle) + f'/{last}'\n",
    "        available_s = ', '.join([f'{c[0]}/{c[1]}' for c in self.available])\n",
    "        return f'Strength={self.strength()} {bridge_s}, remaining: {available_s}'\n",
    "\n",
    "def build_bridges(ports):\n",
    "    available = [tuple(int(s) for s in p.split('/')) for p in ports]\n",
    "    bridges = [Bridge(available)]\n",
    "    while not min(map(lambda bridge: bridge.is_final(), bridges)):\n",
    "        next_bridges = []\n",
    "        for bridge in bridges:\n",
    "            next_bridges += bridge.next_bridges()\n",
    "        bridges = next_bridges\n",
    "    return bridges\n",
    "\n",
    "def max_strength(bridges):\n",
    "    return max(map(lambda bridge: bridge.strength(), bridges))"
   ]
  },
  {
   "cell_type": "code",
   "execution_count": 2,
   "metadata": {
    "ExecuteTime": {
     "end_time": "2017-12-30T18:03:31.581620Z",
     "start_time": "2017-12-30T18:03:31.577766Z"
    }
   },
   "outputs": [
    {
     "name": "stdout",
     "output_type": "stream",
     "text": [
      "Strength=18 0/2-2/2-2/3-3/4, remaining: 3/5, 0/1, 10/1, 9/10\n",
      "Strength=19 0/2-2/2-2/3-3/5, remaining: 3/4, 0/1, 10/1, 9/10\n",
      "Strength=14 0/2-2/3-3/4, remaining: 2/2, 3/5, 0/1, 10/1, 9/10\n",
      "Strength=15 0/2-2/3-3/5, remaining: 2/2, 3/4, 0/1, 10/1, 9/10\n",
      "Strength=31 0/1-1/10-10/9, remaining: 0/2, 2/2, 2/3, 3/4, 3/5\n"
     ]
    }
   ],
   "source": [
    "test_in = '0/2,2/2,2/3,3/4,3/5,0/1,10/1,9/10'.split(',')\n",
    "test_bridges = build_bridges(test_in)\n",
    "print('\\n'.join(str(bridge) for bridge in test_bridges))\n",
    "assert max_strength(test_bridges) == 31"
   ]
  },
  {
   "cell_type": "code",
   "execution_count": 3,
   "metadata": {
    "ExecuteTime": {
     "end_time": "2017-12-30T18:04:08.055777Z",
     "start_time": "2017-12-30T18:03:31.583261Z"
    }
   },
   "outputs": [
    {
     "name": "stdout",
     "output_type": "stream",
     "text": [
      "Answer to part 1 is: 1656\n"
     ]
    }
   ],
   "source": [
    "puzzle_in = [l[:-1] for l in open('in/day24.txt', 'r')]\n",
    "puzzle_bridges = build_bridges(puzzle_in)\n",
    "max_s = max_strength(puzzle_bridges)\n",
    "print(f'Answer to part 1 is: {max_s}')  # 1656"
   ]
  }
 ],
 "metadata": {
  "kernelspec": {
   "display_name": "Python 3",
   "language": "python",
   "name": "python3"
  },
  "language_info": {
   "codemirror_mode": {
    "name": "ipython",
    "version": 3
   },
   "file_extension": ".py",
   "mimetype": "text/x-python",
   "name": "python",
   "nbconvert_exporter": "python",
   "pygments_lexer": "ipython3",
   "version": "3.6.3"
  },
  "toc": {
   "nav_menu": {},
   "number_sections": false,
   "sideBar": true,
   "skip_h1_title": false,
   "toc_cell": false,
   "toc_position": {},
   "toc_section_display": "block",
   "toc_window_display": false
  },
  "varInspector": {
   "cols": {
    "lenName": 16,
    "lenType": 16,
    "lenVar": 40
   },
   "kernels_config": {
    "python": {
     "delete_cmd_postfix": "",
     "delete_cmd_prefix": "del ",
     "library": "var_list.py",
     "varRefreshCmd": "print(var_dic_list())"
    },
    "r": {
     "delete_cmd_postfix": ") ",
     "delete_cmd_prefix": "rm(",
     "library": "var_list.r",
     "varRefreshCmd": "cat(var_dic_list()) "
    }
   },
   "types_to_exclude": [
    "module",
    "function",
    "builtin_function_or_method",
    "instance",
    "_Feature"
   ],
   "window_display": false
  }
 },
 "nbformat": 4,
 "nbformat_minor": 2
}
