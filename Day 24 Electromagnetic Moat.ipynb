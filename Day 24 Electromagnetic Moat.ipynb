{
 "cells": [
  {
   "cell_type": "code",
   "execution_count": 2,
   "metadata": {
    "ExecuteTime": {
     "end_time": "2017-12-29T21:44:41.671152Z",
     "start_time": "2017-12-29T21:44:41.668195Z"
    }
   },
   "outputs": [],
   "source": [
    "test_in = '0/2,2/2,2/3,3/4,3/5,0/1,10/1,9/10'.split(',')\n",
    "puzzle_in = [s[:-1] for s in open('in/day24.txt', 'r')]"
   ]
  },
  {
   "cell_type": "markdown",
   "metadata": {
    "ExecuteTime": {
     "end_time": "2017-12-29T21:44:48.652271Z",
     "start_time": "2017-12-29T21:44:48.643948Z"
    }
   },
   "source": [
    "## Part 1 - Strength of the strongest brigde\n",
    "The strength of a bridge is the sum of the port types in each component."
   ]
  },
  {
   "cell_type": "code",
   "execution_count": 27,
   "metadata": {
    "ExecuteTime": {
     "end_time": "2017-12-29T22:17:53.940620Z",
     "start_time": "2017-12-29T22:17:53.904291Z"
    }
   },
   "outputs": [
    {
     "name": "stdout",
     "output_type": "stream",
     "text": [
      "{0: [2, 1], 2: [3, 2, 2, 0], 3: [5, 4, 2], 4: [3], 5: [3], 1: [10, 0], 10: [9, 1], 9: [10]}\n",
      "[], last pin: 0, available: {0: [2, 1], 2: [3, 2, 2, 0], 3: [5, 4, 2], 4: [3], 5: [3], 1: [10, 0], 10: [9, 1], 9: [10]}\n",
      "[(0, 1)], last pin: 1, available: {0: [2], 2: [3, 2, 2, 0], 3: [5, 4, 2], 4: [3], 5: [3], 1: [10, 0], 10: [9, 1], 9: [10]}\n",
      "[(0, 1), (1, 0)], last pin: 0, available: {0: [2], 2: [3, 2, 2, 0], 3: [5, 4, 2], 4: [3], 5: [3], 1: [10], 10: [9, 1], 9: [10]}\n",
      "[(0, 1), (1, 0), (0, 2)], last pin: 2, available: {0: [], 2: [3, 2, 2, 0], 3: [5, 4, 2], 4: [3], 5: [3], 1: [10], 10: [9, 1], 9: [10]}\n",
      "[(0, 1), (1, 0), (0, 2), (2, 0)], last pin: 0, available: {0: [], 2: [3, 2, 2], 3: [5, 4, 2], 4: [3], 5: [3], 1: [10], 10: [9, 1], 9: [10]}\n",
      "[(0, 1), (1, 0), (0, 2), (2, 0)]\n"
     ]
    }
   ],
   "source": [
    "def strongest(ports):\n",
    "    available = {}\n",
    "    def add_available(x, y):\n",
    "        available[x] = sorted(available[x] + [y], reverse=True) if x in available else [y]\n",
    "\n",
    "    for port in ports:\n",
    "        pin_1, pin_2 = (int(s) for s in port.split('/'))\n",
    "        add_available(pin_1, pin_2)\n",
    "        add_available(pin_2, pin_1)\n",
    "\n",
    "    print(available)\n",
    "\n",
    "    def build_bridges(available_, bridges=[]):\n",
    "        \n",
    "        for bridge in bridges:\n",
    "            pin_1 = bridge[-1][1] if bridges else 0\n",
    "            print(f'{bridges}, last pin: {pin_1}, available: {available_}')\n",
    "            if not pin_1 in available_ or not available_[pin_1]:\n",
    "                return bridges\n",
    "            while available_[pin_1]:\n",
    "                pin_2 = available_[pin_1].pop()\n",
    "                available[pin_2].remove(pin_1)\n",
    "                component = (pin_1, pin_2)\n",
    "                bridges.append(bridge)\n",
    "                return build_bridges(dict(available_), bridges)\n",
    "\n",
    "    bridges = build_bridges(available)\n",
    "    print(bridges)\n",
    "\n",
    "strongest(test_in)"
   ]
  },
  {
   "cell_type": "code",
   "execution_count": null,
   "metadata": {},
   "outputs": [],
   "source": []
  }
 ],
 "metadata": {
  "kernelspec": {
   "display_name": "Python 3",
   "language": "python",
   "name": "python3"
  },
  "language_info": {
   "codemirror_mode": {
    "name": "ipython",
    "version": 3
   },
   "file_extension": ".py",
   "mimetype": "text/x-python",
   "name": "python",
   "nbconvert_exporter": "python",
   "pygments_lexer": "ipython3",
   "version": "3.6.3"
  },
  "toc": {
   "nav_menu": {},
   "number_sections": false,
   "sideBar": true,
   "skip_h1_title": false,
   "toc_cell": false,
   "toc_position": {},
   "toc_section_display": "block",
   "toc_window_display": false
  },
  "varInspector": {
   "cols": {
    "lenName": 16,
    "lenType": 16,
    "lenVar": 40
   },
   "kernels_config": {
    "python": {
     "delete_cmd_postfix": "",
     "delete_cmd_prefix": "del ",
     "library": "var_list.py",
     "varRefreshCmd": "print(var_dic_list())"
    },
    "r": {
     "delete_cmd_postfix": ") ",
     "delete_cmd_prefix": "rm(",
     "library": "var_list.r",
     "varRefreshCmd": "cat(var_dic_list()) "
    }
   },
   "types_to_exclude": [
    "module",
    "function",
    "builtin_function_or_method",
    "instance",
    "_Feature"
   ],
   "window_display": false
  }
 },
 "nbformat": 4,
 "nbformat_minor": 2
}
