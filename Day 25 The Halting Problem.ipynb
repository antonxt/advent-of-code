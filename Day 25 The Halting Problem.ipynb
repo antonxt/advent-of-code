{
 "cells": [
  {
   "cell_type": "markdown",
   "metadata": {},
   "source": [
    "# Day 25: The Halting Problem\n",
    "[Link](http://adventofcode.com/2017/day/25)"
   ]
  },
  {
   "cell_type": "markdown",
   "metadata": {},
   "source": [
    "## Puzzle input\n",
    "Begin in state `A`.\n",
    "Perform a diagnostic checksum after `12317297`steps.\n",
    "\n",
    "### In state `A`:\n",
    "If the current value is `0`:\n",
    "- Write the value `1`.\n",
    "- Move one slot to the `right`.\n",
    "- Continue with state `B`.\n",
    "\n",
    "If the current value is `1`:\n",
    "- Write the value `0`.\n",
    "- Move one slot to the `left`.\n",
    "- Continue with state `D`.\n",
    "\n",
    "### In state `B`:\n",
    "If the current value is `0`:\n",
    "- Write the value `1`.\n",
    "- Move one slot to the `right`.\n",
    "- Continue with state `C`.\n",
    "\n",
    "If the current value is `1`:\n",
    "- Write the value `0`.\n",
    "- Move one slot to the `right`.\n",
    "- Continue with state `F`.\n",
    "\n",
    "### In state C:\n",
    "If the current value is `0`:\n",
    "- Write the value `1`.\n",
    "- Move one slot to the `left`.\n",
    "- Continue with state `C`.\n",
    "\n",
    "If the current value is `1`:\n",
    "- Write the value `1`.\n",
    "- Move one slot to the `left`.\n",
    "- Continue with state `A`.\n",
    "\n",
    "### In state `D`:\n",
    "If the current value is `0`:\n",
    "- Write the value `0`.\n",
    "- Move one slot to the `left`.\n",
    "- Continue with state `E`.\n",
    "\n",
    "If the current value is `1`:\n",
    "- Write the value `1`.\n",
    "- Move one slot to the `right`.\n",
    "- Continue with state `A`.\n",
    "\n",
    "### In state E:\n",
    "If the current value is `0`:\n",
    "- Write the value `1`.\n",
    "- Move one slot to the `left`.\n",
    "- Continue with state `A`.\n",
    "\n",
    "If the current value is `1`:\n",
    "- Write the value `0`.\n",
    "- Move one slot to the `right`.\n",
    "- Continue with state `B`.\n",
    "\n",
    "### In state F:\n",
    "If the current value is `0`:\n",
    "- Write the value `0`.\n",
    "- Move one slot to the `right`.\n",
    "- Continue with state `C`.\n",
    "\n",
    "If the current value is `1`:\n",
    "- Write the value `0`.\n",
    "- Move one slot to the `right`.\n",
    "- Continue with state `E`."
   ]
  },
  {
   "cell_type": "code",
   "execution_count": null,
   "metadata": {},
   "outputs": [],
   "source": []
  }
 ],
 "metadata": {
  "kernelspec": {
   "display_name": "Python 3",
   "language": "python",
   "name": "python3"
  },
  "language_info": {
   "codemirror_mode": {
    "name": "ipython",
    "version": 3
   },
   "file_extension": ".py",
   "mimetype": "text/x-python",
   "name": "python",
   "nbconvert_exporter": "python",
   "pygments_lexer": "ipython3",
   "version": "3.6.3"
  },
  "toc": {
   "nav_menu": {},
   "number_sections": false,
   "sideBar": true,
   "skip_h1_title": false,
   "toc_cell": false,
   "toc_position": {},
   "toc_section_display": "block",
   "toc_window_display": false
  },
  "varInspector": {
   "cols": {
    "lenName": 16,
    "lenType": 16,
    "lenVar": 40
   },
   "kernels_config": {
    "python": {
     "delete_cmd_postfix": "",
     "delete_cmd_prefix": "del ",
     "library": "var_list.py",
     "varRefreshCmd": "print(var_dic_list())"
    },
    "r": {
     "delete_cmd_postfix": ") ",
     "delete_cmd_prefix": "rm(",
     "library": "var_list.r",
     "varRefreshCmd": "cat(var_dic_list()) "
    }
   },
   "types_to_exclude": [
    "module",
    "function",
    "builtin_function_or_method",
    "instance",
    "_Feature"
   ],
   "window_display": false
  }
 },
 "nbformat": 4,
 "nbformat_minor": 2
}
